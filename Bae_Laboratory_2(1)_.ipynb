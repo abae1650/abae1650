{
  "cells": [
    {
      "cell_type": "markdown",
      "metadata": {
        "id": "view-in-github",
        "colab_type": "text"
      },
      "source": [
        "<a href=\"https://colab.research.google.com/github/abae1650/abae1650/blob/main/Bae_Laboratory_2(1)_.ipynb\" target=\"_parent\"><img src=\"https://colab.research.google.com/assets/colab-badge.svg\" alt=\"Open In Colab\"/></a>"
      ]
    },
    {
      "cell_type": "markdown",
      "metadata": {
        "id": "X66S2L3s-pNY"
      },
      "source": [
        "# Topic 03: Review of Statistics and Probability\n",
        "$_{\\text{©D.J. Lopez | 2021 | Fudamentals of Machine Learning}}$\n",
        "\n",
        "Another important topic to lay foundation for Machine Learning is Statistics and Probability. Since Machine Learning is based on statistical learning it is inevitable to learn these. We will be covering the following topics:\n",
        "* Population and Samples\n",
        "* Central Tendencies\n",
        "* Gaussian Distribution\n",
        "* Probabilities\n",
        "* Baye's Theorem\n",
        "* Classification Errors\n"
      ]
    },
    {
      "cell_type": "markdown",
      "metadata": {
        "id": "xVHYnsDbxTfQ"
      },
      "source": []
    },
    {
      "cell_type": "markdown",
      "metadata": {
        "id": "corKh_Iu_NdP"
      },
      "source": [
        "# Part 1: Basic Statistics"
      ]
    },
    {
      "cell_type": "code",
      "execution_count": null,
      "metadata": {
        "id": "hc0NYeW7s7fR"
      },
      "outputs": [],
      "source": [
        "import pandas as pd\n",
        "import numpy as np\n",
        "import scipy.stats as stats\n",
        "import matplotlib.pyplot as plt\n",
        "import seaborn as sns\n"
      ]
    },
    {
      "cell_type": "markdown",
      "metadata": {
        "id": "Edp8FLgO_2vP"
      },
      "source": [
        "## 1.1 Measures of Central Tendencies\n",
        "A fundamental statistical concept is identifying the centrality of a dataset. We normally study the measures of central tendency as a general approximation of a given set. We usually determine them using mean, median, and mode. \n",
        "### 1.1.1 Mean\n",
        "The average or arithmetic mean is computed as the ration of the sum of all values in collection to its size. It can be computed as:\n",
        "\n",
        "$$\\mu = \\frac{1}{M}\\sum^M_{i=0}x_i$$\n",
        "\n",
        "Whereas $x_i$ is an element of the set of $X$ which has a size of $M$."
      ]
    },
    {
      "cell_type": "code",
      "execution_count": null,
      "metadata": {
        "colab": {
          "base_uri": "https://localhost:8080/"
        },
        "id": "DtdC5vIAtqPo",
        "outputId": "5b205638-52a7-4472-91cb-316bbc41527c"
      },
      "outputs": [
        {
          "output_type": "execute_result",
          "data": {
            "text/plain": [
              "24.75"
            ]
          },
          "metadata": {},
          "execution_count": 2
        }
      ],
      "source": [
        "import numpy as np\n",
        "scores = [100, 20, 30, 15, 17, 12, 1, 3]\n",
        "scores = sorted(scores)\n",
        "np.mean(scores)"
      ]
    },
    {
      "cell_type": "markdown",
      "metadata": {
        "id": "DDX9tnY3_4VX"
      },
      "source": [
        "### 1.1.2 Median\n",
        "\n",
        "The median of a collection is determined as the center element accordinf to its indices or position. \n",
        "\n"
      ]
    },
    {
      "cell_type": "code",
      "execution_count": null,
      "metadata": {
        "colab": {
          "base_uri": "https://localhost:8080/"
        },
        "id": "EwzktvY9uF-I",
        "outputId": "94c32453-ee62-4a6e-b82e-2c1ab529dfdd"
      },
      "outputs": [
        {
          "data": {
            "text/plain": [
              "16.0"
            ]
          },
          "execution_count": 4,
          "metadata": {},
          "output_type": "execute_result"
        }
      ],
      "source": [
        "np.median(scores)"
      ]
    },
    {
      "cell_type": "markdown",
      "metadata": {
        "id": "Q62B1-DfdXrx"
      },
      "source": [
        "Find the median for the data 8, 5, 7, 10, 15, 21."
      ]
    },
    {
      "cell_type": "code",
      "execution_count": null,
      "metadata": {
        "colab": {
          "base_uri": "https://localhost:8080/"
        },
        "id": "q7BUWSP8dWdq",
        "outputId": "0e68f306-d2cf-46bb-cbd6-42ad2ef1aea1"
      },
      "outputs": [
        {
          "output_type": "execute_result",
          "data": {
            "text/plain": [
              "11.0"
            ]
          },
          "metadata": {},
          "execution_count": 3
        }
      ],
      "source": [
        "##code here\n",
        "import numpy as np\n",
        "score = [8, 5, 7, 10, 15, 21]\n",
        "score = sorted(score)\n",
        "np.mean(score)\n",
        "\n",
        "\n"
      ]
    },
    {
      "cell_type": "code",
      "execution_count": null,
      "metadata": {
        "colab": {
          "base_uri": "https://localhost:8080/"
        },
        "id": "Q2IgMpqIbdlW",
        "outputId": "22095176-ea24-4b75-fa5f-00018e6cd8ea"
      },
      "outputs": [
        {
          "data": {
            "text/plain": [
              "9.0"
            ]
          },
          "execution_count": 5,
          "metadata": {},
          "output_type": "execute_result"
        }
      ],
      "source": [
        "np.median(score)"
      ]
    },
    {
      "cell_type": "code",
      "execution_count": null,
      "metadata": {
        "colab": {
          "base_uri": "https://localhost:8080/"
        },
        "id": "HaP8l01suJKQ",
        "outputId": "9b0b477d-1d9f-4308-e61b-6a05c2bbd7f9"
      },
      "outputs": [
        {
          "output_type": "stream",
          "name": "stdout",
          "text": [
            "mean: 86.77777777777777 \n",
            " median: 87.0\n"
          ]
        }
      ],
      "source": [
        "## well-grouped scores\n",
        "import matplotlib.pyplot as plt\n",
        "group1_scores = sorted([80,84,89,90,100,88,87,81,82])\n",
        "\n",
        "print(f\"mean: {np.mean(group1_scores)} \\n median: {np.median(group1_scores)}\")"
      ]
    },
    {
      "cell_type": "markdown",
      "metadata": {
        "id": "hJXRsHk2eDF3"
      },
      "source": [
        "![Screen Shot 2022-09-06 at 7.06.18 PM.png](data:image/png;base64,iVBORw0KGgoAAAANSUhEUgAABH4AAAGeCAYAAADiycY8AAAMa2lDQ1BJQ0MgUHJvZmlsZQAASImVVwdYU8kWnltSSWiBCEgJvQkivUgJoQUQkCrYCEkgocSYEFRsWBYVXLuIYEVXRRRdXQFZVMReFsXeFwsqyrqoi6KovAkJ6LqvfO9839z575kz/yl35t47AGj18qTSXFQbgDxJviw+PJg1LjWNRXoKSIAMMEAHbjy+XMqOi4sGUAb7v8u7GwBR9ledlFz/HP+voisQyvkAIBMgzhDI+XkQNwOAb+BLZfkAEJV6y2n5UiUuglhPBgOEeI0SZ6nwLiXOUOGmAZvEeA7ElwEg03g8WRYAmvegnlXAz4I8mp8gdpEIxBIAtEZAHMAX8QQQK2MfkZc3RYnLIbaD9lKIYTzAO+Mbzqy/8WcM8fN4WUNYldeAkEPEcmkub8b/WZr/LXm5ikEfNrDRRLKIeGX+sIa3cqZEKTEN4i5JRkysstYQ94oFqroDgFJFiogklT1qzJdzYP0AE2IXAS8kCmJjiMMkuTHRan1GpjiMCzFcLeh0cT43EWIDiBcL5aEJapstsinxal9oXaaMw1brz/JkA36Vvh4ocpLYav43IiFXzY9pFooSUyCmQmxVIE6OgVgTYmd5TkKU2mZ0oYgTM2gjU8Qr47eCOF4oCQ9W8WMFmbKweLV9SZ58MF9si0jMjVHjA/mixAhVfbCTfN5A/DAX7LJQwk4a5BHKx0UP5iIQhoSqcseeCyVJCWqeXml+cLxqLk6V5sap7XELYW64Um8Bsbu8IEE9F0/Oh4tTxY9nSvPjElVx4oXZvMg4VTz4ChANOCAEsIACtgwwBWQDcWtXfRe8U42EAR6QgSwgBE5qzeCMlIERCbwmgELwB0RCIB+aFzwwKgQFUP95SKu6OoHMgdGCgRk54CnEeSAK5MJ7xcAsyZC3ZPAEasT/8M6DjQ/jzYVNOf7v9YParxo21ESrNYpBjyytQUtiKDGEGEEMI9rjRngA7odHw2sQbK64N+4zmMdXe8JTQhvhEeE6oZ1we7J4vuy7KMeAdsgfpq5Fxre1wG0gpwcejPtDdsiMM3Ej4IS7Qz9sPBB69oBajjpuZVVY33H/LYNvnobajuJCQSnDKEEUu+9najpoegyxKGv9bX1UsWYM1ZszNPK9f8431RfAPup7S2wxdhA7gx3HzmFNWD1gYcewBuwidkSJh1bXk4HVNegtfiCeHMgj/oe/wSerrKTcpcal0+WTaixfOD1fufE4U6QzZOIsUT6LDb8OQhZXwncewXJ1cXUFQPmtUb2+3jIHviEI8/xX3QJzAPxn9Pf3N33VRcF37sEjcPvf+aqz7YCvifMAnF3HV8gKVDpceSHAt4QW3GmGwBRYAjuYjyvwBH4gCISCSBALEkEqmASjF8F1LgPTwCwwDxSDUrACrAUVYDPYBnaBveAAqAdN4Dg4DS6Ay+A6uAtXTwd4CbrBO9CHIAgJoSMMxBAxQ6wRR8QV8UYCkFAkGolHUpF0JAuRIApkFrIAKUVWIRXIVqQa+Rk5jBxHziFtyG3kIdKJvEE+ohhKQ/VQE9QGHYl6o2w0Ck1EJ6JZ6FS0EF2ILkPL0Sp0D1qHHkcvoNfRdvQl2oMBTANjYuaYE+aNcbBYLA3LxGTYHKwEK8OqsFqsET7nq1g71oV9wIk4A2fhTnAFR+BJOB+fis/Bl+IV+C68Dj+JX8Uf4t34FwKdYExwJPgSuIRxhCzCNEIxoYywg3CIcArupQ7COyKRyCTaEr3gXkwlZhNnEpcSNxL3EZuJbcTHxB4SiWRIciT5k2JJPFI+qZi0nrSHdIx0hdRB6iVrkM3IruQwchpZQp5PLiPvJh8lXyE/I/dRtCnWFF9KLEVAmUFZTtlOaaRconRQ+qg6VFuqPzWRmk2dRy2n1lJPUe9R32poaFho+GiM1RBrFGmUa+zXOKvxUOMDTZfmQOPQJtAUtGW0nbRm2m3aWzqdbkMPoqfR8+nL6NX0E/QH9F5NhqazJldToDlXs1KzTvOK5istipa1FltrklahVpnWQa1LWl3aFG0bbY42T3uOdqX2Ye2b2j06DJ1ROrE6eTpLdXbrnNN5rkvStdEN1RXoLtTdpntC9zEDY1gyOAw+YwFjO+MUo0OPqGerx9XL1ivV26vXqtetr6vvrp+sP12/Uv+IfjsTY9owucxc5nLmAeYN5sdhJsPYw4TDlgyrHXZl2HuD4QZBBkKDEoN9BtcNPhqyDEMNcwxXGtYb3jfCjRyMxhpNM9pkdMqoa7jecL/h/OElww8Mv2OMGjsYxxvPNN5mfNG4x8TUJNxEarLe5IRJlynTNMg023SN6VHTTjOGWYCZ2GyN2TGzFyx9FpuVyypnnWR1mxubR5grzLeat5r3WdhaJFnMt9hncd+SaultmWm5xrLFstvKzGqM1SyrGqs71hRrb2uR9TrrM9bvbWxtUmwW2dTbPLc1sOXaFtrW2N6zo9sF2k21q7K7Zk+097bPsd9of9kBdfBwEDlUOlxyRB09HcWOGx3bRhBG+IyQjKgacdOJ5sR2KnCqcXrozHSOdp7vXO/8aqTVyLSRK0eeGfnFxcMl12W7y91RuqMiR80f1TjqjauDK9+10vWaG90tzG2uW4Pba3dHd6H7JvdbHgyPMR6LPFo8Pnt6eco8az07vay80r02eN301vOO817qfdaH4BPsM9enyeeDr6dvvu8B3z/9nPxy/Hb7PR9tO1o4evvox/4W/jz/rf7tAayA9IAtAe2B5oG8wKrAR0GWQYKgHUHP2PbsbPYe9qtgl2BZ8KHg9xxfzmxOcwgWEh5SEtIaqhuaFFoR+iDMIiwrrCasO9wjfGZ4cwQhIipiZcRNrgmXz63mdkd6Rc6OPBlFi0qIqoh6FO0QLYtuHIOOiRyzesy9GOsYSUx9LIjlxq6OvR9nGzc17texxLFxYyvHPo0fFT8r/kwCI2Fywu6Ed4nBicsT7ybZJSmSWpK1kickVye/TwlJWZXSPm7kuNnjLqQapYpTG9JIaclpO9J6xoeOXzu+Y4LHhOIJNybaTpw+8dwko0m5k45M1prMm3wwnZCekr47/RMvllfF68ngZmzI6OZz+Ov4LwVBgjWCTqG/cJXwWaZ/5qrM51n+WauzOkWBojJRl5gjrhC/zo7I3pz9Pic2Z2dOf25K7r48cl563mGJriRHcnKK6ZTpU9qkjtJiaftU36lrp3bLomQ75Ih8orwhXw/+1F9U2Cl+UDwsCCioLOidljzt4HSd6ZLpF2c4zFgy41lhWOFPM/GZ/Jkts8xnzZv1cDZ79tY5yJyMOS1zLecunNtRFF60ax51Xs683+a7zF81/68FKQsaF5osLFr4+IfwH2qKNYtlxTcX+S3avBhfLF7cusRtyfolX0oEJedLXUrLSj8t5S89/+OoH8t/7F+Wuax1uefyTSuIKyQrbqwMXLlrlc6qwlWPV49ZXbeGtaZkzV9rJ689V+ZetnkddZ1iXXt5dHnDeqv1K9Z/qhBVXK8Mrty3wXjDkg3vNwo2XtkUtKl2s8nm0s0ft4i33NoavrWuyqaqbBtxW8G2p9uTt5/5yfun6h1GO0p3fN4p2dm+K37XyWqv6urdxruX16A1iprOPRP2XN4bsreh1ql26z7mvtL9YL9i/4uf03++cSDqQMtB74O1v1j/suEQ41BJHVI3o667XlTf3pDa0HY48nBLo1/joV+df93ZZN5UeUT/yPKj1KMLj/YfKzzW0yxt7jqedfxxy+SWuyfGnbh2cuzJ1lNRp86eDjt94gz7zLGz/mebzvmeO3ze+3z9Bc8LdRc9Lh76zeO3Q62erXWXvC41XPa53Ng2uu3olcArx6+GXD19jXvtwvWY6203km7cujnhZvstwa3nt3Nvv75TcKfvbtE9wr2S+9r3yx4YP6j63f73fe2e7Ucehjy8+Cjh0d3H/Mcvn8iffOpY+JT+tOyZ2bPq567PmzrDOi+/GP+i46X0ZV9X8R86f2x4Zffqlz+D/rzYPa6747Xsdf+bpW8N3+78y/2vlp64ngfv8t71vS/pNezd9cH7w5mPKR+f9U37RPpU/tn+c+OXqC/3+vP6+6U8GW/gVwCDDc3MBODNTgDoqQAw4D8EdbzqLDggiOr8OoDAf8Kq8+KAeAJQCzvlbzynGYD9sNkUQW7YK3/hE4MA6uY21NQiz3RzVXHR4EmI0Nvf/9YEAFIjAJ9l/f19G/v7P2+Hwd4GoHmq6gyqFCI8M2zxV6LrBoIi8J2ozqff5Ph9D5QRuIPv+38BdYmQ9awXB4wAAACKZVhJZk1NACoAAAAIAAQBGgAFAAAAAQAAAD4BGwAFAAAAAQAAAEYBKAADAAAAAQACAACHaQAEAAAAAQAAAE4AAAAAAAAAkAAAAAEAAACQAAAAAQADkoYABwAAABIAAAB4oAIABAAAAAEAAAR+oAMABAAAAAEAAAGeAAAAAEFTQ0lJAAAAU2NyZWVuc2hvdLGKYLQAAAAJcEhZcwAAFiUAABYlAUlSJPAAAAHXaVRYdFhNTDpjb20uYWRvYmUueG1wAAAAAAA8eDp4bXBtZXRhIHhtbG5zOng9ImFkb2JlOm5zOm1ldGEvIiB4OnhtcHRrPSJYTVAgQ29yZSA2LjAuMCI+CiAgIDxyZGY6UkRGIHhtbG5zOnJkZj0iaHR0cDovL3d3dy53My5vcmcvMTk5OS8wMi8yMi1yZGYtc3ludGF4LW5zIyI+CiAgICAgIDxyZGY6RGVzY3JpcHRpb24gcmRmOmFib3V0PSIiCiAgICAgICAgICAgIHhtbG5zOmV4aWY9Imh0dHA6Ly9ucy5hZG9iZS5jb20vZXhpZi8xLjAvIj4KICAgICAgICAgPGV4aWY6UGl4ZWxZRGltZW5zaW9uPjQxNDwvZXhpZjpQaXhlbFlEaW1lbnNpb24+CiAgICAgICAgIDxleGlmOlBpeGVsWERpbWVuc2lvbj4xMTUwPC9leGlmOlBpeGVsWERpbWVuc2lvbj4KICAgICAgICAgPGV4aWY6VXNlckNvbW1lbnQ+U2NyZWVuc2hvdDwvZXhpZjpVc2VyQ29tbWVudD4KICAgICAgPC9yZGY6RGVzY3JpcHRpb24+CiAgIDwvcmRmOlJERj4KPC94OnhtcG1ldGE+CtJYhvoAAAAcaURPVAAAAAIAAAAAAAAAzwAAACgAAADPAAAAzwAAiwm31WBrAABAAElEQVR4AeydBbxmRfnHZymJRXIJl5VYkJIOpUMUpUNACUHplJZculMWREJKulOQbpZYYulO6aVDEHn/8xv/z+F5587peeve33w+957znjNn4jv9zDMzg7788suGoSEBEiABEiABEiABEiABEiABEiABEiABEuh3BAZR8NPv0pQRIgESIAESIAESIAESIAESIAESIAESIAFHgIIfZgQSIAESIAESIAESIAESIAESIAESIAES6KcEKPjppwnLaJEACZAACZAACZAACZAACZAACZAACZDAoOeee457/DAfkAAJkAAJkAAJkAAJkAAJkAAJkAAJkEA/JEDBTz9MVEaJBEiABEiABEiABEiABEiABEiABEiABEBgUMMaoiABEiABEiABEiABEiABEiABEiABEiABEuh/BCj46X9pyhiRAAmQAAmQAAmQAAmQAAmQAAmQAAmQgCNAwQ8zAgmQAAmQAAmQAAmQAAmQAAmQAAmQAAn0UwIU/PTThGW0SIAESIAESIAESIAESIAESIAESIAESICCH+YBEiABEiABEiABEiABEiABEiABEiABEuinBCj46acJy2iRAAmQAAmQAAmQAAmQAAmQAAmQAAmQAAU/zAMkQAIkQAIkQAIkQAIkQAIkQAIkQAIk0E8JUPDTTxOW0SIBEiABEiABEiABEiABEiABEiABEiABCn6YB0iABEiABEiABEiABEiABEiABEiABEignxKg4KefJiyjRQIkQAIkQAIkQAIkQAIkQAIkQAIkQAIU/DAPkAAJkAAJkAAJkAAJkAAJkAAJkAAJkEA/JUDBTz9NWEaLBEiABEiABEiABEiABEiABEiABEiABCj4YR4gARIgARIgARIgARIgARIgARIgARIggX5KgIKffpqwjBYJkAAJkAAJkAAJkAAJkAAJkAAJDBQCf//73822227ronvXXXeZ+eabb6BEPTeebRX8nHrqqebpp582gwYNMgcffLCZeOKJcwPYaxZeeOEFc/fdd5uXXnrJfPrpp0nw99hjDzPttNMmv2PdnHnmmebmm28OOnfQQQeZWWaZJfhOP9xll13M22+/rR+5+/HHH9+cddZZfZ730oMPP/zQjBw50gUZBX/11VfvpeC3NKzvvfeeOfTQQ50fP/nJT8xvfvOblvpHx0mABPo/gYHQzvf/VGQMSSAugXPPPdeMHj3aOTpixAgzxRRT5HrA/lsuolQLt912m7n66qvd+0033dT8+Mc/TrXb7S+6uU157LHHzFVXXeUQYnzRagHDa6+9Zo477jjn37LLLssxTSDzfvbZZ2b48OHm3XffNUsttZS58847A7ayH7U7XbNDE/dtruDnkksuMWeffXZlXyHwWHLJJd33v/zlL80///lPd48EGTJkSGV3u/FDCFrQoIXMmDFjzDzzzBN6VevZ1ltvbf76178G3bjvvvvMT3/60+A7/RAFBIKqkGk0GqHHPfPs2WefNXPMMYcL74YbbmggBab5HwEIYeeaay73Y5NNNjEQItKQAAmQQB0C/b2dr8OG35LAQCWwwQYbmPPPP99F//nnnzezzjprLgr233IRpVo48sgjzZ/+9Cf3/oorrjBrrLFGqt1uf9HNbcoZZ5xhIFiDOf3005P7VjEdNWqUWWyxxZzzO+20kzn22GNb5VXPunvAAQeY/fff34X/9ttvN8sss0zpuLQ7XUsHsM4HdmCfaawwAyP/yn8XXHBB4v6KK66YuGMFP8nz/nBzxx13JHEDr0knnbSx4IILJn9WsNKSaF544YWN7bbbLvn70Y9+lITDCn4K+XnggQcm38Mtnd6FHOhiS88880wSHyv46eKQtj9oTz31VMLGCn5aHoBDDjkk8c9qqbXcP3pAAp0g8POf/zzJ559//nknghDFTztLlsTDdqIKu9mf2/nCEGiRBEigicD666+f1CdW8NP0Lu0H+2+NxldffZVws9oLaaj6PD/iiCOS76zgp8/7XnrQzW3K3/72t4SzFfy0HCvGdTJGs4Kf2v5Vbedre9wiB95///2ET5ny4gen3enq+9/K3ybPcbtMpjHNNNP0+YNgQzIfriE7eHbNNdckXnRz4U0CWfFmo402SnhYNbyKrtT/bMcdd0zCUVTw4/tqtUASN/x3vfb7xRdfTOKyxRZb9FrwWxredgt+rBQ+SQur+dfSuNFxEugUAXQ2pG20y307FYza/t56661JPPbaa6/C7vXndr4wBFokARJoIlBF8MP+W6Px73//O6mHF1lkkSamWT8o+MmiE++dXUWQpA/uW21iC36qtvOtjmdV948//vgkPc4555yqzjTana6VA1rhw1zBT5qbb731VgIXndwipj93CO2SqoQHKupOGQp+OkW+9/yl4Kf30owh7n4CFPz0X83e7s99DCEJdCeBKoKf7oxJe0NFwU+j0Z/HjmVzEwU/6cT++9//Nuy+tslY/OOPP063PIDfFJPYBABR8NMMBdpNEIBBE6qThoKfTtLvLb8p+Omt9GJoe4MABT8U/PRGTmUoSaB9BCj4qcaagh8KfnTOoeBH02i+v+eeexKhjz2spvklfyUEcjd3tsKMoMEpUNNPP33yzrqY3Kfd+Bt0vfnmm+biiy82N910k3nwwQfdRrPYhAknfk055ZRpzrjn8O+iiy4yVk3NnRTw8MMPuxOsFl10UWOlw2bjjTd2p4dlOlLj5TbbbGO++eabxIXTTjstud98882Te7nBZlOalzzH9frrrzfYfA0nHiAeM8wwg9u8Cxsz4zi6733ve9p65j02+7Kqbs6OrSAKbe7sOzj33HMbKxRwj4ukq3xvpa0GHHB03kMPPWSee+45M++88xq715FZaaWVzDrrrCNW3RXxPeWUU9z9uuuua1ZYYYWm92k/PvroI7P77ru71/PPP79BWoj54osv3KZe3377rTxKrgsvvHDuyVWSrsOGDTP77ruvue6668w//vEPc8MNN7gNsJdYYgmz8sorm912282MN954iduhG5xiYZc6Gmwu9uWXX5pf/OIXxu7/YeySM4ONwD/55BN3ssXee+8d+jzKM/j75z//2e1qj9PmJptsMsd5vfXWMzPOOGPu5s44pQ4bsuMPGy0iTWHAAacXLL300gZuhYzd38vgZAkxtlJO8tXyyy/vdt2Xd7iOO+645qSTTjLjjDOOfmyQlsgrKCd2Ly3zyiuvuLSwwlazwAILuHCsueaalfJ6k0cFf2AzdZRTGKtObXD6HfI90lueI8+DC9J68skn7+Py66+/7jYCRLxQ98npA8ijO+ywg5lpppn6fIMHTz75pEtP3K+22mou7ieffLI72Q/uwF+kyZZbbplsag67IfOvf/3LoF6CwTfY/Pz+++93mwXee++95o033nB1EU58Q72CNA8Z2L300kvNI4884vK6FX4797ABIb7LO71RTm658cYbDTb9BAu4MdtssxnU56ussoorO+CcZuq0B3XLPDYRRFsmxu67lpzoaJcAmwknnFBeueucc87puDQ9VD9QZpCmSGuph3E6I3igDcXJITPPPLP6Is6tro/hIk4PkcMY7N5xwQ0SUQ/7m7T2p3ZeyKLuQ7v6wAMPuDyKEztR/yBNUJchjyKv+ubVV181Rx99tHsMe6infGMHdq49Qx6effbZjd1nz7eS/EZ5svtGuYMx7J5pLo0QLrRTqJtRbhZaaCFX/n/961+7NurEE080OFwCJpReieP2BmVZTvL82c9+llq3Vynzu+66q2vz4B/qzaxTndBmykbAyy23nPntb3+rgxntPkZdjj4H+jHIG/jDQRno96DeRJ2KujXLoI1GGqJtQ3lDWUec0SdCfX744Ye7z+Ge34fCi7Fjx7o+NPopqDNQhyJ/IgxoH/GHdmiiiSbKCoaJ0R4gX+AwGPQ1UHfh1CHEZfvtt3f5WtI0bXNn9t+MKyPoX0rf+z//+U9SJlG+Q6evol751a9+1ZS+/ubOGE/gcBO0L+hLyTgD/dwiB89UKfNNAarxI2abUre8Il9j49+QQZ/PLscLvWp6VqfM+5s7oy5FmUO6YrwBs/jii7syv9ZaazX5ix+x2nlxOEb/Tdyqe8UpxTKeQh9qq622KuxknXTFmEROSMYYDxupl0mTwoGMZdFWLpVMXY0fW/Ekkjkbl6Z7WyE1bCOUGi57DHXDdn6bvvHdsBVh44MPPkh1o+4L37+837bj1cdLbNq28847Z8YDa3qxzrmo6ZTGD/KD3tQ0xMMK4xr2mL0kKrYCSuJud8VPnufdYGNgcd82kE3WkTfknX8tsrmzfIN9jvTmXvJcrraRbUCtMGRsQ92wg8nUcNiTFpxmGNyCplirzDvvvNOwg/XUcNgGP3kX2tzZCjGS9xLv0BVcQ3uZ2BPnCn2v3QQ735xwwgmF3LEDrIYVEvmfR/+NukXCbAVjDSsITH7Lc7naQVcf/62wO0l/saevtnPXuPLKK/t8hwe2c5/4hTTTaq2+G7fcckvQDXmo0xflz3bWE7e1W3Iv38n166+/buy3336Z36Ac2cGIfNLnqmevxJ/Q9dFHH+3zrTyo2x6If1XLfFoaiLv+1Q6GJOhNVzuR0MAslW/f/4381wqDgwJ8v/J+41AD32i1/F5v5xE3lOE8DngfMjp/W6FNyErDdpwT9/M2o5RwoI+EAzJE01ie66s9jtb5d9hhhyXuY5+1LKO1MuyJrn2s1inzeh9EezxzH7f1A7SvEpdQOLTdOvd163Iw1gdqSJj1FcxD7RrCjTTMaqPtYCLhEGqj4Yb2K+3eCpBy+5F12wN7KmhqWLAVgk7TtM2d2X9rNOyESyrHtPTFITy+0Xv8YNNhvXen7w72eUkzdcp8mptln8dqU+qWV4QbfTOfn/wusrlz3TKv2xQ7SdjAuEr896/IA76J1c7DXR0W32/9O6v/5oevzm89BrUToaWcqpOumkOVNCkV0AiWO6bxYzOFM5gRwIwEJGbQehGz5557JhI0eYYrpLWYFcNstBjMqmLWEbNrOH4esx0w0My49tprxVrUK45RhyRejBUSyG3wOD9oePgaPzhqEVJ5MZAUQoMF2lQ2EybxgGQemhdFNH8wI9hujR+bDw00FUTbAfHBbBW0FnBkuEih8dx2LM15552HW8dvggkmcPeYUcasahGDGTDkDxj/mErMhv7hD39IZkugHQSNMhjMvmHGI8sMGjSoz2vbOXRxsYXbQNouBrMmmInwjR0MG3tSWvIYGmiYhcUsF/KnNpg1tgIa/SjaPTQuJLyYKYIU+gc/+IGbWZTn4pntVPY5zh0zA0hXGJkdQjnDzCFmNWVmGO9RjjHjoA00fqzwIXkEfqLBgNlvX2sBGh0hjR/kZ+RrGMxiQtMI4YDGHfIcZrvFgDtmsFppMIsidZVtdJ1kH/4hLTHbgzwIdqiHMNsOrT0x0AzC7KsYzOhiZh3aTtCUg1aUGKQRZnm1QZ6D9pw28BdhQrrIzL+8R70xfPhw+dl0hYYO/IdBHsVvaNvA4Dm03lB+RcsL5VwbfTwvnqO+RT5HmUO9izwCg/DBDWibaWM7lM4P8RMz3Zgxg33UgfZEF3PVVVe5T5DOaCd8E6M9qFvmR4wY0aTxAy1WaYPQNkkdJ2G3HXBjBf7yM7lihkprL6IOBU9wt8J/V27BERo/aB9iG+RZhEEMNH6k7kT9bIUS8iq57rHHHpkaP2KxV9t5aMqgvhEDrTfU+ZNMMonrs6DMoNzC+OUDz1CG847eRXkR7Rcwtqes4NOgkbyKMoLyoDWyoEkGzTNo/sHYQY6rL5F3RCsLZQx1grijPbGTMk5jSJ6hHvO19eqUeWjxQPsDBvUktGNCBponaG9g0G6hfvC15kLfVXlWpy738wbSZO211zbTTjutefzxx81ll12WBAlaX7vsskvyW26WXHLJpjof2hxII2hXgJc2oTYa7yUtwQraRSirQ4YMcXkBdZHUr3iPPrLkNe027uu0B9DWRBsiBumLNh71+OWXX57Uh/I+TeOH/bf/afzo9gGa9NLXQhqiXfAN+qhof7XRGj/yHG0P6mK0m+Im3mWVxzplXvyte9UaP+JW2TYlRnmF32gnoWUjBuMWuA1T5Dj3umVetykSBtQ96BcOHjzY9Q30+NgKU83UU08tVl34Y7TzMfpvSaAi3GBlAPrRYqBJW2TMLPbrpGvdNJEwtO1qOyuVTF2NHxvBhl0a0eQ3jn7Hc/zZCi6oUYGjx8WOHQQ2MOOujW3YmiTb+lQxbS/2vS14SbiLuO3z8yXFOMYSs3oS17wZMvGzExo/dpCXhBPpZjt0Ehx3tYO35D3iozUAtIS2qIaW1vayHd0mv/wfZY8DFd64Ik0xCyYGGj5aiyU08444aDfsQF8+d1etsSF+NFmI9APaHhIOpInM/sJ5aMVg9lne42o7lX18toP+xqqrrtrArH1Iu8kODJtmnO0yoT5u6AeY+RQ/7YBFv8q8x+76VmWzKQ76A7gl7iKutvOoX0e/17PE8Bd+gpE2tmPVsB2vhu38J4+tSn6Tpg9O/9NckS54JnGxnbEGtEC08fMPZvFs5zqxAn+1BpJdNpK882+Qt8UvuWJW3t8QzzaIDTzXxg5Kkm8Rf2jhaYM00NoDvmYe7FqhQuIGZr2xl4FvoLUGjQXMgoZMjPZA4o5rlTLvh6vqHj965h91qm+QP8DMr1N8e7F+Vz3tQ8/Ogmkvt/NWqJfkUbtMKoj2iSeecJpvoZd6JjCmxo/kWWhyWGFgk9doE1Ffak1hnbfsMuwm+/JDzwSH2oO6ZR51ndaOA7eQgeamxM8KS0JWoj2rWpcjAHbgmYQTWq926XZTuKANJ/HA1dditxMlyXvUoX6/yS4hTd7j+1CawEP0oezSk2C7h3pYl0ewTTN12gOdv9BH0u0a+nvSPxYeaRo/ftgGav9Nc4ixxw+4oy+gNc80W7wPaWXULfM6HnXudR5GWKu0KXXLa1r49coAfxznfxOjzOs2BSxQ9qApJwb9N7QLeIe/kNa52MW1ajsfo/+mw1H3Xo+9UN/UNWXSNXaa1A173veYpapkfMFFEUd04bVrlft8go6tVpvVAxpYRsMpmRlX3bHRjqFjI/byVKf1d3XupWFDA17E6A5lSIAAN+y+GUk8IAQqYjoh+NGN/siRI4PBtGu8k7hYjZzEDlRUJa304BENFDq0+IMqvBjkETDGN+hE5hnduJVZ6gX3//KXv/RxXudB5FXf6E4rBuAhYzU+kjjHqKBCfmi1aiyV8g34Sp5FXNM6lf53/m+kt6RfSK1U268q+NFupN3rDjwq4VYa7Rfibmd7Cnmnl3WiPKQZLdhER0EbX/ATWmrjq4pD4BQyfkffziSGrAWfQegu6Y56KmQwENJ5zBfIQZgtblgNvpATmc90WYQ7VdsDCQOuVcq8H8iqgh+p1xAOvSTWd79dv6t2CPtTO6+Fl75wt0g66A5hbMEPypZfptLCZPeyScoalhqHjK530Kn3TYwyD2G4lLe0cOg+YNG61Q9r0d9V63I9mYVBVkhojTBYbdUkvv4yOy2gP+aYY/oEGX0dLSir2kbreh5lM81oe0ijou2Bne1O4og6LMRCD6LgdjsEP1Xq8m7pv+k0iiH4QV0RShcIg6Q86kkq8T9GmRe36lzrtikxymta+HXezhP8xCjzuk1B2oXqSCyPlXTF0qMsU7Wdr9t/ywpTlXcYK0qckW/rmjLpGjtN6oY97/uOCX4wgAkZDM4l8XwJNComeaeFByF3dIXlz5qH7Nd9JgOcooIfXQGEZncRHuwBpAcD77//fm4w2y34QedE0gTXtDDqToUulFozBTP7YvTu7Bgwi8HgTvwrsi9QHcGPVcEXb5uuOk2aXtgfeo8OrBkNGbs0IIkD8k0rjA6jL0AV/+yStCQcVTuVegYjbWAj/rVS8KPdtsuwxMuWXPVgoYgwUQKhBzRpQgrYhZai5PFjjz1WPndXLfiBMFjPrGqLuqOEvXtCRpdJ+AcNryIG+UnCl5d/oekjdv0113YJQPIOcUF9V8bEag8kfLhWKfN+mKsKfvQeDNgvo9OmaodQ571eb+d1e4q9FMoa3SFMqx+r7PGDvJo3yNBhheac5HOUWb/egHBYv9eaAXAnVpmHNpL4gzYK+4doA60XeQ+Nx1abqnU5BlMSznPOOSc1mJortGe10W000idk7AbeiT9V22i7kWziBuqYNFO1PbAbWyfup+Vx1KvCC9d2CH6q1OXd0n/TaRRD8JMmZEUdIunia4bEKvM6LlXv67YpMcprWtjLCAhilHndpkDoHDJ63IM6LstUbefr9t+ywlTlHVYcSF6GdlddUyZdY6dJ3bDnfd8xwU+amq+eFbdr3ZvCb/d2SRJWErjI1V8O1uRopB9lBT96EIglM2lGqyf6grDQN7qjisxYxegBSN73unHI0sBBB0+nlbgLrQB5rjtGeiCv3cXGuGK/yOBIV4BFBuniNiroNKOFin7HFZ1VccNXwRf39AaGeQNn+abMFdoCEoYs9/XAOatTiRkFbFaNvKiXH4ofcsXygiyj07TMUi+4CQEjZtwxA4+NIqW8id/6iiWjrTR6sFDULwykdBiL3vvpogU/WQ06OnriR1oYdUdfl7E8dlooK34UudpTDpqctvu6JWHE90hTbDiOvJGmpaQdiNUeSNirlnkdJtxXFfzoZaQIE9IXHXO0lf5A3PezFb+rdgh1J73X23m9/AlpgvodWgFoW4to2+gOYdqguKrgx54MWCrZ0b5KXsfkgzZ6Y1490SJ2YpV5uGf3wUnC4U96ac1gdLxbbarU5QiTzuPCNO+q22Ld79HP/fjqDUf9tkDbRT8M7Ss0fXXf0g9TVj1ftT3YZ599kvTEkrM0o8PVasFP1bq8G/pvPr8Ygh9o/IWM1oSxpyk3WYlZ5pscrvBDl7cqbYr+3i8Tab+zyqWOQlEBQawyr9uUNK08TMBLvOxeWzq4fe6rtvN1+299AlLzgd1XLYlzjEmDoumKYMdOk5oocj/vmOAnbYZDD1iQIbWBlo9k5jLXtDXt2u2696gkEKasBkf88LVkQiqYYlermhfZr6jdgp8yy+rARtJN7+cj61HxHmxgdAOMb+xGse651iAooqFQVfCTNTMm4UW4/LTTcUybccJsq3Ao2ri4yBf8p+OcNiMAp7TmUahTCaGWzn8S5rRrqwQ/WLqkhW1p/svzNEFHQXy51vRgAZ2jIkZrqkk4i1y1MBT+aMEPhHFpBppC4v5RRx0VtKY7+ugYFTWY4Ra3y1yxf5Fv9Mkjvlsog1gKig5TyMRqD8TfqmXeD1tVwQ8Gb1mCVXTy/KV/vt8xf1ftEOpOdq+386irtXau5BW5QhgOoYmvQSPpoDuEsQU/ZYWBWojlLzXVe+35e80gLjHLvK7DIAQSA80U3X76e42JvZjXKnU5/Jf+nuSDolcJuz3kIKlDs9poPfgOtdFwD8vEivpfVPBTpj3QWvq+IE/iiysGoBLOVgt+qtblOv91qv+mmeE+huAH2hkhg/SSNIHgUJuYZV67W+W+bptSt7xmhbmogCBWmddtCsZ7IVNmMqFqOw9/6/TfQuGu80xrk6IfVdcUTVf4EztN6oY97/uOCX7sSQPBsGUJfrAvkFRS6EShA1HkL3TUdNDzGg+lYkHDkWf82f+0TiPcwXImiTM6bnmm3YIfLTzI6yzoQY3erBUbOEocoZ2lNWJEACQbmsp+QuAsQqIsJloIUkbjJ0bHIS3facFfKwQ/2MhZeGZ1KrVafahTqdVj4R466Vg3j6VU0MrAnxYw5C29q6Lxg7LiC30waEGljE6LhAPhlzhjM+hWGj1YyFqypcOg0wR5t0i9BTsQzmiDZxLP0My82NXpgiV9IaMFP3lLZ/X39uS1JAzozBeNC2aIQgb7iWhtBImfXDFTHBIgxGoPxJ+qZd6PU1XBD9xBhw3ppetKCZ9cQ3t2+WGI8btqh1B30vtDO4+l4mh/pC2SdNBX1Amh9kh3CGMKfqq0G2iPJMyog0RwpDvMEAyE4hGzzMNf6S8hPFK2tQZqXlsSI3/DjSp1Ob4DP2GJtqhIHaj3TSo6O41luuJPqI3WzGAPeRR1PzSjpW3EVdzIGhBVbQ90PZwl+NEC1F4Q/HSq/4b8pU0MwU/a8vcswU/MMq/jU+W+bptSt7xmhbmogCBWmY/dplRt54VJ1f6bfB/riq0CpJ7DNdSOlfGraLrCzdhpUiacVez2lOAHG4BKwvrrUatEPuY30pFBBVPEiH3ER+/I7n+rG8si2gXtFvxoTYasgZMWdiDO0ulEfPVaUXRYZGMyDKBkU0p00HQDiN9FTLsFP1obKG2JYezd530OWs0za4ZPCxH8TiVmW6Ws4eovuxQ/0aEQe3md9SqCH70HFDqt2FQ+ZDCoknC0U/Dz8ssvh4LT55lW80U4qxqdZlmCTM067URA3dHPSzsdXiy5E9ZFy6H+Pu0eS2fQgGIWyRf2hbSbYrUHEpes+kuXa1/Lz49PHcGPdguCMtSHSBsJo1zThGj6+7r3VTuEdTvpsdK1bvxD36NuxUAaE1S6DUe6IK18U6RDiCVbkq7IO1lG7GUN4LO+xz5F4oYIIvQADxp2IRO7zOv6SQ6E0MLfIn2dUDjLPtOCn6J1OfzQQsAiS/D9cOkZeeSjNKP3e/PbaHwjE2FIU2ycHTIQvkqaZ+Wbqu2B3p4hS9tW16HdKvjRYexU/81PQ93vRb4rarQ2RhXBT+wyXzTcIXt125S65TUUJnlWVEAQq8wXaVO0X3ltStV2XuIv17L9N/ku5hV9OKnrik7KpvlfNF3xfew0SQtTrOeVRyB1T/WqMhOo16Gjc9hNRjqBRQU/enCABjfN6HXROKo+z+ilUCjQVYwedOUNcnSjhLinbaSt84vf+dCn80D7Z/PNN3eFFx0ZLPGSgqzVnkPLRkJxbbfgR89+oeEMGWxyK3HK6vSFvi3yLEvIpr/XmzL6nUrdGGC5V5rRp2DkCQ90Zx8CjCJGfyNaX6HvtIC0GwU/CLPUEUj7tOVLobjpZ1rwg05/mtHCgrR8WLWjj0675N8yHdG0sIaeQwtSnwAUEmDGag8kLq0Q/MRaroJ94MBAwpo1wArxrPJM1wF77LFHYSfqdtJjpWvhAFe0iI6u3q8mtNRVa/r5dax4q09FyuukS/r7bai4lXfVgzmpr7Fnmribti9d7DIPIYv4iXKntY7Q56k7W5vHQd5XFfxoAVpa/Sp+pF21FkLasiKtuennH71pc1a/U296mpVvqrYH+uSyNOET6nMd324V/HRD/83PL7qPXaa9rSv4iV3m/XiV+V23TYlRXtPCW0ZAoMtAlTKPMMQWMlRt59N44HmR/lvW91Xf6VUKoYmYMu6WSdfYaVImnFXs9pTgR8PFIKrI5opVoFT5RgZ1WQ2wdlfvT5EmxNKdRnSStJaMdkvf6+O10YGuYnRnqEgDLXFHGNM6QXpWEfsJ+AYdEnyPhk3cQ/xhRPilw4XOchHTbsGPPp4+beM1PUOGuLbCaOFdmpBFbxzudyq1CnDakiLkR0kbpJ0MJNLigyUqsIc/f6PftG9233335BtsRBgyWusMbner4Acbb0r8q2osasEP3AptDI+Oou5gYG15yFTt6PsbtWcJrkP+Fn3mCzD972K1B5ImsQQ/+ljstFljPy5FfutBYOj45yJulLGj84dfP2S5U7eTHitds8IY650W4kP47Bst0EgT6mAPLsmDaXbEXbGXNYAXu6Eryq7UDbg++eSTid9Zg8pWlHldH6KtlLghn7fL6D5FGY0fLZSGG1WMbn/TNt/V7bhfBrXmMOylGQgkhW1WvtHlPa8t137pDYKhMRMyd9xxRxIGhKVIvxLuDNT+m89Q0q9Mf7Gu4KcVZd6PV9HfdduUGOU1LaxlBAR1yzzCoNvHGMuHdbn365i0OBd5ntd/K+JGWTuXXnppUs+kjVuKulkmXWOnSdEwVrXXU4IfRFJvQgh167T9caB5gkFSVa2XskBFWFFU8HP77bcnGRTf+No8GFTrztAWW2xRKEh6wA6NgCLCIt9hvc9SkZneAw88MIkLKjbMRGkD9Xg9W33++efr1+5eC8LQyIGnzPohDNLwyTVPE0k8aHfHQWs2Iay+0AWVrHS8JZ4S1phXLWjDPiz+Udl6byaEw6/wsXG2sMaA2P8eYdWNKezmdRb1srA0oZjPAFo+Eg6ceuQb5APdeYfdbhX8aObIA1mqqNCCw+De16DzBT/+Jq3gc/LJJyfMsgZzusHPSzufuz5mGPkrS4MJ/oQEfVgikbVMQq+JTxuwxGgPJH/FEvzoZYdIi6IGM1Rp+0rADd0ehOrQov4UtaeXiKA+/uKLLwp9WreTDk9ipGuhwOZYwnIolMU0o8taqI1G+yv5C1dfEIi2UfoOeN9qwQ/ioZeDa8FCnjA6RpnXHPUSb80obTmv/jbWvW47ygh+IHTR7XjWwRs4ZROnXfnu62VcqN/8vIFvNBe/jQYDHQY5AEOz0VrScCutHsU3VdsD9Pd0HpYlhBIOlAEt5EM4ulXw0y39N2EnV7RNkhdwymoRU1fwAz9il/ki4Q7ZqdumxCivoXDhWRkBQYwyH1vIULWdj9F/S2Na9bneogJ1XZp8oIj7ZdI1dpoUCV8dOz0n+NE7o6MiREcJR15ioIrGBOvvDzvssGRzTCwVaYeRhg8NcVGjpb/4Hh1/qFrfdtttfQazoUY95A8Gwsjw0khA+IMBOjqo+MPMS57xGWOpDzSJxA2/0fYrVcQL6QB7mA3SWiG4Dwmj/E6OVpv3Z4vgfsgg7mCn/7S7yCv6He4hGNJGuNUZBGp1Q7i33XbbNaB9hWNPdUcN75DurTDobGq/MBsNYSPKCY6IlnjK1e9UIo3092CHOCBNIcCAfflWrnnCA//4R6hVo3JFHrn66qvdZs0i7BMmvtbbRhtt1EDjiU4yhCAQbIj/cu1WwQ/ihPBLOHFFXYXOOTR3sNk2BvR6gO8L3HzBD9yAQAwacGB16KGHNrmfpiWFsFTt6ONbCAG0MBd1DvIH3IQQG3tCYSmh7EERGtDKcexIQ+xDJByQvyBM1vVYmgDar6uqtAeSHnXKPJiIQT0ubuKKmadzzz3X5XHkc3QSQka+Qf0BAT7qJpQ35GedJ2APdW6rDcqirrsxmw+BMgS4iAf+QuGo20lHvGKkaww+Ehcs6UK6In+jrCJ9tIAPaeIL+cV/vRwMZQbccBom3NN5HG6Eyom4g6vkEXxX1ehOqriHa57AJUaZ12FG3abbGIShqvaMdrfMfVXBD/zQAwOEHYI/CD3QV4PQGuUEeUTiiP6GNhiU6AE9+gL77ruvExLBLZ02uPfbaLillyYhb6GvB7+RT9G2+G5k5Zs67YFe8g0/UZ+jDKPvpjUgJTx+HxJxYf8NFMIGe9wJO+QTpC3qD6mHQzxjCH5il/lw7PKfSj0MBlW2CYEPdcsr3MBG9CjH+k+3A7jX73CP0zrFxCjzuv6GfyFTZo+fqu18jP5bKOx1n+myUmS8C//qpmvsNKnLIO/7nhP8IELY30AaU6kM067dLPiB5N7v+IXiIZsf5iWmvNdSZd+9vMG5uKE32PTdCA2s9VGxvn35jTRL2yTY7+ijQRODDqK4gev+++8vr5quaPy0vSL3WPurjXxTZxCIJYi6QyluylV3Blsl+EGcIBAVP0NXnfdCncq87+Gm1sYqkrey8hXcCwkFdcMaigcY6o5yKH/qNK57r9PWn8XNcxsbuev9iELx0c+yBD+It7br30PIlDXjUaejj3jiey0Y8P3Xv0MDWuk4aHuhe5TFkIBBWNdtD8TPOmVewoIrmOt9U8R9uaYJruV93hWC23aZkKBRhy/UsYrRSUf86qZrDEY6Ljre/j3Kmi+0Fv99rQv/W62BEyon4g6u8m3WAF7bD90jnFpoCzehkVHE1C3zvh+6/UA4sgTV/rcxftepy6GNqbWjJW3SrhgE+gZan1l1qN7jLtRGQ8ie5p8816emZuWbOu0BNBW1lp74ra+6zx4SVLD/5ueO735D61Dz01xxH9qUPYbgByGIXea/i1XxO10PVxX8xCivmNzy2ef9xjfa1C3zrRAyVGnnY/XfNJsY97oeC2nhhvyom66tSJNQOGM9qyz40ephyPhFjB7wjB07NviJHhimCQnwIY4DD80kSCFEY4rZk1ADE/S45kMZRJcdyIODnhGU8OOKzhmO86xiMPuP2SAJl7irNWny3MXpWqhw/QYnbWNRCLK06rj4iSuWg+D0kjSDwZL2x98UVc94Q5soZPRG0NrvrHv/GGuxm7VmXmuZYB10yKCRQcOrB4DQfoDqLIQb4k/WYDPkbtlnqJD8PAC/ocWltWnShDZQxw8JGJA3IRjSbhTNWwgTTqQKuRsS/ED4kdbIIC2gGaGXtqXlz7Ls0uzrWdasPJ32PQZeaGhC8Zd8gQEJtET8waRuoPezx35jFkuXG/n+4IMP7vOtH54qaee7ASEnBj+hMCAseI58EarLMSBG3Zf2Lb7fa6+9GlgOk2fqtAfCrG6Z12FEPkbZgZDHjx8GSCEDjmn1J8KIuiSt7gu5F+sZhJsIW6geCbVP/amdxxJFpKHkEf8KJtBuSGsHJA0g0PC/Rb5A/sYmn/IO7WSWkbyE+reO0QIF+I26pqipU+Z9P3SHGXHzBd2+/di/69blCA/ioE+DkrSUK9p97G+XJrzGc2gFawEQTjjDZBq0QMWdtNl91OOiWSl2cQVPmSQrkm/qtgdIO2if6jDgHu0cTufU2q4hDXb237JzN+oJLMdEn9FnDE1f32CpuNjDZHDI6M3e0WdIMzHLfJofWc9jtil1yismFYVp0es555zTJ2p1yryuE3CYT8joJU95bYp8X7adj9l/kzDEuuqlpVlLtcW/uunaqjSR8MW+DoKDNgP3rLEDbGMlqMYukTK282WGDh1qbGfM/fVSpOw6aWMHsMYuYTG2oTRzzz23mXrqqXspCklYrZqhsUuKjB0Um+HDh5s555zTTDLJJMn7gXZjVZiNHcCbiSee2EXdDmTNkCFD3L0d4Bs7QGw5EqTFI488YgYPHmx+8pOflEoP26EzVoDq/iaaaCKz8MILdyRv2sbMlXPbQTTDhg0z888/f8K05QBb5IHtALhyb5ePmCmnnNLVXzPPPHNqvGxHzay00kouNFbwY2zH3lihqbGbtJpnn33W2MGDsR1DM/7447coxGFn0YzYBtbFBfl7+umnd3GZaaaZzHjjjRf+6P+fog5H/W1Voo2dUDB2kGJ++MMfGju4LZVP4Vx/aA/AwHbCjFU/NmgX0J4hv4PJQDWdTle7dNbVf8ijdgDm2mikB/J30bJml00Yq9nq+itoE3/84x+bccYZp2eTtE6Zl0hbgb6xk33upxUuGvzuVYP0RTuJugztJPqiM844o6vXi8bJ7pXm6n6pM63A0KyxxhruczvoN9tuu23QKfQvUGfAb/Q30DaiHemEgf92EtBYbSSzwAILmFlnnbUTwYjmZzf036JFpqZDMcp8zSBE+zxGeY0RmKplPobfMdyI2X+LER648cQTT5h55pnHOWcF5sYeGBDL6X7hTs8LfvpFKjASA4qA7szZU6uM1QwaUPFnZKsTCAl+qrvGL0mABEigMwQwoQDhGQSdMBCKQSBG8x0Buz+YOe6449wDu6+UsZoP373kXUcIsP/WEewDxlOW+ThJbff6MXZfWueY1Qh3gvg4Lve+KxT89H4aMgZdRgCaD3aDWrPaaqv10dyANpRdOuBmxBBsq3Zq7BKOLosBg9OtBCj46daUYbhIgASKEsAsMTQW7RIV9wnaRLsHTtHP+429e++910AAtswyy/TR/tKz1tCChNbuZJNN1m/i3q0RYf+tW1Omf4SLZb496YixFljDYIw11VRTtcfjHvCFgp8eSCQGsbcI2P1MXEcOnTW7N5GZb7753JIVSJ3tXjTJDCfeXXTRRb0VOYa2owQo+OkofnpOAiRQg4A9rc+gHYTWhGj6wLmbb77Z/OxnP6vhcm9+avdVMXYvSrecE/2B2WefHRtmumW7oumDmGHm2u6V1puR7LFQs//WYwnWY8Flme+xBOuHwaXgpx8mKqPUWQLSccgKhd0025x11llmuummy7LGdyTQRICCnyYc/EECJNBDBLBXFQQ/2tjNsc3mm2+uHw2YexkEZkUYe1RgOXjRvaSy3OK7fALsv+Uzoo3qBFjmq7Pjl3EIUPAThyNdIYGEAFQMzz//fGOPOjajR4822IwYBhvvYtPFVVZZxdhTrcygQYOSb3hDAkUIjBo1KtngEzPAA3XAVIQV7ZAACXQXASx/xlIabH685JJLGkyALLfcct0VyDaGBhvyX3rppa6vgAMxRChmT6t0B3xsttlmxp7Y1cYQ0Sv235gHWkmAZb6VdOl2EQIU/BShRDskUJMA1Lcp6KkJkZ+TAAmQAAmQQD8mwL5C9yUu06T70qQ/hYj5qz+lZvfHhYKf7k8jhpAESIAESIAESIAESIAESIAESIAESIAEKhGg4KcSNn5EAiRAAiRAAiRAAiRAAiRAAiRAAiRAAt1PgIKf7k8jhpAESIAESIAESIAESIAESIAESIAESIAEKhGg4KcStt7/6J3PGl0RiWkHc4PjrkgIBoIESIAESIAESIAESIAESIAESKBfEqDgp18ma36kKPjJZ0QbJEACJEACJEACJEACJEACJEACJNDrBCj46fUUrBh+Cn4qguNnJEACJEACJEACJEACJEACJEACJNBDBCj46aHEihlUCn5i0qRbJEACJEACJEACJEACJEACJEACJNCdBCj46c50aXmoKPhpOWJ6QAIkQAIkQAIkQAIkQAIkQAIkQAIdJ9Czgp/jjjvO7LfffmaiiSYyDz30kBk2bFjHYfZSACj46aXUYlhJgARIgARIgARIgARIgARIgARIoBqBnhX8vPnmm2bo0KEu1htttJE555xzqhHowq/uvfdeM2bMGPPKK6+Yr776yoVw8ODB5qCDDooWWgp+iqN87LHHzFVXXeU+WH311c18881X/OOKNs8880xz8803B79GPphlllmC7wbSww8++MDcdNNN5sUXXzTvv/++aTT+d1LdOuusYxZffPG2ovjwww/NJJNMYiaYYIJMf5mumXj4sgUEUHehDoPZfvvtzRRTTNECX8o5ee6555rRo0e7j0aMGNEVYQrFYNdddzX//e9/XV8D9zStJ1Alb6D+HTlypAsc2me00wPBvPbaawaToDDLLrtsV8W7E2nC8joQcj3jSAIkUIdAzwp+EOndd9/dHHXUUS7+999/v1l00UXrsOj4t1988YXZcMMNzRVXXNEnLJNOOqn55JNP+jyv+kAEP4+OftAcfdiBhZzZba/9zHwLLpxr98MPxpqz//ZX8+Lzzzm700w7ndn3oCOC3/XCce5nnHGG2XTTTV34Tz/99OQ+GKFID7feemvz17/+NejafffdZ376058G3w2Uh9dee61Zf/31zaefftonyn/5y18M+LXSQND0t7/9zTz44IPmrrvuMu+++67zbppppnEd8N///vdmhRVWMOONN15TMJiuTTj4QxE4+OCDzahRo9ST7NtVV13VbLnlltmW7Nvf/e535u9//7uz98wzz5jZZ58995tWW9hggw3M+eef77x5/vnnzayzztpqLyu5P2jQIPfdXHPNZZ588slKbvCjcgSq5I1nn33WzDHHHM4j9KEkv5fzufdso75YbLHFXMB32mknc+yxx3ZNJDqRJiyvXZP8DAgJkEC3ErCz5D1r3nrrLUzxu7+f//znPRsPCbjV5Ejig3jNMMMMjQUXXND9xY7f259+28DfORdf1eSn8Axd/37J1e4b+da/PvbcG41td9ytj3szzjRL6ncS926+2gF+Eicr+GlLUC+88MLGdtttl/z96Ec/SsJgBT9tCUO3ejJ27NiGFYQmPJBX55133qSsXHbZZS0N+qOPPurKZqiM6GdXX311n3AwXfsg4YP/J2AFOU15Wuel0D3qhyLGasQm7lrBT5FPWm7HCm2TMFnBT8v9Q/spDD///PPC/sk3VvBT+BtarEegSt5Avpa0soKfegHooa/RF5B4W8FPV4W8E2kiLGKV16r1RlclBANDAiRAAooAlkf0tFlzzTWThq9bOrVVgVptgSQudianqjOFvhOhjS/4mXrINI20v0uvvTkowHnipbcbm2y2VRJ2aXzl2uuCHzt7mMQN950wO+64YxKGgS740YK4ddddt/Hll1+2LUmuvPLKJB0kf6+44oqNPffcs/GHP/yhgQ6nPA8JfvyAMl19IgP3ty/4QXuQ9bfvvvsWgrXFFlskefKFF14o9E2rLVUZ3NcJ01JLLZUwsFqChZ2SshxrIFnY4wFssUresMt9k/RFfh8oppsFP51Ik9jltWq9MVDyH+NJAiTQewR6XvBjl0UlDb5d+tV7KfD/If7ss8+SeKCxabUJCX722v+QoGBH7KZdz7vsuiTs0vCusOLKybNeF/y0Oi2KuE8BwXeU9tlnnyRv3Xbbbd+9aPEdNAW0ptEiiyzSeO+99/r4essttzgBEAU/fdDwQQYBLfiBZlh/NlUG93V4VB3ASXtGwU8d+uW+bXfeKBe67rLdzYKfTpCKXV6r1hudiDv9JAESIIEiBHpe8IPZfqnsMSj75ptvisS76+xgJlbiAS2GVhsR4miNn7qCn8GDJ23suueIxpMvv9O4e/RTSXwo+KmfmhT8fMdwk002SfLWE0888d2LFt+dcMIJib8YCH788cepPn799dcNuzF76nt5wXQVErxS8NO6PFB1ACdtMgU/rUsb32UKfnwi6b8p+GlmE7u8Vq03mkPFXyRAAiTQPQQqb+78yCOPGDsraR5//HF3Ogc2N7X7kLgTjzbeeGPzy1/+0ow77ri2Hv6f+dOf/mSwy/9PfvITt0kxNq61e/SYX/3qV+bwww83E044oYEdu5TCHdG+1lprudMK8DzPwK9//vOfzprdf6Mtpy5JmJ566imDDX/BQ04pwYlCdm8ed4LK9NNPL1abrjix69BDD02eYbNY2dTZ7u3juCQv7Q02dz7mmGP0o1r3srnzjddfY3637v9OwLCCH7PDLnuWdvepxx8zt9x0vdl4063M9yeb3H3/wnPPmCUXmsvdW8GPuf/xF4LutmJz53vuucecffbZ5o477jDPPfecWX755c0yyyxj/vjHP5p//OMfSTrtvffewdNkkKbY0Dlk1ltvPWM1PUKv+jxDHn/44Yfd8yOOOMKMP/745rTTTjM4tUSeI5/ATauebiaf/H/s+jhkH2DjxuOPP969sp29Ups7W60Yc/LJJ7vNSRE3GJwKNttss7lyihNQZp55Zve8Vf/khI+HHnrIYCN2K7A1dl8es8ACC7jNZ7OYnnjiie6UOwnb9ddfb9544w33E2HHhsraYHPPpZdeWj+qfY/wzjTTTMkmzsgf2MC5rqmSrnaPI3eaGfIyNpzF5rjY5Fp4giny00QTTZQZvP/85z/mvPPOc/U43HjppZdcPTNs2DAz99xzm9VWW82svPLKwTIiDsdwQ9wqe0V5kPyMfICwhsy//vUvc+CBB7pT37D5Jw4E+P73vx+y2tFn4H3NNde4MKBtRb1QxWDj89tvvz34qV2SaKaaaqrgOzy88cYbzaWXXure2z2EXNnCRrmoQ1Du0DZhM1m7zMzMM888qe7gBU6nRD189913u3TCqUPLLbecaxfhdis3d95///0NTv4UA56yETxOAfX7FXPOOaerY8W+XP3NYq+77jrXhtxwww2uvCyxxBIu3+222259NnIXN+T6+uuvu74C+gnYFB59JjuwNAsvvLDZYYcdXP0idmNecZIg2gzkeWw4j03E0Uba/UvcARlIF6tFaS655BJjNRhd3XnSSSeZGWecMTUYSFvkE/R7kNfQP0Gdi7yBOm3iiSdO/RYv6uYNHISBNP7222/7+AOev/nNb/o81w9Qn2NTfqTnAw884NIS6YF2EfUn6lLU76gL08w222xj7ESjs4PyUCdvpPmR99zf3Bn9DJQ5lFepS9AfRXuAPnWeqZOuddNEwlan/1a3vMaqNyQuvJIACZBA1xEoK4P697//3bCVYzLzbSMUvPfXWeslEv43mE3DJsb+86222qpQ8A444IDkWztILPRNDEv2CPnEXz/s+I042yO5g17pmZrQt/4zuBXTxNT4Ebf0tVMaP7bTk5omtoPb0LPqaZuKhvZxkfQos7mz3n8KGl12YJoatrx8W0UzBNpvtgOc6qfECeFspbGDnNzNkO2RtA3biQ8GA3voSFiLXO2pXkF36jy0g5umMGRp+5Txp0q6FmGA+hR7LKQZLFHTG4anuZmVL2O4kRa+Is/9OjS0f40VTDVQ7iV+O++8cxGnO2JH1011lnphk1eJr3/N2wfPDhyTb1HXoW323ZDft956ayonK2xI/c6eSNiwEz7J+7R6ONXxAi/sAD5xX8KbdUUeCRn5Bhz03mLyXK6Ijz32PeSEe3bxxRc3LROV7+SK9h3tTisMNjsWf/wr/NXtlLwHv5D2NDQZ99tvv1T38D1YWYF0alRi5A3UPRJW/1pkc2crKE79XtwDm5tuuik1HmKvbt5I9aDAC10HWuFhw066psYLZTvNxEjXummCsNXtv9VNk1j1RhpnPicBEiCBThMorfHz61//2thTc2z9+j8DjQXMKGAWEbOv0LLAzAlm1axgRKy52SaZccMs1/Dhw81ZZ52VvMcNtH/gDjQiYGzDaz744IPcmTTMtKyyyiruG6sm7Gax3Y8W/tN+whvMEGHGCzNQMhso3mNW3nYO5Ke7vvzyy+aQQw5JniGeovEDDQY7CEje4QazdTGP6gxp/Mwz/4Jm6NBh5r133zFDppnWzDn3j80cc/3YrLTaWk5bpSlAOT86ofFjhWxuFlOChjTBrOYnn3zitBok/8l7aDmEjhHGjCxmzsTgWNIxY8a4n9DukqPd5X3aFTNskqbQgsNMHAzSFxouds8Yp32EcEGrZdttt01zqpLGD7R8MCspxi4hNAsttJDTfLBCgUQjCtoS0LRrhXn77beN1npD3NdYYw03I4yZPcx8i4E21GabbSY/k+vIkSPNY489lvyGdp/W+Jl66qmTd7jB8dWxNX5QJ6FOg7GCKFfG3Y+a/6po/MisJupHxBOalkOGDHEaDnaAmWgl4f2rr74a1NhBXsAMPwzsIW6ok+1eY06D6KqrrnIaEnZ5m9PQCEUzhhshd8s8Q524yy67uE9QpqBdMsEEEyROQKsSmn0wofeJxS64iaXxAw0dme1HtKRNxr0V/GQe537kkUc6zVvYFYO2ywpGDGb0dZsNntCW8A20hlBGxMAetC5RF1x++eWJ5o28T6uH5X2V64gRI5o0flAupP5HXtd5BO4jjlYo2McrKWv6hRWUOO0caNFA40IMNKKgfewb1GvQuBCDPtPPfvYzpxENrRPUg2LgHrSiYxrEV/pU0NhCuUWYhAf8Qh0CjTkrgE+8RjuIsGqjj1rHc3yDNuWjjz4y0DSD1iAM6nlo20422WTut/yLlTfQdtrN9F1bBrfhvxXSOG+g8YkykGV0WUPexlHwP/zhD51WOtoXae/hBrRnYMc3MfKG72bZ31rjR74F+5VWWskMHjzYtevSVuK9Fc4Yv73E87rpCjfqpkmM/lvdNIlVb4AHDQmQAAl0JYEykifbIDbNJtjOQ5/PbWeigRlHzDxoYwcXybcyW44ZRQvF/dnGqoHZWRitwWOXxGhngvewI+5gTW6rDTQTMKMuflpBQBJ2+A0GWksBa9bzDGY9xb0i9vPcy3sv2jl6jx/x37/O+eN5Gzfe+WCpjZ87ofGj12NjHxjJT2BhO6R9tE6KzjTrmd6qGj9gijJgBwdNSWMHUw072GrkHUFeRTPELkNI/up3uAAAQABJREFU8pTtlDf5ix/Ix5jRDJXjPpYrPsCG65KfUGasUDhxCf7vtddeyXs7KGlAozDP6D1+rLA5z3qU93Z5RBJO+B/LVElXHDFrl5o1sNm0b/BM1z1HH320b8XtTSRpgjxphUN97CBfYvYVG1WHDOrwum6E3C37DFoWWlNGb/BvB9RNYUQd0M1Gx0PqC6RP6G+dddYpHBU78E84lNH4QRhwZLyuR/G9pDuudml1n3Doemfrrbdu0oSBJgjaeu1G0Xq4j0clHui2Ae1zUaPDiXDr/gjyHuIndkKak3ZZZpOmDzQbtWYQ6kA8EzeskCyoaVM0vCF7WuNHNFj8dHz66afdp1bIkYQFe5ppo7UekSd9bWbUPXp/Hrv8TX/u7luVN3R8imj8oI960EEHNewy0D5hRPporSZo6oaMpBmuVfJGyM2yz7TGD8IBvtC8EYN6WvdVQxqcMdJV/NPXsmmiy2jV/lvsNNFhKlNvaA68JwESIIFuIoAZk0IGHRS9NCA0oNAO+QM4dBRQKVstjMSancVPOhm6I2v3rkieS0cl+Shw8/LLLyf2EcZWG4RJGhjEy48r/EeHQuzgGlqGoMPZLYIfHOWOTZp12OX+1nsfKSz8abfgx+4bk4QZaYKBq2/snhKJHcSp6IAjluDHziL6QSr8u4qAQMoc4opT49ptrBZbE289aJKw+PUKlk/mmU4IfiDclXJg9yLLC2Lh91XSNc9xLQiHEMg3EJZJXDDQrGJiuFHF39A3dn+0JmEChKvIexAkSjxx+mO3G1/wI2EPXSH8K2qqCn4wmA21bRAGSZh8gbXVQEjepbWNuj6FO0Xr4aLxDdmrOoCTeOIaWkKq2/lQ3wNLC8WN7bffPhQ090wvPYLwJabRgh+UCxjUu9I+4IrfMFqga/etcc/kH/puEhe7v488brpa7dqmsqiF063MG2WFDE2BDvzA0ifhgziHlr0JC1yr5I2At6Uf+YKfUB/DanYm6YblYL6pm66+e/K7TJrE6r/FTpOq9YYw4JUESIAEuo1AYcGP7uCgQSw7kJRGVA9EMNMsFbVdkpKw0TO1fscysaRu9AAT/rTa2E2Wk3BnDQL12nm7dCIzWJ0S/Fx7892N3270+8aVN9zeeH3svxPBzjOvvd/AKV+SPrjOv9AijTc+/DqxI1pDoWu7BT+nnHJKElbM5oUMOqE6PkUHHHqgUlXjp8gsZCjM8qyKgAB7D0h8sa9Cu41dBpL4j1nHNGOXciX2iuzB0gnBj96TxG4OnBaV0s+rpGueJ/qkQ+QB37zzzjsJb+QPuyTDt5L7O4YbuZ6UsKDbDLQBdmlGEse0+qCE822xqgU/GIytvfbaqX/QQCtqqgp+0to2ranraxAUqYftspwkbZD/itbDReMbsld1ACf1J64Id8hI3wZ2fKMny7L23LJL8xImdvmi70yt31rwIwIeOCiCUexrIgbvJc5aSGCX6SXPIRDMMtD0ETewv5uYVuaNMkIGCU/eVecZrakq30kcca2SN8SdOlct+ElrYzUbXystRrqmhV/7m9f/KZI3ivTfYqeJzgPU+ElLaT4nARLoJQJ9eyopob/zzjuTxhyzU2WNdI50w6MHD1otWM9YFxmwaqEUOjOtNugQSQNzwQUXpHoHVWKx53eQ/Y86JfgJCW30swuvvCGJA+Jy9kVXdqXgx55Wk4QTy2DSjBaGFB1wxBD8ZOWTtLDq51UEBHoZAtIOZQ+DNhyBrpdvaH9i3kNoK/k/a6N2uwdJYk/XD2lh6YTgRy9hwDKAWKZKusJvdNixJBYCKT24FN5y1YM6HWZ/E0vkFWxAG1r2pb/T9zHc0O7VvYdATuItV2g0hbRW6vrViu+14KfO5s5+2KoKfuyphL5T7jcmMYSvL4Cyp0Ml77LqYZ1ni9bDwcAUfFh1ACfxzJpQ0hoT0BQRgzpWvi9zRf0W02jBj3ZX2kKEXxsJq16urwWr8r7IFctFxbQyb5QRMkh4oBV86qmnNtCfBQPpo4biZU9kk8+Sq9irkjcSR2reaMGP3bsp6Bo0IiWsdq+tJjsx0rXJQfWjTJrE6r9JPGOlSdV6Q2HgLQmQAAl0FYHCgh904qRSLTIr78dSGlWcMiTGHvGcuIlOgRh7RHzyHA1znsFAVsJWdelCnh/6ve6gZ51sgr1TJFxasKXdkvtuFfxACLTK6msn8dhzv4O7UvCjB+ZYKphmsERC0qTogCOG4AcdrDqmioAAwgGZ1ZU46ys6irGXFeg46r0rIKRIM9hfQsLlD0JC33RC8KP3IsoSYoXCm/WsSrpqjUPhlnZNE/wg3dO+wYw+lvPklY8YbmSxKfsOe3NoTR/EL0vLoqz7rbav25VuEPzYjZiDUcZ+YZJ3/HKthQyhfcXEQQxAxY28fCbf1LlWHcBJGEOacxIevYeKFjIi78n3Za7IBzGNpIk/GJZw45Q1baSvpvcazDvBNC1+aAPESDhgN3beKCNkQHjQb0M9lxZu//lrr70m0UiuYqdK3kgcqXmjBT9oS0JG97NRDrSJka7aPX1fJk1i9d9ip0nVekNz4D0JkAAJdBOBwoIfbPQnlaq/9rtIhKQz0QrBj9YYiN1pCsVNd1qzBvT2ZImEGWbUs0w3C34OOOy7pW1rrbt+Vwp+IMSQ/IlNyNNMpwQ/dQegVQQEYIBOHzRUsgRA/iaeaezKPren1iVpcvjhh6d+jk13Je3SBBX6404IfrQqesw6pmy6ai0qMIOgG0tDoK2DfC9/wjNLAxIdc3vaUOZMtz0lS6Pvcx/DjT6OVnzg7+sDBlkDzIretOyzbhP8pO2LlCX4wV59kvey2GPDXLHXXwU/eg9D9H8wIVHkL7QXWp1MJwKXOoKfk046KUkv9H+KxAN2XnnllSTorcwbZYQMvkAOdSQEmOivIcxSh2pNLuwj6RvJv90i+Elb0pol+ImRrj4X+V0mTWL132KnCQU/kpq8kgAJ9BcChQU/urMH1fGyppWCHyyjkgq/ilCqbFzsMaKJf/YY7NTPsQG2hOuwww5LtYcX3Sz4GXnq2Uk8llxm+a4U/GA/CmGt1ct96LozV3TAEUPjJ9Rx9MOW9busgCDkFjrhEBDojYqFme6gh76t8kzPJqZ1SuGu3tixyKa1nRD8YEAgrDBTHGupXNl01afi4DS4kMF+FBLWLMGPfIu4QGsS2pV6QA43sCRHn0Ik3/jXGG74bpb5jb1JsExQ4i1XtDutyNtlwlbUbn8Q/OjNjLOWt4q2CdKpaD1clGPIXtUBnOSjKoN7bHQs3+PaKRND8IMN0yUuRZbjhuLayrxRRsiw//77J3FBmUury5HmEudQ+y3vquSNEJ8qz7TGT1obmyX4iZGuaeEukyax+m+x06RqvZHGhM9JgARIoNMECvdGyi7H8CPWSsGPVhPN0vbww1T1N2aHpIHBxrRpBqd4iD2cKJVlulnws+ueI5J4bLzpll0p+MGpGsIa68VD5quvvmrSbig64OgGwY/eMDNreWEo3qFnUF3Xe7RkDdJC3xd5ppcCZQ0WcEKMpB00UPJMJwQ/eh8xhDVWPVMmXfWmzf7svWamBWlFBD/6W9wjf0l64Bra38L/xv8dww3fzazfelkhhLt6zwgsZUHZzzPIrxjE6T/ktXaZ/iD4Of7445O8kyaYhCBR+gPIX0Xr4TrpoAdwOLmqqJFyUHVwr5cTQRDUCRND8KP7J1WX07cyb5QRMui8IMfY++kCYZCkPa79VfATI119dvK7TJrE6r9JmlUtrxJ2ueq8UqbekO+x75xuT3AfOgFO7PNKAiRAAq0mUFjwowcdqFyLHLOuAy8dvVYs9cLgRir8tNMVdFjq3mtNhrROkC9kyFsyoRtgvba+bljTvtcbOGfdv/reF41ZZv1Rwvfokad0peBHL/dDZ1tvsikM9KakyC9FBxzdIPjRJ18V2fBc4px1xRIhKTfYNya28VXqx44dG/RCLwE49NBDg3b0w04IfuA/9vYRXlmCLB3WvPsy6apPL8zaC0mHs4rgB2HWQgiczlbFxHCjiL961hvpgwEHBm56v59ddtkl1yksbZL0lSs0rNplNK9u2OOnylIvXcemnTKk62pwLloP10kHfVz6Cy+8UNgpyQdVB5L6NMC8Ax4KB6qkxRiCH7SnwgLXKsvRWpk3yggZtLYZNj4OGUyE6Pj2V8FPjHQN8cOzMmmi64Q6/TdJs6rl1Y9L1XpD3IEWloRJriNGjJDXvJIACZBA2wkUFvwgZFpFFhUrZsFD5sknn2z4g9NWCX5Gjx6dVKxYptAOgwGYxAeVOZaB+EYvP8NyiTR1YvmuE4Kfx198q3H4cSc1nn19bFCYg+PdN91qu4Qv4nrPw08H7frCo3Yf546lHrpD5y/5g9BBL/NCXIoOOLpB8KOXWmIwmpefkK+wrCvrCFK9rj5PI03yadmrHnzvsccefT7X5Rdpgv1+8kynBD++IAvChNAyKAifocmDkxDzTNl01fVOiJV/SktI8IOlYFDx/+abb4LB++yzz5r2hAqd9BXDjaDnJR+iXGvBv253oKmkeWHgmWUo+Gk0jjjiiKS+ryL4wQSR1nLxJ4hQb2lhSJl6OCvt8t7pAdjJJ5+cZz15j/Dhr+pA8q677kp4Ii9m7fWG/hQE8GnlMglUyZsYgh94qfdswz4/WRpMEAz5S65bmTfKCBm0hnhIwPrmm282acMi/fur4CdGuqZlxzJpEqv/Vre8+nGpWm+IO/p7CRsFP0KHVxIggU4QKCX4+fzzz5s62ejIYNPThx56yHVosPxBVOz9fYCkAx5b40cvlcjaTDI23AMPPDDp0KFChxrzmDFjHAt9bCneFRlUd0Lwc+u9jyRxWG+DjRvYxPnM8y9rnHXhFY39DjmqSdMH8dht7/1ThT6XXntzY6Pfb578rbTqGonb+Fa/w/3zb37k3IqZLv7Gt5itQScfSw708cEID/5Cgp933nmngSUf+k833rjX73CP07NCRu85Euo4hr5Je4bTYvQAF8IfxAvxwx9mzHwj8dxhhx3cJrfoiCHO2MRSC31gD8LMVpjbb7+9KR9ss802DWhoPPXUU+5oeQkjrkWWeSGMnRL8wG+9Jw/CvOKKKzagtQMhD5asoVMnA9+rr74an2SasumqtaOwVA95AKcgYqCFfcQ0T9yHBD8iHMI7aFjdcsstbmCDzWghsMbSKHEnTaMxhhuZYAq8hNBNa8mENCWRBhIXtEEhYZl41R8EPyjjfv2kha84ndN/r0+iqiv4AUu9tx3YY+8olHfUUXoGXdIlVA9LmsS6Qggu/uGK/WbOPffcBvIH/lAnhYx8U1XwAzfRFxJ3cEU5RfnBclto06F/oOvjIssSQ2FNexZL8IPjz/XyYNQfELSi7oFwGHUg+oOyDxmWyfgmRt5AfvXzsD51Fv7671EuxOhlRagTdt99d5cesIO2UepvnWah9lve18kbEqaqV63tiL5JyGTt8QP7MdK1bpogHDH6b7HTpGq9gfjA6L6jhI2Cn/+x4X8SIIHOECgl+EEQ0VHRjb9UZv61HYIfzB5KI41rES2IWJgxq6871H785TcEXUXC1WnBj4Q37frLlVdvQAPI1+yR3wcdcVxT5zbNHXn+2HNvRBf8IG1Dg1/xEwNaPVAMDTjQkRX7Ra/4JmRiCn7g/jXXXJMaNmzY7Jui4T/99NP9T6P+DnV+/LBBGytNg9APTCcFP5iZhLDFD3/odxHBD+JWJl0xwAr5pZ9BE0l+Zwl+xE7WNW1Jhwh+sr6Vd2lu+Ola9rceRCKeGOCEDASfEhYIsrSgQ9vvD4IfXTYkznlXXQ/GEPxAy1CfnhjyXyaC8E77r9Mj5j2EhFqg6YcJbXnIiL06g/v33nuvz6bp4m7o2q2CH/BBWQ5NooTiERL8xMgbuq8U8jf0bOONN06SF8ubtHZwyD7Crvt3/VnwEyNd66aJJE7d/pukZZ3yKmHBtWq9IW6E+j4U/AgdXkmABDpBoLTgB4HEUoBQhSaVLmb1/Bk0EdBg9kmMPvUCy8jE6I2kMZOTZvRx6TiWst0GAh1U4hJvfUXHFrNfRY0+0toXmhV1o4w9CGwgfPE1c3QccD/90BmcBpAIeNKuhx4zMsjBd09+j3nhzZYIfsDg8ssvd8sJZHCBjio22oY2jz61CB1y3+g8JWHNu2LPp5DR2hlVNsgNuQmtDLiLga4OF/Z18Q1OyvCXt+lvMBCKtUmx77f/G9owkh46DLjfbrvt3Kyj/03ab30qmZ7JTbPfiufgljaQRDyhGVRUkIXwlUlX2JVZdc0S/ko9KqwhpPcNwrX55psnQnPthtxDewZaGmkmhhtpbhd5jlPIJKy4jho1KvUzLDHR5QCb84dMSAAXGryGvo3xTAuKL7nkkkpO6rKh+WTd6+VHWGokdsEjZPRJQAcffHDIittMe+utt07cEjfRD4CGmdaCydLCCjpe8SHaa7QNGNBL+ZBwpZ0mKO+Rf9IMhIliL7S3HL6DwBgTBNIPEvv6ivSHFhLsxjQiDESctZFwoy7RRtik9UOg+Y22RezpOOAez9EepS11hWCrTt7QfSXf77TfOIlVG/QFhIv/DdpXCKjy2m/5rm7e0OEqe4+JWAkHtN9DBpsSix0s0UszddI1RppIuOr03ySeMdOkSr0hcdErEiRsae2PfMMrCZAACbSSwCA4biukSgaf2gGtsYMvY2dbzYwzzmiGDx9uhgwZUsm9Mh/ZdfBm9tlnN7bBMXZgb+xAwIw//vhlnIhm184KuHDYgZKZYIIJjJ1tMD/84Q/NoEGDovkR26F3Pvsu2f/z9dfmheeeMe+99675YOz7zqthM85kZhk+m5liyqlie93k3rSDW8cI6WI7cGbyySdP/Jx77rkN0gmmRtZP3OuFG7sfi7EzlsZ2do0dBBsrNDLDhg1zebTd4bf7J7iyinSZc845zWyzzdaxchsj7rZT6Oo/1IGDBw92bGeddVYz0UQTxXA+1Q07OHRp+txzzxmrwWLmn39+M/PMM6faT3uBfGGFOMYuVzTjjjuuyxczzTSTmXrqqdM+6fM8hht9HOWDfkEAedMugTZWU80ssMACBmVjoBu7rNbVGXapl5lyyinN0KFDXdmdeOKJewoN2k/UHaj77CbJZvrpp3dxQf0x3njj5calG/LGW2+9Zay2isEV7RH6bkXCnhu5HrZQN11jRZ39t1gk6Q4JkAAJfEegluDnO2faf2e1LIxV33Ue2719jNXkaH8gethHLfjpZDRaKfjx4wWhAzrZMFbV29iNhX0r/E0CJEACJEACJEACJNBFBNh/66LEYFBIgAR6lkDPCn6gtYGZZmj5/OIXv+jZBOhUwPuj4AdaEHa/GmOXGpppp522CS00xKz6ubEndLnndi8LYzd1bLLDHyRAAiRAAiRAAiRAAu0lwP5be3nTNxIggYFJoGcFPwMzueLFuj8KfiDckeV+EP7YPVjMdNNN59TQ7ekM5sEHH3QAsdTp2WefNb2mWh8v9ekSCZAACZAACZAACXQHAfbfuiMdGAoSIIH+TYCCn/6dvqmx6++Cn7SI281uzQUXXGAWXXTRNCt8TgIkQAIkQAIkQAIk0CYCWvCT5iX7b2lk+JwESIAEihGg4KcYp35nqz8KfrAp4XnnnWfsaSLGHjftNh7HJsLQ8JlvvvnMYostZuxpdNT06Xe5mREiARIgARIgARLoVQLsv/VqyjHcJEACvUSAgp9eSq2IYe2Pgp8QHnQmuvl0tVCY+YwESIAESIAESIAEBjIB9t8Gcuoz7iRAAq0gQMFPK6j2gJsDRfDTA0nBIJIACZAACZAACZAACZAACZAACZBAywhQ8NMytN3tMAU/3Z0+DB0JkAAJkAAJkAAJkAAJkAAJkAAJxCBAwU8Mij3oBgU/PZhoDDIJkAAJkAAJkAAJkAAJkAAJkAAJlCRAwU9JYLROAiRAAiRAAiRAAiRAAiRAAiRAAiRAAr1CgIKfXkkphpMESIAESIAESIAESIAESIAESIAESIAEShKg4KckMFonARIgARIgARIgARIgARIgARIgARIggV4hQMFPr6QUw0kCJEACJEACJEACJEACJEACJEACJEACJQlQ8FMSGK2TAAmQAAmQAAmQAAmQAAmQAAmQAAmQQK8QoOCnV1KK4SQBEiABEiABEiABEiABEiABEiABEiCBkgQo+CkJjNZJgARIgARIgARIgARIgARIgARIgARIoFcIUPDTKynFcJIACZAACZAACZAACZAACZAACZAACZBASQIU/JQERuskQAIkQAIkQAIkQAIkQAIkQAIkQAIk0CsEKPjplZRiOEmABEiABEiABEiABEiABEiABEiABEigJAEKfkoCo3USIAESIAESIAESIAESIAESIAESIAES6BUCFPz0SkoxnCRAAiRAAiRAAiRAAiRAAiRAAiRAAiRQkgAFPyWB0ToJkAAJkAAJkAAJkAAJkAAJkAAJkAAJ9AoBCn56JaUYThIgARIgARIgARIgARIgARIgARIgARIoSYCCn5LAaJ0ESIAESIAESIAESIAESIAESIAESIAEeoUABT+9klIMJwmQAAmQAAmQAAmQAAmQAAmQAAmQAAmUJEDBT0lgtE4CJEACJEACJEACJEACJEACJEACJEACvUKAgp9eSSmGkwRIgARIgARIgARIgARIgARIgARIgARKEqDgpyQwWicBEiABEiABEiABEiABEiABEiABEiCBXiFAwU+vpBTDSQIkQAIkQAIkQAIkQAIkQAIkQAIkQAIlCVDwUxIYrZMACZAACZAACZAACZAACZAACZAACZBArxCg4KdXUorhJAESIAESIAESIAESIAESIAESIAESIIGSBCj4KQmM1kmABEiABEiABEiABEiABEiABEiABEigVwhQ8NMrKcVwkgAJkAAJkAAJkAAJkAAJkAAJkAAJkEBJAhT8lARG6yRAAiRAAiRAAiRAAiRAAiRAAiRAAiTQKwQo+OmVlGI4SYAESIAESIAESIAESIAESIAESIAESKAkAQp+SgKjdRIgARIgARIgARIgARIgARIgARIgARLoFQIU/PRKSjGcJEACJEACJEACJEACJEACJEACJEACJFCSAAU/JYHROgmQAAmQAAmQAAmQAAmQAAmQAAmQAAn0CgEKfnolpRhOEiABEiABEiABEiABEiABEiABEiABEihJgIKfksBonQRIgARIgARIgARIgARIgARIgARIgAR6hQAFP72SUgwnCZAACZAACZAACZAACZAACZAACZAACZQkQMFPSWC0TgIkQAIkQAIkQAIkQAIkQAIkQAIkQAK9QoCCn15JKYaTBEiABEiABEiABEiABEiABEiABEiABEoSoOCnJDBaJwESIAESIAESIAESIAESIAESIAESIIFeIUDBT6+kFMNJAiRAAiRAAiRAAiRAAiRAAiRAAiRAAiUJUPBTEhitkwAJkAAJkAAJkAAJkAAJkAAJkAAJkECvEKDgp1dSiuEkARIgARIgARIgARIgARIgARIgARIggZIEKPgpCYzWSYAESIAESIAESIAESIAESIAESIAESKBXCFDw0yspxXCSAAmQAAmQAAmQAAmQAAmQAAmQAAmQQEkCFPyUBEbrJEACJEACJEACJEACJEACJEACJEACJNArBCj46ZWUYjhJgARIgARIgARIgARIgARIgARIgARIoCQBCn5KAqN1EiABEiABEiABEiABEiABEiABEiABEugVAhT89EpKtTmcX331lVl00UXNyy+/bFZddVVz3nnntTkE9O7f//63mXHGGc2XX35ptthiC3P00UcTCgmQAAmQAAmQAAmQAAmQAAmQAAmUItAvBD8ffvihGTlypIv4fPPNZ1ZfffVSEKpY3nXXXc1///tfM3ToUIP7/mb+/Oc/mx133NFF69ZbbzXLLbdc6Sgef/zx5pNPPjHf//73E7dKOzLAP9hll13Mscce6yg89dRTZs455xzgRDoT/W+//dbstttuBlcI46RsdCY0/dvXDz74wNx0003mxRdfNO+//75pNBouwuuss45ZfPHF2xb5r7/+2nzxxRdm8sknr+TnY489Zq666ir3LdoktE2tNmeeeaa5+eabg94cdNBBZpZZZgm+40MSIAESIAESIAESIIH+TaCQ4GfMmDFmr732ciTmmGOOTM2D9dZbz3z++efOLjqhQ4YMaTnBZ5991iBcMBtuuKH5+9//3nI/Bw0a5PyYa665zJNPPtly/9rpAQZbGCB8+umnZtlllzW33XZbJe+nnXZa8+6775pJJ53UCYAqOTLAP3rrrbfMD37wA0dh5ZVXNtdee23XExk7dqzZaaedmsJ5wgknpA6g7733XvPXv/7V2UdcDz/88KZvu+HHf/7zHzPBBBO4oCy44IJm9OjR3RCsfhcG5O/111/f1T1+5P7yl7+Yrbfe2n8c9ff1119vbrjhBvPAAw+YUaNGObdRf80///xm8803N7/5zW/M+OOPX8jPM844w2y66abO7umnn57cF/q4oiXwkbLkO3HfffeZn/70p/5j/iYBEiABEiABEiABEhgABAoJfm655RazwgorOByLLLKI6xSnsRGBCN6/9NJLZuaZZ06zGu15rwt+MLP8ve99z/FYaqmlzJ133hmNTRWH9t57b3PooYe6T6tq++BjCn6q0O/7zc4772yOO+449+Kee+5pq9ZD39DkP4GmxqyzztpkEcKcP/3pT03P5Me5555rNtpoI/cTAkd8322Ggp/Wpwg0fWaaaaYmoc+8885rxhtvPOc56qW11lqrJQH55ptvDNw/8sgjM92fYYYZzPPPP28mnHDCTHt42QnBz0UXXWTuvvvuJGw33nijee6559xvCn4SLLwhARIgARIgARIggQFHoF8IfiBgGj58uEs87IVyyimntDwhRcAVQ+MH++nIQCJPsNbqiGFfmWmmmcYNvjDIefXVV80444xTyVukCdKmWwfzlSLVgY+wZAQaBzAQkJxzzjkdCEVxL0OCH2hNvP3222biiSfu4xAFP32QDMgHWlCy7rrrmrPPPjupF1sJBBqqa665plteJv786Ec/MhDCTz311ObBBx80EICLwfJV5Oc8o/M1tFChjdpuA807LLmFoeCn3fTpHwmQAAmQAAmQAAl0EQG7f0KusXsGYJMF92cFE5n2xR6udtCfabeXX0o8reCndjSssKUw39qe5ThwwQUXJGHZf//9c2zzdbsIIJ9JnrPL59rlbSV/XnjhhSSsEmZcTzzxxKB7dlCc2LdCwqCdTj+0WnlJGO1Sr04Hp1/6v88++ySM7fLStsXR7qGV+It8+re//a2P31YbqWGFrs6eFfz0ed+tD+xeVEncrOCnW4PJcJEACZAACZAACZAACbSYQL/Q+LGd9bab/qrx84tf/CKZ+cbeRdBoouk8gaOOOsrsvvvuLiAnnXSS2WabbTofqJQQhDR+YBWaZK+//nqyV458rjUjulU7jEu9JLVad/39739vzjrrLOfBE088Yeaee+7Wefb/LmPzZixHxl5kMNiXbpNNNnH3oX/Y/wfLnmX5WchONz2jxk83pQbDQgIkQAIkQAIkQAKdI9ARwY8VZhnsRQD1eWyS+vDDD7vlQDg+fMUVVzQbb7yxEcFKCA0661YbxZ2w479feOGF3Qac/vPQbww4r7nmGnP77be7I7Mh9Pj5z3/ujs7GCShQ6Z9iiinc3g/+9xI+Wep13XXXmX/84x9uY1Asb1piiSUMNuPFSUD+IAHu4jk4wGBQKQMeLCHABqK+wVKEX/3qV/7jqL+xzGuiiSZybiIcH3/8cWY6+J5jH5p//etf/mMz2WSTmX333bfPc/3AaoMYbCIOrnAH+2hcfPHFTgiFpRbgvMwyy5iDDz7YTDnllPrTlt1jCZ6d/XdLPRA25FNwwb4jyCvYuBWnuol57733krzy61//2lxxxRXm8ssvd4IO7E2C/UOQ37F/EvILlpNgM9YiJ0RhA2TkKRjkBbjbrcYX/Ky66qqunCG8oYF1nuAHm9VCCIm8gb2CQsvFrr766kRg+cc//jHZYyhWmviCHyybQZ5FHYa0xLJInHy39tprFzpVEAIwbPiL/ID8DcEDlhah/tphhx3cXjd56YtBPZYpYQP9Qw45xLz22mtuWQ/Cg31dkFcXWmghs+WWWxrkR78eynO/yHucbHjaaaeZu+66yzz00EPOX5QPbIC90korGZzElWakzMt7bKz8xhtvuJ84BQuCQm2wVGrppZfWj2rfQ4i63XbbOXfgH+qvqpxw6h6Wq4UMDj3AMt4iJma6VhX8IL+fd9555sILL3R1Mdo05Kdhw4Y5gdxqq63m2je0jzQkQAIkQAIkQAIkQAI9QKCIRlHMpV52INawnfpE/dwi6nNvB7YNqNanGbgR+g7P7OAg7bPkue3UNqzGRKobdhPahu3kuvd2MJB8p2/EfyzBwdIA+e1frbCmYQdH+tOGHdyk2ve/l99WENXkRit+2E1Bk3DZwXppL8BCwquvYJlnrMAv+dYOAJN77Q7u7QC7YQdnec7Vfm+FPI20+Ogw6eWMzzzzTGq48Q2YSr7SbmB5XZ6xA/zEbbhhN6PN+6Rj7/2lXlYokIQdS7lQ/rTJW+ql80baMjeUWWFqhTGJ87HSRC/1soKNhhVoJP6Jv3Ldb7/9+pT5JED2xgo0g/lAvkf6XnnllfqT4L3YR5kAF9RV8sy/2n2igm7UeWhPnGtYQXmqnwiDFeI3Pvvss6A3Ol398IZ+21O9gu7UeWiFbUn4DzjggDpOuTQLhRvPrJCvsNviRox0rbLUC+2rFUonXCQ8/jVt6WbhiNIiCZAACZAACZAACZBA2whA6yTXxBL8YPCKzqzuQGLfBHS4//CHPzQNhqy2TGq4MJCwm3+6wRcGYHrwUUTwM2LEiKYwYABij6sPDubyBD86LhBY2RnWhj0yt8l9CDK0sZo0DastkvzZpQWJfQz69Du5t8ccaydacn/MMcck4bCaNaX9wOAb6SF/wgZxyjOhQaA9St7xBFdxC9c999wzz7la760WRpN/CL/V5GhgQG+1AxpW8yZ5D8GCGF/IgLy9/PLLJ3YlDlbLp8kNCEKLGOwtI248/fTTRT7piB1f8PPmm286AYCE/ZJLLmkKVzsFP1XTRAt+JB64oh5C3eGnc9qg+NRTT03SEN8jTa32X2OPPfZoyhN4Z48Tb+Lk/5BwoI7S5QeDduQp7McmdmILfr799lsXdnEfV7CwyxGdgFM/t8ez+0F3v0844YSmuk63DQi/1H1yveOOO4Lu1HmohWX2xLw6TjWsxlNS96EOhIBQOFQR/MRI1yqCH4Rdwo26D5MkaBvQTqN9xTO8R/rRkAAJkAAJkAAJkAAJ9AaB0oIfdPjQIU37kw4jrlobAjgOPPDApEOJTjEGiNrYE6SatCzsMiz9OvVeD7jzBD/QJNJhtMsUmty1y7Wa3iOeIaPdgB1oiIiBhg8G92IHgoss0y2bO2MAKmG2S3KyglzoHbjAvSqCH7v8p8kPvek03PO1qJos1/gBd7VgBxoB0NDyDQah0F6xS2qSVzofQvgnBnlSuMogGANnCLbkudjNumoBWDs3v80KU+hdSPDz+OOPJ3FF2Uf8xbRL8FMnTUKCnzvvvFOi4K5HHHFEEkfkfbtUsOn92LFjk0Ez0t0uaWzKx2CCZ5InILjJ0uwSe3KFEEnnR3gOodtWW23VsMvvmsJS9wcE0eIvyuMDDzzQ5ORVV12VvIc9u1Sv6X3ohxaA22VTIStRnyF9JA64+u1RXc+0JmgVwY+ErU66lhX8YFJC/EW6ok32jV1q3bAnrjVuueUW/xV/kwAJkAAJkAAJkAAJdCmBSoIf6RjmXbXgB8tztP20gQhmTcUeBt1FjB5w5wl+jj766MT9NK0ieyR8YqeI4Ce0BEHHFzPwWaZbBD9yag34Y+BW11QV/GDG2TcYFOvlB/ZocN9KlN92T4sk7THw+fTTT1Pd9Qf2Oh9CiCbG7iOSuKnzCrQ8JK9DGy7PQPNB7PtaM3nftvN9SPAD/7XgCgJWMe0S/NRJE1/wY/eskuA3XbWWh7+Eb+edd07Sb/vtt2/6Tv/QS2GzBHySF3BFWSuSh7Q/de61cHTkyJFBpxBHCSM0OvNMuwU/aJ8kfLhC6BHTxBD81E3XsoIfCNyESd4JnjFZ0S0SIAESIAESIAESIIHWEqgk+IHAJO1POo24asHPZZddlnQo8wYBevCUNeMtaPSAO0/wYzdOTsKRto+G3pOkiODno48+kqA0XSE4EB5NL7wf3SL4QZpKeO2G114oy/+sKvjRQgHtq9acefTRR/WraPd67ycc81zG6HxoNyFOPj3//PMTrtjfRQzsCO8igiytkXXKKaeIM113TRP83H///Ul8ITgQ0y7BT5008QU/SOuQwRIvSVMsfdRGCy7TBN+wD01HcSMrD4odXMtolOgwVbmHEFb7/f777wedgRak2EOdnmfaLfjB0i4JH66+sRtwu2W70BTTf1jOW8TEEPzUTdeygp933nmniYmvQVYk3rRDAiRAAiRAAiRAAiTQfQT69nYDYYyxx48e5OrOdt59EfV7PeDOE/zofS/SOrV68+g8wQ+EO2lGC7AwcEwz3SL4wR4dkh5pwpe0OISeVxX82KOcQ841tMaEv8wm+EGFh3qvFr18r4hTOh9qLQh7AlfCVS9fxB4ZwtueYpbrBfYXEvsQlnSrSRP8ILx6Py5Jw3YJfuqkiS/40UvVdDpAQ0fSCOVJDDa0ludlrhCGpBntDoQU7TIQUorfWO6YZnxmafbkebsFP1h+JvHAFfWwNro8a3vIw0VMDMFP3XQtK/hBvJCmOr5YtgyBdWjZVxEOtEMCJEACJEACJEACJNB5Am0T/EDLR3cmi95j6Vee0R30PMGP1sJJ09TBPi8SvjzBD05+SjN6M15/UKG/6RbBjxYsQEulrqkq+MGsc8ikndwUslv1mYQZ6Z+myZDmts6HWiNH74fyz3/+M/n85JNPTvJZkT1NtGDO3zA8cbQLbrIEP1owghPvYNol+KmTJlqIgU2I0wyEllJ36KUy0PCR52WuWafraXf8k9LSwhfjeZnluLq+zTqpEeFqt+BH72cDlv5pgRC6QDMNf1pbq52Cn7rpWkXwo8uozmO4R/2IdqKIoDpGXqMbJEACJEACJEACJEACcQi0TfCjTwqBqjw0Sor8Ze2xIgj0gLuM4CfNbb2UYSAJfnBqi3T0Y5zYIkKULK0oSUN9KlHZI7vFjRhXiT+uZfdM0fmwjpAhLR56M+gHH3wwzVrHn2cJfhA4LJsRzhAi9JrgJ2vPLq1Fopc34VQtiTPKQ5G6D3aytM7EvbQ6qlUZQS+FRbnNMvqkrtAm6frbdgt+4LcWTGUtH8U74d0uwU+MdK0i+AEX1GXY607zkfjL9e6774ZVGhIgARIgARIgARIggR4g0DbBD47glg5j2lHHVXnpAXee4Edr4aQtI9Mnf6V1viUu/UnjRy9JytuHqUha9aLgR+ePtKWAaXHX+TC24AdaaHoQ9sknn6QFo+PP8wQ/WgMKAuEYgh+cXCVl8tZbb00YxEoTrfGDdEgz9913XxIOra2D9JLw4RrDiHtZGkgx/PHd0NpLWfWfFqAjrHnaK50Q/Ojy7p8kqOPdCcFPjHStKviRuCPNoMV26qmnun39JM/hCgFoq05XFP95JQESIAESIAESIAESiEOg0Agkxh4/OB5cOo0QAsU0enCXJ/jRmkdpy2WgTSFhHUiCn6J7dxRNu14U/OC4dUn7sieb6XwYW/Dz9NNPJ+HSx5IXTYt22ssT/GCwCIGBcN59992T+9CeMbrMpi0xwbIxca/Vgh/4k7ZM9NJLL03C4Z/cJeUB38cQ3El8YwgIyuQPvTQVQrC0DfjfeuuthEWRMHZC8LPDDjskYcT+XmmmVwU/ekN4XS7S4pn3HG5IvsO17h5Eef7xPQmQAAmQAAmQAAmQQBwCbRP86JlwDIDKLqPJiq4ecOcJfg466KCk46o3X9Xu602E2yH4gd/SmU7zT4evlfd6L4uye9z44ZKBbpaGhHzTLUu9DjnkkCQt9MlTEs6sq86HsQU/WismtuA0K05V3uUJfuDmhRdemHCWvI9rSPCj957C/iO++eyzz5q0ofQAN1aaaI0fhPPss8/2g+F+61MDjz/++CY7WjgVQ+tRuBURqjQFJMIPKdsIQ5oA/aSTTkrSuMjyqE4Ifvwj3dMEi70q+MGG5pJPMPkSw0CTTdx84IEHYjhJN0iABEiABEiABEiABFpMoG2CH8QDnX/pMGKj3jQ1ccwgY38LPYDL4qAHd3mCHz0LjbDAH22wp4ZeUpMmiJF4ZC110MsIsjZ3hv9aA2LMmDE6SG291/v81B0oyOCwlwQ/ONFNp3/aAB1LIHDUtt6IWufD2IKf1VdfPSk73T7YKiL4AT//9CCUqZDgR58IuOmmm/YpD4cddljCBm7oeiNWmviCH+zf4+8Rhg26pV7AFXWNNnpvHOSxrCPdsdHwMccck6pNA3fFr04Ifg488MDEf+w99eWXX+qouo3RdfoW2Sy+E4IfBBp5SlgizBAG+aZXBT96WSUE2XnL7bC/GgR5aVpcELIivwkvnvTl5xT+JgESIAESIAESIIHuJNBWwY8/MFpqqaUaV155ZQPLWDDTihOPMIiTjiWEEL6BAAWz/vrvjDPOSDqicFO/wz0Gf9po9X50YKFRACHHPvvs0zTox7t2CX622WabJA7wExxwhO7VV1/t/tJmonW8YtxDdV869RjQFTWjRo3qw13cwdVPE2iAadMtGj8Ikz5tC2HH8i8ICDFQHz16tNuTRoR6Om/FEjJoLrjHYExYwt9uN0UEP4iDPu5a4hcS/OiNkWEPS8OQf3AcvN7DRNxoh+AHfmEgjToLe0FdcMEFTXUHynPIbLTRRklawg2U83vuuafx2muvNSDQg4BEn9721VdfhZxxzyS+nRD8YB80LSBFXQEWqKewRFJrDuI+T+CACHVK8IMw67ig/kVbgHggbZBPtRArpL0EAbBfx+EQA0kj3PvvsbQ2ZOSbGOmK9lLaU7iLPHvkkUe6Og713B133NEUBMQX9vDNoYce2rjlllsaL7/8cgNlEEJwvTG7PrWuyRH+IAESIAESIAESIAES6DoCbRX8IPb+AEk6uaFrSPCDTnrIbtazjTfeuAk8lpmtueaaqe6gky4DgXYJfjDDL36G4oIlau0ymk3RGV1wCoU77ZnPtZsEPxik6kFbWhzwvB2CHy2IgpCz201RwQ+0RPx8ExL8IL46f/jpATf0PkDtEPz44dZhgvbem2++GUwmaJStvPLKhctKtwp+ELm05XqaBeo0COiKmE4JfhA2tCta61LHwb+HIMg3mDjw7eX9TtOolO9iCH4QzmuuuSY1bL4GnQh+JAxZ16wT53w+/E0CJEACJEACJEACJNBZAoUEP7fffnvScczbWFYLL9KEBjjWVy9d8TuXmCHed999XWfcx+PvyeB/G/odOqEKquxHHHFE0wwmZkOxxwsG/uJO2lIuea+PbPbDihlRsYelInkGG8ZiVjU0AMHsa7uM3o8J+x0VMXpWWeKcdfUFP3owPHbs2KCX+mS4ooPJoEMFH8KPUFogXgg/liDpvaq0UPL0009PfIEmhLDADLqY0047LXmedoIY8qJoG8BP7Z+4023XV155JYkX4q2Xw/lhPeGEE5rsouyHzIcffhisM6ABBU3CtLwRK010nYA68PHHH0/SRdIWVwhNP/7441AUkmc47QqD/izhEdzBKVOwm2akrk0TlqV9F/M5lqWiDtQM5B6bJZfZ/FcvudIC1ZjhzXILG27jCPO0dFl77bUbaW2a3oNL4p93Peecc4LBaUW6QmMHwlG/nsZpeNpgAmLzzTdPZYA4QQMSZY6GBEiABEiABEiABEigdwgMQlBtZ64jxgpfjF0+Y+yg11jBiBk6dKixHVP3184AWXV4YwdYZuKJJ3be2k2NzZAhQ9y9HYAZe8x5O4PTFX799re/NXZG34XFDgbMD37wg64IVycCYYUtLo9aTRYzePBgM9NMM5nZZpvNjDfeeC0Pjh1Qmt/97nfOHysIMBtssEHL/exWD1BVWUGCefLJJ115XXzxxc0UU0zR0eAiPPYUQFdfLLDAAi5/lAmQXTJlrJDD2KVeZsopp3R14Mwzz5zURWXc6qRdK5gzdsmuS5/hw4ebOeec00wyySSdDFItv+0yLGOFWgZlH3FBnMYff/xabvbax3aJl0HdDxbjjjuuGTZsmKv7pp566l6LCsNLAiRAAiRAAiRAAgOeQEcFP91K3+7tYNZYYw0XPLufiLGaQd0a1JaFC51+q0ng3Lf7qJjjjjuuZX7R4TABq2Vi5phjDmO13IzVHjN2HyUzzjjjhC3zKQmQAAmQAAmQAAmQAAmQAAmQAAkECAxIwQ9mMe0JO2a11VbrM7OOmWu7Uamb7QUvu+zJ2KUdAXT9/xEEDXbZlZlqqqkGLINOpjIEPzfeeKMLgl1yZqAJQkMCJEACJEACJEACJEACJEACJEACZQgMSMGP3bvFLLPMMsbupWDsCTpmvvnmc8sS7N5D5qSTTjL2FCXHEO8uuuiiMjxplwRIgARIgARIgARIgARIgARIgARIgAS6hsCAFvxkpYI9RcicddZZZrrppsuyxnckQAIkQAIkQAIkQAIkQAIkQAIkQAIk0LUEBqTgB8u5zj//fHPHHXeY0aNHuz1UkEL2RCEz//zzm1VWWcVsuOGGZtCgQV2bcAwYCZAACZAACZAACZAACZAACZAACZAACeQRGJCCnxAUnBhEQU+IDJ+RAAmQAAmQAAmQAAmQAAmQAAmQAAn0KgEKfno15RhuEiABEiABEiABEiABEiABEiABEiABEsghQMFPDiC+JgESIAESIAESIAESIAESIAESIAESIIFeJUDBT6+mHMNNAiRAAiRAAiRAAiRAAiRAAiRAAiRAAjkEKPjJAcTXJEACJEACJEACJEACJEACJEACJEACJNCrBCj46dWUY7hJgARIgARIgARIgARIgARIgARIgARIIIcABT85gPiaBEiABEiABEiABEiABEiABEiABEiABHqVAAU/vZpyDDcJkAAJkAAJkAAJkAAJkAAJkAAJkAAJ5BCg4CcHEF+TAAmQAAmQAAmQAAmQAAmQAAmQAAmQQK8SoOCnV1OO4SYBEiABEiABEiABEiABEiABEiABEiCBHAIU/OQA6ubXr732mjnuuONcEJdddlmz+uqrd3NwB3TYGo2Gi/+gQYMGNAdGngRIgARIgARIgARIgARIgARIoL0ECgt+XnrpJbPDDju40A0dOtSccsop7Q0pfetDYNSoUWaxxRZzz3faaSdz7LHH9rEzkB8888wzLp+OHTvWYVh++eXNJptsUgnJww8/bEaMGJF8u/XWW5uVV145+R26eeutt8yZZ55p7r77bvcHOyussIJZeumlzWabbWYGDx4c+ozPSKCnCeyyyy7m2WefdXGYZJJJzEUXXdTT8WHgSYAESIAESIAESIAESKDXCRQW/IwePdosvPDCLr6zzDKLefHFF3s97l0T/q+//tp873vfc+FZaqmlzJ133lkobBT8hDFBSHP44YebSy65pMnCVlttZU4++eSmZ0V+fPPNN2ahhRYyY8aMSayfeOKJZtttt01++zfQxlpuueUMBKYhs8QSS5jrrrvOTDbZZKHXfEYCPUngiiuuMGuttVZT2EXbrekhf5AACZAACZAACZAACZAACbSNAAU/bUOd7tFXX31lJpxwQmdhkUUWMQ888EC6ZfWGgh8Fw94+8sgjZu+99zbXX39984v//1VV8HPMMceYXXfdtcnNLMHP22+/bZCOb7zxhvtm0kknNauuuqqBAOniiy9O3IEdCPkk7ZMXvCGBHiTw0Ucfmdlnn928++67TaGn4KcJB3+QAAmQAAmQAAmQAAmQQNsJUPDTduR9PaTgpy+TKk/22GMPc8QRRySfTjPNNAbaaRCQwVQR/EBjZ/jw4YmbcpMl+IG20Z577umsIgyPP/64+T/2zjTUquoPwytS0KJo8EuUEaSFRYURBdGXsBxCqJAyKosK/VBJllgR2GgplShGNpM2YJSVZQMNJhUZZVSSJWiKflCykbIiGtz/37v+rMU6++xz7j7nHve95/ossD2scT97e2i9/gYdVXQua59du3b56+XLl7tJkyb5c/4DgW4mIAu4xYsX1z0Cwk8dEm5AAAIQgAAEIAABCECgUgIIP5XiLp4M4aeYS6t3g/AjsUeWP5dccol7+umn3dSpU/1QrQo/2rBOmDDBvfXWW+64447zgs1jjz3mx2ok/KjPiBEjoovXu+++68aMGRMfRfWnnXaaW7t2rb+nOEGvvfZarOcEAt1IYM2aNf7vh9Z+3333uVmzZsXHQPiJKDiBAAQgAAEIQAACEIBAnxDoE+FHGwEF/HzvvfecYgcpJos266eeeqobN26cu/zyy11P2Y9++eUX98ADD7i3337bbdq0ybsXyKVm5MiRfpyJEye6sWPHusGDBzcEqwCkCxcu9K5VGkNWGLLM0BgKBKwxtKZOl99++81vjMKG6J9//nFLlizx0+gZLrrooropzz//fC9CpBV5Vy9ZuyxdutStXr3arVy50jc9/fTT3bRp0+ribqTjfPvtt17ckMAhJhs3bvTVskw56aSTfDDiyZMnp11qzvUOZLmicu2113qGEly0DrldHXHEET4I9ezZs90JJ5xQ07eTF88995wT0wsuuMANGjTID/3444+3LfwsW7bMXXzxxX4cPcuLL77oJPioNBJ+FMhZcZpU9C71ne67777+Wv8Rl8suuyxe60QuYQqYToFANxKQcH3iiSf63w1lF3z22WdrvufwO9eNz8aaIQABCEAAAhCAAAQgMCAI2P+UlyqfffaZ8lH7PybSlOpT1OiHH37ILO14HCuMmR5N5Mh+/vnnou7+3scff9y0fxjryy+/bDiGbdxLjdFwgF5U2Ea/1NzhOXS866676mZMOVjGtcwEs4bjmihU1183THRr2Ced/9JLL81MGCscQ2OHtia0ZGYdE6/D/XA0sa9wjD110yx04lrM4qf0NPpOTbjxfU2I8/1M1Ipj6fspKpZZLbaZMmVKTZN0zMBDx1dffbWmHRcQ6CYC+m0K37O5Mmbbt2+P17pPgQAEIAABCEAAAhCAAAT6lkClFj9//vmnD/4Zgt7apsDZ5ti7xmzbts1nYQqxTxq5wCgD1vDhw2MAUVkKyRpFljoKqqsU3q+88oqG9pZEo0eP9ufpf5SdSZYsociyZfz48U6ph7du3eqDBH/44Ye+2l5PaNaxoyx+brjhhjjef//9V2Pxc+GFF8a6cCKLn3z68NTiJ7QTh3POOcenCl+xYkUMMKx6Ex7csGHDQlN/TLO1BcscuSoNHTrUuysFSyQ11r/my/IlX+69915300031dyWa5Ta652nY7QSvLpmwDYv2rX4ueKKK+K6g0XO9OnTe7T4Ce5mWu6CBQvcjBkz4srTMU8++WT/fapS7mNK706BQLcR0O/tqFGj/LL1m6ZA6Dt27MDip9teJOuFAAQgAAEIQAACEBjYBMrqTp2w+LnzzjvjvwSba0BmLkY105v4U2MtYu5KNfW6eOedd+IYJthkf/31V12bnTt3ZnPnzs1kWVNUbr311jjGjTfeWNQkW79+fXbbbbcV1nX6pp7BvjL/x4SR0sOnFj/qLx6yKgnl119/zUxgiGMXWals2LAhs4xTmblkZSZAha7xaGnJMxOT4hiffPJJrAsnqcWP1iHLGHNfC9WZbQ5jf9U3s8SKnTp00o7Fj8Xlieu1eCVxJWUsflKrqyeffDL2laVTeMf6/m655ZZ4PWfOnNiOEwh0CwH9Xphbo1rmlL4AAAq9SURBVP+O9RthWb380rH46ZY3yDohAAEIQAACEIAABPYWAqXt8Hsr/OQ3A5s3by5knM6jTUW+PProo3HDbJmT8tWlri1uSxxDgkdfl04JP2bJVPcoL7zwQnxWuYO1UyyWUhyjyGUsFX60ASwS41LRxGLltLOMtvq0Kvz88ccfmVwZJdIcc8wxmcUvifOmz1AkoqmhxaiKrMziyvc1q6eaMXUtQSkIQWZJFOfgBALdQkBuneEbtthVcdn53/pYwQkEIAABCEAAAhCAAAQg0CcEKhN+tNkPm4Qrr7yy6cPKGii0/ffff2vavvTSS7HOXJNqNuY1DZtcmPtNHEMWGn1dOiH8yLKnqKTWNoqd1E4x967I6/rrr68bIhV+zOWrrl430k1iI9GksGMvb7Yq/KSWOLIuS0sZ4Sf9dletWuW733HHHZHf+++/7++lAqa59qXTcA6Bfk/A3LliDCxZGu7evTuuGeEnouAEAhCAAAQgAAEIQAAC/YJAZcLPvHnz4uY3iDpljnl3MIvBUzOOLEwsW1RmGamyn376qRRUy/5UM4bcq+6///5MrlOy+Ki6dEL4aSQe/Pjjj/FZLVNZw0eTtdDVV1+dWVyeTIJao3dTFCA5FX4efvjhwjks7lIcs0rXplaEn3Xr1sU1WmawuucoI/wE1xfxszTt2TfffBPHTNmlVlRXXXVV3VzcgEB/JqDfm/AbkXfdRPjpz2+OtUEAAhCAAAQgAAEI7I0EKhN+ZOUTNgqtHOX6lS+p0JAfSxmllGXGAijnu8VrxaawQMkN1yPxQ/FZimLexEE6eNIJ4UdWTEXF0onH5yxynbNg2Vnq+pbnmb9OxYswX/o+ZJFVVCSChLFkAVNVKSv8KCaRBMCwRsWbypcywk+6IdY3FIQgCZRppro03pWESwoEuoVA+ne5yH0U4adb3iTrhAAEIAABCEAAAhDYWwhUltXLNsQ+a5dtrJ25C7mzzz5bpz0W2zj7DFX5hhaA1y1atMhZAOh8lb+2+CxOmblsw11Yb6KOs425M5cbt3bt2sI2yqRlLmpun332Kazv1E2LI+OGDBnih2sl61Wa1UtMLZV43ZIs4Ko7+OCD/X2x/OCDD2raXHfddZ5juDlp0iQ3ZswYd9hhh7n99tvP3/76669jFjKzTnHKlJWWNKvXyy+/7M4777y02p+//vrrbuLEif7chB9nAY7r2uyJG2Wzeq1Zs8Ypu5uKMpKJS7489dRT7qOPPvK39W0oE5yKpXt3Bx54oD9PeSpLWshgZ4KYU59QlAFJWb9UzPXNXXPNNaGKIwT6NYGxY8c6c4P0a7znnnvcoYceWrNes7x05jIZ7z3yyCP+fOTIke7MM8+M9zmBAAQgAAEIQAACEIAABCoiUFbhSoMuK/htq0WBmO2R/J9OxniRa5ZctGR1ksZX0VxyXSpT5A4lVzHFp5FlRlinjs8//3yZIXrVphMWP0Wxd7SoZhY/yvqVPquJQoXPYWJObFfklpRa/KhtUUmtBPqjxY+ePWXRyrncuUK5++6768Ypiq107rnnxnZVfGNhfRwh0FsCchlt5e9HaCvLQgoEIAABCEAAAhCAAAQgUD2Byly95PYSNgDtZuPqCY9cs8z6JM7TjkAlIcmsXuIYRa5NPa2j1fq+En7SFOPNNmWKfxTeHcLP/8XLwEPHVPjJx4864IADMrm+pEWZwtL+ZnGWVnMOgX5NAOGnX78eFgcBCEAAAhCAAAQgAIE6ApUJP7LKCZtdWdXsqSDKyi4T5tGxnaKNeBhDsYCqKGE+sSlbUqbtWPykVjjmelQ4rWLfKK15WN9AFX70nIrr0+xPGgvJXNVi2zQW1K5duyIrMZNoli/K7BV4SpxMMyLl23INgf5GQBaSzf6epL9L+s5D2zTGVX97JtYDAQhAAAIQgAAEIACBgUygtDLSW1cvQbS4PnHDK7eqdMOcQlYK9zfeeCOTRUq+KINMPotM2uarr76Kcyg7VVFRmu68FUba7qGHHopjTJs2La3aY+cKSh3EAGXYKlPSDVY7ws+GDRvinJpflij5klpQaX0DVfjJP3fRdZngzuonRuFdKlC4RKVQJHimLoniS4HAQCJAcOeB9DZ5FghAAAIQgAAEIACBgUCgreDOtql1lqVLh6Zl9OjRzjbLsY0JDT5wbrihYMMzZ850xx57rBs0aJDbsmWL+/zzz92DDz7og+IWBQG2eDLu5ptvdgqCPHXqVHf88ce74cOHO/tXZbd69WofrDkE1FW7uXPnhuniUUF5LaaPUyDjyZMnuxEjRrhhw4Y5E1zcqlWrYtBddTAByk2YMCH23VMnCu67ePFiP7wCUitY89FHHx2DPo8aNcqvM52/t8GdTWBzhxxyiDMrFT+s3ofe6xlnnOG+++4798QTT7glS5akUzoTNfp1cGdLJ++++OKLuGadh+DdZl3jzjrrrFinANa33357vO7pZPr06T4Qs9o1C8icvhe11Xc2ZcoUiaxO69O3F4q+1cMPPzxccoRA1xPYsWNHzTet754CAQhAAAIQgAAEIAABCPQhgbLqVWrxY8uNFg3NzovcpJYtW5Yp7kmzfqGuKAjwvHnzSvWVBUsj14Jx48aVGsM265W54ehfyZtxUYr6fOmtxY/GW7FiRY8sTECLbfq7xU8aNDl8R42OrcaAKmvxI67PPPNMZNZo/kbBtNWfAoFuJYDFT7e+OdYNAQhAAAIQgAAEIDBQCZR29ZJ7VaMNbKP72oQXFbNyyJpt0BVTZvbs2dmmTZvquls6bR98uZlIYqmEM8WhaFSWLl2ayQWn0brlImZp3rO///670RB75L6lXs+U8Sx1+wprtLTJdXN++umn8RlmzZpVV68baeYuBWUtKpZqvC6bmeaVMCJhaN26dXGeomDX8+fPj/UrV64smiJ78803Y5s5c+YUtunETWXQCsx6Ouo7a6XMmDEjjm3WWT12Xb58uWeYX4dcvSTaUSAwEAmYtWD8e6LfaQoEIAABCEAAAhCAAAQg0LcESrt62ea140WuRps3b3YbN250JrJ49wATXZz+9FTUV/3kkvT9998722C4I4880smdZ//99++pu6///fffnYlLfgwTXZxcrDTGUUcd5QYPHlxqjIHSyOL7eBbiMXToUHfKKad497eB8nx9+Rw7d+707mZDhgzxXA866KC+XA5zQwACEIAABCAAAQhAAAIQgMBeRKBPhZ+9iDOPCgEIQAACEIAABCAAAQhAAAIQgAAEKieA8FM5ciaEAAQgAAEIQAACEIAABCAAAQhAAALVEED4qYYzs0AAAhCAAAQgAAEIQAACEIAABCAAgcoJIPxUjpwJIQABCEAAAhCAAAQgAAEIQAACEIBANQQQfqrhzCwQgAAEIAABCEAAAhCAAAQgAAEIQKByAgg/lSNnQghAAAIQgAAEIAABCEAAAhCAAAQgUA0BhJ9qODMLBCAAAQhAAAIQgAAEIAABCEAAAhConADCT+XImRACEIAABCAAAQhAAAIQgAAEIAABCFRDAOGnGs7MAgEIQAACEIAABCAAAQhAAAIQgAAEKieA8FM5ciaEAAQgAAEIQAACEIAABCAAAQhAAALVEED4qYYzs0AAAhCAAAQgAAEIQAACEIAABCAAgcoJIPxUjpwJIQABCEAAAhCAAAQgAAEIQAACEIBANQT+BwAA///7qbgTAABAAElEQVTtvQm8FMW5/10oRAiauHA1fhDjAiLiclE07iG4AIovigu+KmI0cFXUKF4UURAVBReWvxuC8AqSXBVUUAT+bpBgXEDZxLiAcAFRWQR3UVz6rV+ZrtTM9JzTc5hzOHPOtz6fQ3fX1lXf7h6mf/M8T9WJbDIkCEAAAhCAAAQgAAEIQAACEIAABCAAgRpHoA7CT427pkwIAhCAAAQgAAEIQAACEIAABCAAAQg4Agg/3AgQgAAEIAABCEAAAhCAAAQgAAEIQKCGEkD4KeELu3LlSjNs2DA3gzZt2phOnTqV8GwYOgQgAAEIQAACEIAABCAAAQhAAALFJpBa+Fm2bJm54oor3PkbN25sRo4cWeyx0F+BBF577TVzxBFHuFZXXXWVGTp0aIE91Ozq7777rrtP169f7ybatm1bc8EFF1Ro0vPmzTP9+/f3bS+55BJz8skn++NwR9diyZIlYVbi/j777MM1SyRDZqkR0DP2wAMPmPfee88NfddddzW33357QdMo5vNa0ImpDAEIQAACEIAABCAAgRpOILXwM3fuXNO6dWuHY6+99jJLly6t4WiqbnqbNm0y22yzjTvhMcccY2bNmpXq5Ag/yZgk0gwePNhMnDgxo8LFF19sRowYkZGX5uCHH34whxxyiHnzzTd99Xvvvdf07NnTH4c7Bx10UEbdsCzcP/DAA83ChQvDLPYhUFIEPvroI/N//s//MXfccUfGuAv5P6LYz2vGQDiAAAQgAAEIQAACEIAABAzCTzW4Cb777jtTv359N5JDDz3UzJkzJ9WoEH4yMc2fP99cf/31Zvr06ZkF/zqqqPAzZMgQ89///d8ZfaYVfnbeeeeMduGBxKRp06aFWexDoCQIrF271gwYMCCvkJpG+Kms57UkADJICEAAAhCAAAQgAAEIVCEBhJ8qhJ3vVAg/+cgUlt+nT58M9xKJLnoBlUCmVBHhRy6Oe++9d85A0go/P/74o9lqq61y2pMBgVImIHH1pJNOypiCXB+nTp3q8tIIP5XxvGYMiAMIQAACEIAABCAAAQhA4GcCWs49TXrjjTci28L92S/1aZpQJyWBb7/91rO1Fj8pW0XRq6++6tvZuDKp29XUitdee62/P8eMGROJ64MPPugZWeGnoKn/9NNPUbt27Vz7/fbbL+revbvvywo/efuyLly+nhV+8tajAAKlSsBaqrl7fLvttotuvPHGyFoARe+8846/79P8H1Hs57VUWTJuCEAAAhCAAAQgAAEIVDaBLWLxYydlHnvsMTNjxgyj2EGK8aBfiA877DBjX7RNt27dTJ06dcrU5j799FNzzz33mOeee84F0pXrgX0JMc2aNXP9dOzY0Zx44ommXr16eftRINLhw4c71yoF4/3yyy+NrETUhwIBqw+Nqdjpiy++ML179zbioPT999+bsWPHun3N4eyzz3b74T+nnXaa6dChQ5jlLFnC4M4Kpjpu3Dgzc+ZMM2XKFFf3yCOPND169DCdO3fOaBsevP/+++bZZ591f2KyePFiV3zUUUcZxas59thjTZcuXcImGfu6Bo8//rjLu+yyyxzD8ePHu3HIMmC33XZzQaj79etnDjjggIy2xTx49NFHHdMzzzzT1K1b13U9evRoYwUbt1+oxc8jjzxizjnnHNdWTJ944gkjSx8lLH4cBv6ppQQUm0rPtp6p7bff3lFQcOYWLVq4/TQWP8V+XmvppWDaEIAABCAAAQhAAAIQKJ9AWmWpWBY/69ati+yy4/6XYTvCnH0rckQbNmzIO7TQ0iWpfZy3YMGCvH3IYiOuV9Y2bwebUbBq1apU5w7Hdcstt+ScMeRgV1yLrGCWt18rCuW0V4YV3fK2Cc9/3nnnRVYYS+xDfcd1rdASyTomPs7eWrEvsY/KyqyoxY/uU1kzaPxWiHPDs6KWnxcWP5V1xei3VAkUavGTNM+KPq9JfZEHAQhAAAIQgAAEIAABCPxMoEotfr755hvTvHlzY4UP+z79c+ratatp2rSpWbFihVuFSVY3SooX8cwzz/xcKfhXK2A1adLEyMJHSb8syxpFljqrV682+tX5qaeecmWyJGrVqpXbD//R6kyyZImTLFvat29vGjZsaJYvX24UdPSll15yxRZTXK1oW1n89OrVy/enODChxc9ZZ53ly+IdWfxkLx8eBneO64mDYm9su+22ZvLkyRmsrZhhGjVqFFd123C1ttgyR9ejQYMGRvFt4nGpcps2bZwVT0YH9kAr+li3jYxsK/64+rrmYR+FBK/O6LCCBxW1+PnjH//ox637tXHjxubyyy8v2OJHy77bF2Jn1dWyZUsjLrJEiy0jKjgtmkGg2hEo1OInaQIVfV6T+iIPAhCAAAQgAAEIQAACEPgXgbQKWDEsfm6++WZvMaE4KNbFKOP0VvzJsBax7koZ5Tp4/vnnfR9WsHFxXLIrrVmzJho0aFAky5qk1L9/f9/HNddck1Qleuutt1zsisTCImcWI8aPvZyReMhSJU6ff/55dPDBB/u5Jlmp6Ff6U045JbJuG1FSPJqVK1dGVkzyfcyePTvu3m9Dix+NQ5Yx1n3Nl9sXQt9e5WVZYvlGRdqpiAXBCy+84Md75513+pFUxOJH8036sysiRRs3bvR9swOBUieAxU+pX0HGDwEIQAACEIAABCBQUwkoJkqqtLnCz4cffpjxArx06dLE84bnOeaYY3LqjBo1yvdz3XXX5ZSnybBxW3wfEjy2dCqW8GMtmXKmMnHiRD9XuYNVJNlYSr6PJJexUPiRSKT5ZKdQNLGxcrKLK+24UOHn66+/jhSYVmLNPvvsE9kV1/zYwjkkiWhxxTC4s/qxllSeXygC2VhEcRO2ECh5Agg/JX8JmQAEIAABCEAAAhCAQA0lUGXCj17245feCy+8sEyc4YvzDz/8kFH3ySef9P3ohTp8Mc+oWMbBlVde6ftQXJwtnYoh/MiyJymF1jaKnVSRZAMbe15Jq4eFwo9W6klKiv0TX/+yRJOktpuTV6jw07dvXz9OWZeFKa3wo9XDJJZJ7IyTLKAUk+nwww/3/YvH008/HVdhC4GSJoDwU9KXj8FDAAIQgAAEIAABCNRgAlUm/AwePDjjhTcWAcrbZruD2Rg8Gf3IwsSuFhXZVami9evXp7pUdjWZjD60hPpdd93lXsxl8VHVqRjCj40LlDjsTz75xM/VrlSWWEeZsha69NJLIxvHJ6+Fiq5V0pLoofDzwAMPJJ7Dxl3y4xg4cGBincrILET4sSsV+TEmWeOkFX7KmoeETLnkxfe9RE4SBGoCAYSfmnAVmQMEIAABCEAAAhCAQE0kUGXCj6x84pfdQrZy/cpOodCQ3ZdWlNIKWDaAcnYzf6xYNjZQct7xSPx46KGHEmPe+E6KuFMM4UdWTEnJLnvv55nkOmeDZUeh61s2z+zj8oQfWWQlJRuo24/jpptuSqpSKXlphR9Z5EgAjOereFPZqRjCj/oMBSadryJWa9lj4xgCW5oAws+WvgKcHwIQgAAEIAABCEAAAskEqmxVL61UZePN2PdcY6y7kDnhhBPcfnn/WLHCrVCVXc8G4DV33323sQGgs4vcsY3P4lbm0ipXSUkraVlxx9iYQeb1119PqmK0kpZ1UTN16tRJLC9Wpn3xN/Xr13fdFbLqVbiql5gOHTo0Z0ifffaZ2WGHHVy+WM6aNSujzp///GfHMc48/fTTzXHHHWd23XVX88tf/tJl//Of//SrkF100UVGK++EKVzVa9KkSebUU08Ni93+1KlTTceOHd2+FX6MDbCdU6cyMtKuEvTKK68Yre6mpJW3xCU7Pfzww+bll1922bo3tBKckl3u3fzqV79y+2n++emnn8zWW2/tq9oXZrPvvvv6Y3YgUIoEWNWrFK8aY4YABCAAAQhAAAIQqBUEkvWg3Nww6LKC3xaaFIjZAnV/xYzxItcsxU6RFVAYG0jnkutSmiR3KLmKKT5NuIKV+pgwYUKaLjarTjEsfpJi72hQZVn8aNWv+Jpoa0WhxHlYMcfXs8JPTp3QAkt1k1J1t/jR3EMWhey//fbbSVMuMy+8z/JxL7MDCiFQzQhg8VPNLgjDgQAEIAABCEAAAhCAwL8IVJmrl1yn4pfpiq7GVd5VkwuXtT7x56mIQCUhyVq9+D6SXJvKG0eh5VtK+JkxY4afp9y98iXFP4qvHcJP7vLshQo/usdintp+8MEH+dCTD4GSIYDwUzKXioFCAAIQgAAEIAABCNQyAlUm/MgqJ37ZlbVDZQVRtm40/jw6X0WSdf3yfSgWUFWkkE3a84VMK2LxE1rh9OrVK/G0in2jZc3j8dVU4UfzVFyfsv7CWEjWVc3XleBYSBo/frznud122xXSlLoQqLYEEH6q7aVhYBCAAAQgAAEIQAACtZxAamVkc129xNnG9fEvvHKryvfCrJWPpk2bFskiJTstWLAg0l++tGjRIn8OLfeelLRMd7jUdnadESNG+D569OiRXVwpxwpKHYsrWmErTdpc4Sd8UdP5k4IMhxZUGl9NFX7S8E4T3Fkrxtk4QHm7U2BniT3xte7WrVveuhRAoJQIhJ8nFbG21FzTBmMvJS6MFQIQgAAEIAABCEAAAluaQIWCO9uXVmNX6dKmzNSqVStjX5Z9Hfti4ALnxhkKNnz11Veb5s2bm7p165ply5aZefPmmfvuu8+sWrXKJAUBtvFkTJ8+fYyCIHfv3t20bNnSNGnSxFhLDTNz5kwXrFltlVRv0KBB8en8VkF5bUwfo0DGXbp0MU2bNjWNGjUyVnAxL774ohk2bJivawUo06FDB39cWTs9e/Y0999/v+teAakVrHnvvff2QZ9btGjhxhmef3ODO1uBzey4447myy+/dN3qeui6Hn300Wb16tVmzJgxZuzYseEpjRV+qnVwZ7ucvJk/f74fs/bj4N32ZdQcf/zxvkwBrAcMGOCPy9u5/PLLjY1P5appq2uWnTp37mwU4FoBos844wyz5557ml122cWsWbPGzJ4922h8cbICkFmyZIkrj/PYQqBUCFhh3jz22GN+uOvWrXP3fpxhRfN4123vvPPOnCDolfm8ZpycAwhAAAIQgAAEIAABCNRmAmmVp9Dix/LyFgtl7Se5ST3yyCMZFg9ltU9a9nvw4MGpzi0Llg0bNiROr127dqn66Nq1ayTXsapIskAKLUGyuWiJ+uy0uRY/6m/y5MnlsrACmq9T3S1+OnXq5MeazTD7uFCrhDQWP3a1r1Tn17VWQHESBEqVwPDhw1Pd6/Fzl2RlWZnPa6lyZdwQgAAEIAABCEAAAhAoNoHUrl5yr4q/wKfd6kt9UrIWOVFZX/gVU6Zfv36RtYbIaS43GgVfLksk6du3b6SVuvKlcePGRW3atMk7H7mI2WXeo02bNuXrolLy7dLrkVY8C92+Yta33XZbzjnnzJnj59C7d++ccmWEK3e1bds2sc6TTz6Zs5qZzithRMKQ3JPicSQFux4yZIgvnzJlSuI5pk+f7usMHDgwsU4xMtMKL5qP7rNC0pVXXunnYK2zEpuOHDky8frF/LSVeLZ27drE9mRCoFQI6LMqvK/L2//4449zplaZz2vOyciAAAQgAAEIQAACEIBALSWQ2tXLfqkvepKr0dKlS83ixYuNFVlM48aNjRVd3F95J1NbtZNLkn2JNnKb2X333Y3ceRo2bFhec1f+1VdfOVcb9WFFFyMXK/Wxxx57mHr16qXqo6ZUsvF9HAu5HjVo0MC0bt3aub/VlPlV9Tw++ugjs3z5ciP3F7nS7bTTTs5VrzbeW1XNnvNBAAIQgAAEIAABCEAAAhCAwL8JbFHh59/DYA8CEIAABCAAAQhAAAIQgAAEIAABCECg2AQQfopNlP4gAAEIQAACEIAABCAAAQhAAAIQgEA1IYDwU00uBMOAAAQgAAEIQAACEIAABCAAAQhAAALFJoDwU2yi9AcBCEAAAhCAAAQgAAEIQAACEIAABKoJAYSfanIhGAYEIAABCEAAAhCAAAQgAAEIQAACECg2AYSfYhOlPwhAAAIQgAAEIAABCEAAAhCAAAQgUE0IIPxUkwvBMCAAAQhAAAIQgAAEIAABCEAAAhCAQLEJIPwUmyj9QQACEIAABCAAAQhAAAIQgAAEIACBakIA4aeaXAiGAQEIQAACEIAABCAAAQhAAAIQgAAEik0A4afYROkPAhCAAAQgAAEIQAACEIAABCAAAQhUEwIIP9XkQjAMCEAAAhCAAAQgAAEIQAACEIAABCBQbAIIP8UmSn8QgAAEIAABCEAAAhCAAAQgAAEIQKCaEED4qSYXgmFAAAIQgAAEIAABCEAAAhCAAAQgAIFiE0D4KTZR+oMABCAAAQhAAAIQgAAEIAABCEAAAtWEAMJPNbkQDAMCEIAABCAAAQhAAAIQgAAEIAABCBSbAMJPsYlWYX8rV640w4YNc2ds06aN6dSpUxWenVMVQiCKIle9Tp06hTSjLgRKgoDu7w0bNphf/epXpl69ehUe8+eff24aNGhgfvGLX1S4DxpCAAIQgAAEIAABCEAAApkEUgs/y5YtM1dccYVr3bhxYzNy5MjMnjiqcgKvvfaaOeKII9x5r7rqKjN06NAqH0N1PuG7777r7tP169e7YbZt29ZccMEFZQ5ZHJcsWVJmHRXus88+5fL++OOPzUMPPWT+8Y9/uD+1O/74482xxx5r/vSnP5ltt91WWSQIlByBn376yd3Tf/3rX9327bff9nPQs9G6dWvTt29f07JlS5+fb2fq1KnmvvvuM3PnzjVr16511Y466ijzu9/9zlxyySWmadOm+ZqSDwEIQAACEIAABCAAAQikIJBa+NGXcn2ZV9prr73M0qVLU3RPlTQENm3aZLbZZhtX9ZhjjjGzZs1K08wg/CRjmjdvnhk8eLCZOHFiRoWLL77YjBgxIiMv++Cggw4yb775ZnZ2zvGBBx5oFi5cmJMfZ8ga6w9/+IORYJqU9GKrF95f//rXScXkQaBaE0j7nFx77bXuWUyajD73Lr30UjNmzJikYpe33XbbmRkzZvj/e/JWpAACEIAABCAAAQhAAAIQyEsA4Scvmqor+O6770z9+vXdCQ899FAzZ86cVCdH+MnENH/+fHP99deb6dOnZxb866hQ4WfnnXdO7EeZhxxyiJk2bVpi+erVq42u46pVq1y5Xl5POeUU88MPP5gJEyb4NqojkS++9r6AHQhUcwK77LKLt87RUCVkHnDAAeazzz5zguaXX37pZzBq1CjTvXt3fxzv3HPPPd6KVHknn3yykcvqN998Y5544okMAVZirPonQQACEIAABCAAAQhAAAIVIGBjM6RKb7zxhoKUuD9r8ZOqDZXSEfj22289WysGpGtka7366qu+nXVRSt2upla01gWeh+5VK9xEhx9+uM+zwk+5U7eWPL7+jz/+WG79pAqDBg3yfWgMa9as8dXsC2xkhSBf/vjjj/sydiBQKgR0X+tZefTRR6Pvv/8+Y9g21k9k4435e1zPovLCtG7duoznwLqphsXRxo0bo7POOsv3cdlll2WUcwABCEAAAhCAAAQgAAEIpCeAxU8FxLJiN8HipzhE+/TpY26//XbniijLn3PPPdeMHz/eWxsUavFjhR+z1VZbFTQ4++i5mCSxi9cLL7xgjjvuON+HyhW75PXXX3d5snJ45plnfDk7ECgFAnL9Pfjgg02+YOWKq7Xnnnua2PLnb3/7m/n973/vpzZp0iTTuXNnd6yYQIoRtPXWW/ty7VjB1PzmN79xebKa07ECP5MgAAEIQAACEIAABCAAgcIIbBHhRy+/jz32mIvdoBcIxWRR3KDDDjvMtGvXznTr1i3vC0U8vU8//dTIVeC5555zwXgVFFQvB82aNXP9dOzY0Zx44ollrjDz3nvvmeHDhzvXKgX01UuK3HvUhwIBqw+Nqdjpiy++ML179zbioGR/MTdjx451+5rD2Wef7fbDf0477TTToUOHMCsnxo9Ej3HjxpmZM2eaKVOmuLpHHnmk6dGjh3/JyujgXwfvv/++efbZZ92fmCxevNiVyH1DsTwUjLhLly5JTV2eroG1XHH79pd5x1CCi8Yht6vddtvNBaHu169fpbprWOsDx/TMM880devWdeMZPXp0lQo/CuSsOE1Kupa6T8MXWnE5//zzXXn8j1zCFDCdBIGaRECCp+LzKOmzWp8NcbrrrrvcZ6COFQT61ltvjYsytmeccYZz+1KmPmNOP/30jHIOIAABCEAAAhCAAAQgAIEUBKz4kCoVy9VLJv7ZbgB2mN6kX/tW5MhxDQgHGbo4ZbcNjxcsWBA2y9i/9957M84Ztgv3MxoV6cC+6Kc6dziOW265JefsIQe74lpkBbO8/VpRKKe9MqzolrdNeP7zzjsvssJYYh/qO65rhZZov/3288dxfry1L4KJfVRW5oMPPujHUhWuXnJZiefatWvXjGllu7fE9Z5++umMehxAoCYQCN0s/+d//idjSnoW4/v//vvvzygLD6655hpfL+kzMKzLPgQgAAEIQAACEIAABCCQTKBKLX4UtLN58+Y+6K394m/sy7FzjVmxYoVbhSl2DcjnAqOVYJo0aeIDi8pSSNYostRRUF0t4f3UU0+pa2dJ1KpVK7cf/qNAobJkiZMsW9q3b28aNmxoli9fbhQk+KWXXnLFFltcrWhbWfz06tXL9yeXotDix8a28GXxjix+xCRMYXDnOF8cTjrpJLdU+OTJkzNYW+HBNGrUKK7qtuFqbbFljpZPlkuF3JXicamyAq/Kiic73XHHHUar94TJij+uvq552EchwavD/iq6vzkWP1pK+p133nEWWVqWWnOSFVmLFi3yDid2N1OFYcOGmSuvvNLX/eMf/+hZyE1Glm5KVpxyy7v7iuxAoMQJ2Bg95pe//KWfhawK9957b3+sZ+uBBx5wx1ppT26YSUmfK/p8Ubr88svN3XffnVSNPAhAAAIQgAAEIAABCECgLALJelBubjEsfm6++Wb/660Cg9qXgYwTWfEnw1rEuitllOvg+eef931YwSZSYOTspGC6CrAry5qk1L9/f9+HflFOSm+99VZ04403JhUVPa8YwZ3tNY7EQ1Ylcfr8888jKzD4ucrKKTtZYSOyK05F1iUrSgpmbJcld0GS1b/+Zs+end1FFFr8qI4CsYYBX60Y58eg8rIssXI638yMzbH4ieecvR0wYIALPps0tNDq6qGHHvJVZOkU96P7z7q3+OOBAwf6euxAoCYQGDlypL+/raCcM6U777zTl99www055XGGde3y9awLZ5zNFgIQgAAEIAABCEAAAhAogIBioqRKmyv8fPjhh/4LvF6Aly5dmnje8Dw2VkpOHbs0sO/nuuuuyylPk3HOOef4PiR4bOlULOFHK0Zlp4kTJ/q5yh2sIsnG5/B9JLmMhcKPVvtJEuMkBsXCh12quSLDqFCbzRV+9NIajzvc5nsJtTGqfH1rceXGbK2eIq2Ep/Y2kG2k4/DF11oyVGhuNIJAdSRgrSYzVuySWJ+d9BkQP096JpJEZ2vB6euobtL/B9n9cgwBCEAAAhCAAAQgAAEI5BKoMuEn/KJ/4YUX5o4kyAmX1P7hhx+Ckih68skn/cuAXsrtilgZ5WkOrPuN70MWGls6FUP4kWVPUgqtbRQ7qSLJund5XknLxofCj5ZUT0qK/RO/6CVZHiW1KUZeocKPYo9I6JJQGSdZLymeUhizRHNJis0T3rsvvvii6+Kmm27yc//73//u8kIBU8tWkyBQEwhoGXbrzunvdwm+SSk73pV14cqolr2cu543CUQkCEAAAhCAAAQgAAEIQKBwAlUm/AwePNi/DMQCQJpttjuYfk0O28nCxK4WFdlVqSK7hHAqAnb1p4w+9KJiV5lxL/dff/11qj6KWakYwk8+8eCTTz7xc7UrleUdtqyFLr300sjG8YnyWbmIe1KA5FD4sXE7Es9h4y75cVSla1Ohwk/i4P+VKRFS7nTx/SeRJzvJKiEut8u0R3aZan8csgutqC666KLsbjiGQMkR0POhz6H4/leQ96+++irvPGzsHl9XbeRyqs8SCaWhgBr3p2ePBAEIQAACEIAABCAAAQgUTqDKhB9Z+cRf4AvZyvUrO4VCQ3ZfetnQ6i82gHJ2M38stwIbKDnveCR+PGTjsyS5H/hOirhTDOFHVkxJyS4n7ueZ5Cphg2VHoetbNs/s41C8iM8XXg9ZZCUliSBxX3qxq6pUTOFHY164cKGfh+aTbXEWvvjqHoqFIAmUGzZs8NMO411JuCRBoNQJyGUxfsZ1v3/wwQdlTkkuj+V99mjFr7jPs88+u8z+KIQABCAAAQhAAAIQgAAEkglUmfCjmCjxF3i5C02bNi3VX74lxBU3Qr8Qx31mb+UWoCDP+ZJ+nZYoELolZPch16iffvopXxdFyy+G8JPkgqUBlif8KO5POG8FU9XL1qRJk5wVlSypwiXKk6xTQuFH7ZJSTRF+JAaGvBQcO0whz9ByKlsQ0/WK+6lK17dwrOxDoFgEQnfG7bbbLvrnP/+ZumtZYJ5wwgk+LpBEowsuuCB64YUXolmzZvnnJF8g/tQnoiIEIAABCEAAAhCAAARqKYEqE34UiLkyXnTlmqX4KxIfst0D5LqUJskdSgKH4tPopSMep7YTJkxI08Vm1dlSwo9W/QrnqpespCQxJ65X24Uf8QnvkWxmt956q2cVM0uKrdSpUydfryrusaTrSh4EikFA8Xnie13b1157rcLdyl03tLQMVwfLjgNU4ZPQEAIQgAAEIAABCEAAArWMQJUJP3J7iV8OKroaV3nXRi8MYdwIraRUaJKQFC4hnOTaVGif5dXfUsJPuMS4XC7yJcU/iq9dbRd+dH/ELLTNdmfJjh8l64cwULQYyz0s7OP111/Ph558CFRrAuHnuu5pWekUM4VifhwsvZj90xcEIAABCEAAAhCAAARqA4EqE35klRO/7MpiorKCKMs1Kz6PthVJehGP+1AsoKpI8fnEJm0KmVbE1St0v+rVq1fiabWildzm4vHVduFn/PjxnoVEnewk18SYlbYSzbKTVvaK60icrAp3wuwxcAyBzSUQrtSo+1kB3IuZXnrpJf+c5FvyvZjnoy8IQAACEIAABCAAAQjUVAKplREFWQ5fVisCRHEc4j7kVhWa9If9Kf6OYgDJIiU7LViwINJfvrRo0SJ/DsVYSUqKD5RthRHWGzFihO+jR48eYVGl7SsodcxGK2ylSZsr/Cg+TXxOnT87ULHGEFpQqW5NFn5krfPyyy/nRa/AzhJ7YmbdunVLrCtGcR0FCpd4FicJnqEVg/iSIFBqBOQaG9/j2j7yyCMFT0GWjitWrEhsp8+28FmTZREJAhCAAAQgAAEIQAACEKgYgTpqZr+4l5vmzp1rWrdu7evZVbr8fr6dVq1amcsuu8wXW6HBWIHBH9sVj8zVV19tmjdvburWrWuWLVtm5s2bZ+677z6zatUqYwOGmv79+/v62rGxfEyfPn2MDcpsunfvblq2bGmaNGli7AuEmTlzphk1apRrq7qqN2jQIO1mpPbt2xv74mKsS5fp0qWLadq0qWnUqJGxgoux7gRm2LBhvr4VoEyHDh38cWXt9OzZ09igyq57a/VjrAWP2XvvvU39+vVdXosWLdw4w/PbWBrmiCOOcFmqb4Mwh8Vu/7PPPjM77LCD2xdvG5PG17ECm9lxxx2NtVLx5bquRx99tFm9erUZM2aMGTt2rK+vHStqmNGjR2fkWfHCWCHP5dl4QObUU0/NKNfB1KlTTceOHV1+0nXNaVDBDLucvJk/f75vrX1rweWOrXWNOf74433ZrrvuagYMGOCPO3fubDR+3aNnnHGG2XPPPc0uu+xibJBwM3v2bKO+42RfSs2SJUtceZwXb8ProjzdZ127dpXI6vrQvRcn3eeNGzeOD9lCoNoT0OfFr371q4xxlvf/we9//3tz/vnnZ7R5++233ee3jXdlTjzxRLP77rubjz/+2D1r+uyJkxXw3bMWfxbG+WwhAAEIQAACEIAABCAAgZQE0upFocWP7Trj1958x0luUvplOPwlN19b5Sct+z148OBU55YFS7h8djjPdu3aperDvqxXmRuOLJDK4qIl6rPT5lr8qL/JkyeXy8IKaL5Odbf4CYMml3VvqSw7BpSCMJfXRuW6TrJ4KCv95S9/Kbev7MDQZfVHGQSqCwEFYE7znIR1kj43tPJXWCdp/6ijjoqsCF1dps44IAABCEAAAhCAAAQgUJIEUrt6yb0q6Yt5WXl6CU9K1sohKusFXfEc+vXrF1mLipzmcsVR8OWyRJK+fftGWqkrXxo3blwkF5x8Y5eLmLUcijZt2pSvi0rJt9Y5kZb2lmiVPbbbbrst55xz5szx9Xr37p1Troxw5a62bdsm1tFS4+FKVfG5JYxIGJKLU5yXFOx6yJAhvnzKlCmJ55g+fbqvM3DgwMQ6xchMK95oPrrPwqQVhJLYx3PXVi+wa9euDZvl3X/88ceduBS2175cvSTakSBQigQkqGff0+UdJ31uWEu6SMJOUlt9Hl1++eXRxo0bSxERY4YABCAAAQhAAAIQgEC1IpDa1ct+OS96kqvR0qVLzeLFi40VWZzLi8z69VdeUlu1k0uSfRE3VghyrgJy52nYsGF5zV35V1995VwI1IdcouRiJXeDPfbYw9SrVy9VHzWlko3v41jIfalBgwbOrU/ub7UxffTRR2b58uVm3bp1zg1up512cm52Fb0v5ComdzO5qshdcvvtt6+NWJkzBBIJ6PNbnzt67rbddlvzn//5n0ZumCQIQAACEIAABCAAAQhAoDgEtqjwU5wp0AsEIAABCEAAAhCAAAQgAAEIQAACEIBAEgGEnyQq5EEAAhCAAAQgAAEIQAACEIAABCAAgRpAAOGnBlxEpgABCEAAAhCAAAQgAAEIQAACEIAABJIIIPwkUSEPAhCAAAQgAAEIQAACEIAABCAAAQjUAAIIPzXgIjIFCEAAAhCAAAQgAAEIQAACEIAABCCQRADhJ4kKeRCAAAQgAAEIQAACEIAABCAAAQhAoAYQQPipAReRKUAAAhCAAAQgAAEIQAACEIAABCAAgSQCCD9JVMiDAAQgAAEIQAACEIAABCAAAQhAAAI1gADCTw24iEwBAhCAAAQgAAEIQAACEIAABCAAAQgkEUD4SaJCHgQgAAEIQAACEIAABCAAAQhAAAIQqAEEEH5qwEVkChCAAAQgAAEIQAACEIAABCAAAQhAIIkAwk8SFfIgAAEIQAACEIAABCAAAQhAAAIQgEANIIDwUwMuIlOAAAQgAAEIQAACEIAABCAAAQhAAAJJBBB+kqiQBwEIQAACEIAABCAAAQhAAAIQgAAEagABhJ8acBGZAgQgAAEIQAACEIAABCAAAQhAAAIQSCKA8JNEpUTyVq5caYYNG+ZG26ZNG9OpU6cSGTnDhAAEIJBMIIoiU6dOneRCciEAAQhAAAIQgAAEIACBggmkFn6WLVtmrrjiCneCxo0bm5EjRxZ8MhoUl8Brr71mjjjiCNfpVVddZYYOHVrcE5R4b++++667T9evX+9m0rZtW3PBBReUOStxXLJkSZl1VLjPPvvk5V2MPsodABUgUE0JXH311ea9995zo2vYsKF57LHHyhzppk2bzJgxY8ysWbPMjBkzzNq1a42e1d///vfmvPPOM3vttVeZ7SmEAAQgAAEIQAACEIAABMomkFr4mTt3rmndurXrTV/Ely5dWnbPlKYmoBefbbbZxtU/5phj3AtQmsYIP8mU5s2bZwYPHmwmTpyYUeHiiy82I0aMyMjLPjjooIPMm2++mZ2dc3zggQeahQsX5uQroxh9JHZMJgSqOYFJkyaZzp07Z4xSFjz50rfffmvOPvts89RTTyVW2XnnnZ0Y1LJly8RyMiEAAQhAAAIQgAAEIACB8gkg/JTPqNJrfPfdd6Z+/fruPIceeqiZM2dOqnMi/GRimj9/vrn++uvN9OnTMwv+dVSo8KOXznzpkEMOMdOmTUssDoWfivaR2DGZEKjGBD777DPTvHlzZ7ETDjOf8KP8k08+OeN51fFvfvMbM2XKFN/PdtttZ/TDQ7NmzcJu2YcABCAAAQhAAAIQgAAEUhJA+EkJqjKrIfwUh26fPn3M7bff7juT6CLrNAlkSoUKPz/++KPZaqutfH9pd0Lhp6J9pD0X9SBQXQj07NnT3H///TnDySf8vPLKK+aoo47y9eXqJYtHpc8//9wce+yx3vru8ssvN3fffbevyw4EIAABCEAAAhCAAAQgkJ4Awk96VpVWE+GnOGhj4Udijyx/zj33XDN+/HjTvXt3dwKEn+JwphcIZBMIRZw777zT9O7d21fJJ/z813/9lxk1apSrd+ONN5oBAwb4Ntrp27evGTRokMuT1c+aNWtMgwYNMupwAAEIQAACEIAABCAAAQiUT2CLCD96EVDATwXylAm/YrLoZf2www4z7dq1M926dSt3VZdPP/3U3HPPPea5555zwXgVEFQvB3IHUD8dO3Y0J554oqlXr15eCgpAOnz4cOdapYC+X375pZGViPpQcFH1ob6Knb744gv3YhS/EH3//fdm7Nix7jSag2JeZKfTTjvNdOjQISM729VL1i7jxo0zM2fOdK4SqnzkkUeaHj165MTdCDt6//33zbPPPuv+xGTx4sWuWL/Gy3pFv7x36dIlbJKxr2vw+OOPu7zLLrvMMZTgonHI7Wq33XZzQaj79etnDjjggIy2xTx49NFHjZieeeaZpm7duq7r0aNHI/wUEzJ9QSCLgIRrxbzS54ZWF/zrX/9qtABAnOLPufhY26+//tpsu+22PmvRokVm//3398f6HNp33339sXYmTJjgnu2MTA4gAAEIQAACEIAABCAAgfIJ2C/lqdIbb7yhCJ3uz4o0qdokVVq3bl1klx33fcV9hlsrckQbNmxIau7yXn311TLbx30tWLAgbx/33ntvqj7ydrAZBatWrUp17nge2t5yyy05Zww52BXXIiuY5e3XikI57ZVhRbe8bcLz29V1IiuMJfahvuO6VmiJ9ttvP38c58dbK/Yl9lFZmQ8++KAfi7X4Kfc09gXW17duWuXWT6pQjD6S+iUPAtWRgD6b4ufbCjjRhx9+6I+Vn5Ref/11X8eK7dFPP/3kq2nfCki+PO7brhbm67ADAQhAAAIQgAAEIAABCKQnUKUWP998840L/mmFD/td/ufUtWtX07RpU7NixQq3CpOsbpQU5POZZ575uVLwr1bAatKkiQ/8KUshWaPIUmf16tVGS3jHK8TIkqhVq1ZB6593tWqTLFniJMuW9u3bGy09vHz5cqMgwS+99JIrtijjakXbyuKnV69evj/FgQktfs466yxfFu/I4kdMwhRa/MT54nDSSSe5X9MnT55sQtZWdDONGjWKq7ptuFpbbJmj6yGXimXLlvlxqbJ+zZcVT3a64447zLXXXpuRbcUfV1/XPJ6bKhQSvDqjwwoebI7FzyWXXGLeeecdI4ssrSqkOcmKrEWLFmWOJozxU9E+yjwBhRCoJgT0eRs/D/pMGzJkiPnoo4/KtfiRJaA+p5ROOeUU8/TTT/sZPfzww87qUxn6vLAikSs755xznDWRr8gOBCAAAQhAAAIQgAAEIJCOQFqNqBgWPzfffLP/FVdWEdbFKOP0VvzJsBaxK7tklOvg+eef931YwSayywHn1LGxICIbGyKSZU1S6t+/v+/jmmuuSaoSvfXWW5GNO5FYVuxMzcFeLfdnX3RSdx9a/Ki9eMiiKk42QGp08MEH+75l5ZSdrLAR2RevyL6IRUkWLitXroz0i3w8vtmzZ2d3EYUWP6pn3b0iK5b4evbl0LdXeVmWWL5RkXY2x+InnnP21sYiiTZu3Jh3hKHFT3bb+Li8PvJ2TgEEqgkBfV7YYMzu2dZnhF3Vy40sjcXPQw895D8TLrjgAj8j67IbWXdXV6bPM7tynq9n3W99PXYgAAEIQAACEIAABCAAgfQEku3wE9pvrvCT/TKwdOnShLNEUXgevVRkJxsM1L8IXHfdddnFqY7tL8e+DwkeWzoVS/ixlkw5U5k4caKfq9zBKpJsLCXfR5LLWCj86AUwSYyTGBSLHk888URFhlGhNpsr/FgrKD/uePza2jhCeceTLfxUpI+8nVMAgWpCQG6d8TNhY3r5UWV/1vuCYGfw4MG+7VVXXeVLJALFfUqUtlaN/nifffbx9diBAAQgAAEIQAACEIAABNITqDLhRy/78Rf6Cy+8sMwRhi/OP/zwQ0bdJ5980vejF2obWDSjPM3BlVde6ftQXJwtnYoh/MiyJymF1jaKnVSRZN27PK/wJS3uKxR+rMtXnJ2xDV8SkyyPMioX8aBQ4UdxgCR06eU1TrJeknXV4Ycf7jnoXrbuKXGVjG0x+sjokAMIVDMC1p0rwzInjNGTRvixq375Z0nWb0ovvviizxs4cKDLe/vtt32eLIFIEIAABCAAAQhAAAIQgEDhBKpM+Al/4Y0FoDTbbHcwG4PHvwiovSxM7GpRkV2VKlq/fn0qAnb1p4w+5F511113uZd7u9pMqj6KWakYwo+NC5Q4pE8++cTPtSxXCVkLXXrppS6oaj4LFfFOCpAcCj8PPPBA4jhs3CU/jvilLrFikTMLFX7KOr1ESLmfxPetBMpCUzH6KPSc1IdAsQno8yZ+DrJdN9MIPzfddJNvL3dbGwss0qIB6lPB4WNBPww+r88lEgQgAAEIQAACEIAABCBQOIEqE35k5RO/KBSyletXdgqFhuy+9NKgVWZsAOXsZv5YsSlsoOS849GKMopBkRTzxndSxJ1iCD+yYkpKdtl7P88k1zkbLDsKXd+yeWYflyf8yCIrKdlA3X4ceumrqlRM4UdjXrhwoZ+H2MQvqIXMpxh9FHI+6kKgmATCZznJfTSN8DNixAj/HOn/Bln9xJ81sq6L09/+9jefL4s7EgQgAAEIQAACEIAABCBQOIEqW9VLK1XZeDP2u70x1l3InHDCCW6/vH+sWOFWqMqu98ILL5i7777b2ADQ2UXu2MaDcCtzWYugxHIr6hgr7hgbM8ivGpNdUStpWRc1U6dOneyioh5b8cDUr1/f9VnIqlfhql5iOnTo0Jxx2YCrZocddnD5Yjlr1qyMOn/+858dxzjz9NNPN8cdd5zZddddzS9/+UuX/c9//tOvQnbRRRcZrZQVpnBVr0mTJplTTz01LHb7U6dONR07dnT7VvgxNsB2Tp3KyCh0Va/yxmBdWszWW2/tq2nVr3333dcfp9kpRh9pzkMdCFQGAa1sZ4Psu65vu+02s9NOO2Wcxlpemr59+/q8kSNHuv1mzZqZP/zhD27fCsRGnzVK+oy2QZ3dvhWwzbBhw9y+/tEKjfHniT6P1Y4EAQhAAAIQgAAEIAABCBRIIK1WFAZdlkl+oUmBmO3Q3F8xY7zINUu/EMsKKIwNpHPJdSlNkjuUXMUUn0auY/E4tZ0wYUKaLjarTjEsfpJi72hQZVn8aNWvcK5WFEqchxVzfD0r/OTUCS2wVDcphVYCpWzxo7mF90g+ZkkMwrxi9BH2xz4EqoqAXEbDz420+7IsjNNLL72U04eeiWxLzeHDh/t6aT/P43OwhQAEIAABCEAAAhCAAAR+JlBlrl5ynYpfECq6Gld5F02uWdb6xJ+nIgKVhCT7S7TvI8m1qbxxFFq+pYSfGTNm+HmGL2XZ41f8o/ja1XbhR/dHzELbDz74IBtXucfF6KPck1ABApVEoBjCj56b8DnSvsTh7NShQwdfz1o0ZhdzDAEIQAACEIAABCAAAQikIFBlwo+scuIv+vplVy+/lZG0ukx8Hm0rkl5//XXfh2IBVUWKxyw2aVPItCIWP6EVTq9evRJPqxWttIxyPL7aLvxo2eqYRUVXGSpGH4kXi0wIVAEBWUiuWLEi71/4uaRnJa67YcOGjNEpllr8LCV9zmYLpCtXrsxozwEEIAABCEAAAhCAAAQgkI5AamVkc129NBwb18d/0ZdbVb7gyVr5aNq0aZEsUrKTVpDJXkUmrLNo0SJ/jnyrwNj4FBnLdYfttR8GHu3Ro0d2caUcKyh1/BKkFbbSpPAFqyLCj41P488ZrqQTnju0oNL4arLwo9XeXn755XD6GfsKyiyxJ75O3bp1yyjXQTH6yOmUDAiUEIE0wZ01nWwBVEvEh0nWlvGzJssfEgQgAAEIQAACEIAABCBQMQIVCu5sv4wbuxKLNmWmVq1amcsuu8zXUSBcKzD4YwUbvvrqq03z5s1N3bp1zbJly4xdvtfcd999ZtWqVSYpCLCNJ2P69OljFAS5e/fupmXLlqZJkybG/qpsZs6c6YI1q62S6g0aNMifL95p3769sTF9XHDRLl26mKZNm5pGjRoZK7iYF198MSO4qBWgjH3piJtW2rZnz57m/vvvd/1bqx8XAHvvvff2QZ9btGjhxhkOYHODO1uBzey4447myy+/dN3qeui6Hn300Wb16tVmzJgxZuzYseEpjRV+qnVwZ7ucvJk/f74fs/atBZc7tq5/5vjjj/dlCmBtVxPyx507dzYKTq179IwzzjB77rmn2WWXXcyaNWvM7NmzjfqOkxWAzJIlS1x5nKdtMfoI+2MfAqVGwAo4pnHjxn7Y9r8mvx/uWIseF0Q+/vw5+OCD3eeePosVDN7GgvPVJ0+ebDp16uSP2YEABCAAAQhAAAIQgAAECiCQVi8KLX5s9/6X2LL2k8z3H3nkkQyribLaJwUBHjx4cKpzy4Il27Ugnmu7du1S9dG1a9dIrmNVkfQreWhNks1FS9Rnp821+FF/9oWqXBZWQPN1qrvFj3059GPNZph9nB0Dyq4alKqtrpOCgSelYvSR1C95ECgVAmktfjSfbCu67GdUx8T2KZUrzzghAAEIQAACEIAABKorgdSuXnKvSvpSXlaeXsKTkrXIicp6QVdMmX79+kXWoiKnuVxxFHy5LJHELiUcKQ5FvjRu3LgojC+RPQe5iNll3qNNmzbl66JS8u3S65FWPJNolT0mu2xyzjnnzJnj6/Xu3TunXBnhyl0KypqU7BLJGStVxeeWMCJhSC9ncV5SsOshQ4b48ilTpiSdIpo+fbqvM3DgwMQ6xchMK7xoPrrPwmSXnU5kH89dWwlfdunpsFnGfjH6yOiQAwiUGAFrLeifdX1Ol5fefvvtyFpw+jbx8xZ/DpfXnnIIQAACEIAABCAAAQhAoGwCqV297Jfxoie5Gi1dutQsXrzYWJHFuQfYL/tGf+UltVU7uSTZF3FjXzDM7rvvbuTO07Bhw/Kau/KvvvrKueuoDyu6GLlYqY899tjD1KtXL1UfNaXSd99951jIfalBgwamdevWzv2tpsyvkHnIVWX58uVm3bp1zg1up512cm52hdwXxeijkDFTFwKlTkCfx9ay1H0W6/Mnzf8DpT5nxg8BCEAAAhCAAAQgAIGqILBFhZ+qmCDngAAEIAABCEAAAhCAAAQgAAEIQAACtZUAwk9tvfLMGwIQgAAEIAABCEAAAhCAAAQgAIEaTwDhp8ZfYiYIAQhAAAIQgAAEIAABCEAAAhCAQG0lgPBTW68884YABCAAAQhAAAIQgAAEIAABCECgxhNA+Knxl5gJQgACEIAABCAAAQhAAAIQgAAEIFBbCSD81NYrz7whAAEIQAACEIAABCAAAQhAAAIQqPEEEH5q/CVmghCAAAQgAAEIQAACEIAABCAAAQjUVgIIP7X1yjNvCEAAAhCAAAQgAAEIQAACEIAABGo8AYSfGn+JmSAEIAABCEAAAhCAAAQgAAEIQAACtZUAwk9tvfLMGwIQgAAEIAABCEAAAhCAAAQgAIEaTwDhp8ZfYiYIAQhAAAIQgAAEIAABCEAAAhCAQG0lgPBTW68884YABCAAAQhAAAIQgAAEIAABCECgxhNA+Knxl5gJQgACEIAABCAAAQhAAAIQgAAEIFBbCSD81NYrz7whAAEIQAACEIAABCAAAQhAAAIQqPEEEH5q/CVmghCAAAQgAAEIQAACEIAABCAAAQjUVgIIPyV85VeuXGmGDRvmZtCmTRvTqVOnEp5N9R76t99+azZu3Gh22GGHCg00iiLXrk6dOhVqTyMI1BYCP/74o/nss8/M9ttvb7beeuvaMm3mCQEIQAACEIAABCAAgUojkFr4WbZsmbniiivcQBo3bmxGjhxZaYOi43QEXnvtNXPEEUe4yldddZUZOnRouoa1pNa7777r7tP169e7Gbdt29ZccMEFqWf/3HPPmSlTpphXXnnFzJs3z7c79NBDTefOnc3ll19uGjZs6POzdz7++GPz0EMPmX/84x/uT+XHH3+8OfbYY82f/vQns+2222Y34RgCJU/g6quvNu+9956bh56Pxx57rNw5vf3222b8+PFmzpw5ZsaMGb7+XnvtZU477TRz6aWXGu2TIAABCEAAAhCAAAQgAIHCCaQWfubOnWtat27tzqAv4EuXLi38bLRIJLBp0yazzTbbuLJjjjnGzJo1K7FedibCTzaRn48l0gwePNhMnDgxo8LFF19sRowYkZGXdCDrnIEDB5r+/fsnFfs8nadVq1b+ONyRNdYf/vAHI8E0KR111FFm6tSp5te//nVSMXkQKEkCkyZNcqJoOPjY2i3MC/f1HHTs2DHMytm/5557zGWXXZaTTwYEIAABCEAAAhCAAAQgUD4BhJ/yGVV6je+++87Ur1/fnUfWJPrVO01C+MmkNH/+fHP99deb6dOnZxb86yit8HP++ec764O4k+22287Ila5JkyZmxYoVTpj78ssvnRVQkvCzevVqo+u4atUq14Xan3LKKeaHH34wEyZMiLt1dSTyxdfeF7ADgRIkIPes5s2bm7Vr12aMvizhZ8yYMc76LWwg8fuggw4yspibPXu2e44QfkJC7EMAAhCAAAQgAAEIQKAwAgg/hfGqlNoIP8XB2qdPH3P77bf7znbeeWfnHiKBTCmN8CO3LlnjxOmWW25xYlIYm+frr7921kQnnXSS0Tmyk6yNrrvuOpet8kWLFvl62lf/Eo6UHn/8cXP66ae7ff6BQCkT6Nmzp7n//vtzppBP+NEzILfh+FmQOPrII49kuE8q3o9cLnfccUfzu9/9LqdvMiAAAQhAAAIQgAAEIACBFATsl/JU6Y033lB0WvdnXb1StaFSOgI2cLBnay1F0jWytV599VXfzsb4Sd2upla89tpr/f1pLQkicX3wwQc9Iyv8lDt1K8L4+kOGDCm3fnaFn376KdLzET8rL7zwQkYVlesax+Unn3xyRjkHEChFAi+//LK/p++8806/r/s8X7r33nt9PRvHJ/r+++/zVSUfAhCAAAQgAAEIQAACENgMAlvE4seO1wX8VBBPxQ5SrBTFDTrssMNMu3btTLdu3UxoYWFfHnLSp59+amT+r1+DlyxZ4twL5FLTrFkz149iRpx44ommXr16OW3jDAUgHT58uHOtUh/65VkWGupDgYDVh8ZU7PTFF1+Y3r17643IdW1feMzYsWPdvuZw9tln55xSAU47dOiQkZ/t6iVrl3HjxpmZM2e6oMSqfOSRR5oePXrkxN0IO3r//ffNs88+6/7EZPHixa5YlilyuVAw4i5duoRNMvZ1DWS5oqQ4HGKoQK0ah9yudtttNxeEul+/fuaAAw7IaFvMg0cffdQxPfPMM03dunVd16NHjzbdu3d3++VZ/IiDrr2SroNcVgp1w1IgZ7mqxH3oPg1XJhIXuZKFSS5hsnwgQaAUCchi8cADD3SfG3KJ/Otf/5pxP8efc+Hc5Pa45557endI/T9w8MEHh1XYhwAEIAABCEAAAhCAAASKRSCtaFQsi59169ZFdtlx/0uvnUfOvn793bBhQ96hhZYuSe3jvAULFuTtI/y1Oa6ftM3bwWYU2Bf9nDknnTvMsy5HOWcMWiCG0wAAJU5JREFUOdgV1yIrmOXt14pCOe2VYUW3vG3C85933nmRFcYS+1DfcV0rtET77befP47z460V+xL7qKzMQix+7Apcftw33HBDhYZkV1bzfXTt2jWjD937VlDy5TGTp59+OqMeBxAoJQL6bIrvZevKGH344Yf+WPlJyQrtvs7hhx+eVIU8CEAAAhCAAAQgAAEIQKBIBKrU4uebb75xwT/joLf2pcDYl2PTtGlTFzRXqzDF8R6sC4x55plnVCUjaQUsBdmNA4jKUkjWKLIyUVBdLeH91FNPuTb5Vl168803nSVL3LEsW9q3b+9iSyxfvtwoSPBLL73kii3nuFrRtrL46dWrl+9PcSxCi5+zzjrLl8U7svgRkzCFFj9xvjgo9oyWCp88ebL/RV3lVngwjRo1iqu6bbhaW2yZo+vRoEEDtyJVPC5V1q/5suLJTnfccYexblYZ2Vb8cfV1zcM+CglendFhBQ8Ksfi59dZbjRV83JlkAaWxyirNumu5OD377ruv2X///Y0VLp21QtKQwjhDw4YNM1deeaWv9sc//tGzkHWD7k8lK07lBLj1jdiBQDUmoM/bFi1auBHqM826R5qPPvqoXIsffb7KklCpb9++bgU96y5mnn/+effZKws4WREdd9xxxgpDrh7/QAACEIAABCAAAQhAAAIVJJBWQCqGxc/NN9/sf+W1X+oj61qTcXq7YlKGtciUKVMyynVgXwx8H1awcXFcsiutWbMmGjRoUCTLmqRkl+n2fVxzzTVJVaK33noruvHGGxPLip1ZjBg/9vJH4iGrkjh9/vnnkRUY/Fxl5ZSd3nnnncgGVY2sS1ZkBajs4sguSx5ZMcn3YVfZyakTWvxoHNbdKyNeh3059O1VXpYlVk7nm5lRiMWPYgBpfPoTDyuE+eM4P97KOigphVZXYR1ZOsVtdf/Zl11/bJeOT+qKPAhUawL6vLBuje4+1meEXdXLjTeNxY8N4uzvfyuQus+g+PnI3l599dWRFZCrNQsGBwEIQAACEIAABCAAgepMINkOP2HEmyv8ZL8MLF26NOEsURSeRy8V2WnUqFH+hcGunJRdnOr4nHPO8X3oBX9Lp2IJP9aSKWcq1orKz1XuYBVJNpaS7yPJZSwUfvQCqPlkJ4lB8QvdE088kV1caceFCD8KtByPMRS7JJ5JVMt20xLb7GRjVPk+rMWVK9ZLaxzweZ999nEvsWEA3Msvvzy7G44hUO0JyK0zfl5s7Co/3uzPel8Q7Nx1112+bdyHtnpObHy1DLFZ+fr8IEEAAhCAAAQgAAEIQAACFSNQZcKPXvbjL/gXXnhhmaOVNVBc1wYBzaj75JNP+jJZZNjAohnlaQ6s+43vQxYaWzoVQ/iROJGUQmsbxU6qSLLuXZ5X0uphofCjlbWSUviSmGR5lNSmGHmFCD/hfRe/hMryK07WRS+ybniehe6/bJEr7OPFF190TW+66Sbf5u9//7vLCwVM9UmCQCkRsO5cXgiVKKrV6uKURvixwe39MxF/1oeCsPoLP1dUR9aJJAhAAAIQgAAEIAABCECgcAJVJvwMHjw454t+/IW/rG22O5iNwZPRjywz7GpRkY3JEq1fvz4VAbv6U0YfWl5bv0ArWPLXX3+dqo9iViqG8JNPPPjkk0/8XPVLer4ka6FLL700snF8ynRxSloSPXxBe+CBBxJPYeMu+XFUpWtTIcJP7LYS349z5szJmYvuj9DyJzswc9iHjVEVvf32237eIbvQiuqiiy7KOQ8ZEKjOBEIBNNt1M43wE4qhet5sbKDE6coNNX4e5fJFggAEIAABCEAAAhCAAAQKJ1Blwo+sfOIv8IVs5fqVnUKhIbsvrSilVWZknZEvKTZF6NaT3YfED8VnSYp5k6/PzckvhvAjK6akZJcT99yTXOdssOwodH3LZpF9HIoX8fnC6yGLrKQkESTuSy99VZUKEX7sMvB+jLJiyJf0AhrPRat4hSl8IdY9FAtBEijDlerCeFcSLkkQKBUC4bOc5D6aRvi5//77/TOkZ+mrr75KnL6E1fhZkwhEggAEIAABCEAAAhCAAAQKJ1Blwk/4Ui13oWnTpqX6y7eEuII8h78Gxy8H8VaxVBTkOV+SC5lEAVn7xG2yt3KNCl0Y8vW1ufnFEH6SXLA0rvKEH724hfM+/fTTI72UTZo0yVlRyZIqXKI8yTolFH7ULimFL4vVVfgJ4xBdcsklSdNweffdd59nlh17JOQZBofOFsR0vWLuVen6lndSFEAgJYETTjjB37u33XZbNHLkyIw/5cX3trZxuQKcxymMPaa4PvnSwoULfV/6TCdBAAIQgAAEIAABCEAAAoUTqDLhR4GY45eBYr7oyvVGLloSH8L4KjqXXJfSJLlDSeBQfJowqK/6mDBhQpouNqvOlhJ+tOpXfE20nTVrVuI8JObE9Wqy8BNa4dhl2RNZKPPhhx/2PGQtFSa7JLwvi5klxVayS8L7elVxj4VjZB8Cm0NALqPxvV3INnxW/va3v/k+JL7nS1oEID6HXCxJEIAABCAAAQhAAAIQgEDhBKpM+JHbS/wFvqKrcZU3Pblm3XHHHf48Zf2SnK8vCUmyeonHmuTalK9tRfO3lPATLjEevpRlzyNcgacmCz/hPVoWj9DC6YYbbsjAlR0/Si+rcn0JkwKSx/eXtq+//npYzD4EqjWBYgg/S5Ys8c9AWYKORP34WTn88MOrNRcGBwEIQAACEIAABCAAgepKoMqEn/ALvKxqKiuIslyz4hcFbSuS9CIe96FYQFWR4vOJTdoUMq2Iq1foftWrV6/E037//feRXCzi8dVk4Wft2rV+nroOGzduTGQSWutILAqTXBNjVtpKNMtOWtkrriNxsircCbPHwDEEKkpAFpIrVqzI+xd+Luk+j+uGMa50bq1EGD8HCi6flIYPH+7rVIcVGJPGSB4EIAABCEAAAhCAAASqO4HUyoiCLMdf0itiSSMQYWwIuVXlC56s+DuKARTGhIhBagWZ7FVk4jJtFy1a5MepGCtJSfGBsq0wwnojRozwffTo0SMsqrR9BaWO+eZ7Cco+efiCVRHhR8sjx+fU+WWJkp1CCyrVrcnCj+YexqLS3LPT3LlzPTPx0P2WncQo5qpA4RLP4iTBM3RJTDpHXJctBEqRQJrgzppXGOBZ8drC50TlckUNXW/zrRiouiQIQAACEIAABCAAAQhAID+BOiqyL6nlJvvCa1q3bu3r2VW6/H6+nVatWhkb/NYXW6HBWIHBH9sVj4xdIck0b97c1K1b1yxbtszMmzfP2OC5ZtWqVcYGATb9+/f39bVj3WyMjb9ibFwI0717d9OyZUvTpEkTY39VNjNnzjSjRo1ybVVX9QYNGqTdjNS+fXtjY/oY69JlunTpYpo2bWoaNWpkrOBiXnzxRTNs2DBf3wpQpkOHDv64snZ69uxp7IuQ696+7Bgr5Ji9997b1K9f3+W1aNHCjTM8/2uvvWaOOOIIl6X6NghzWOz2P/vsM7PDDju4ffG2cXx8HSuwmR133NFYKxVfrut69NFHm9WrV5sxY8aYsWPH+vrasaKGGT16dEaeFS+MFfJcno0HZE499dSMch1MnTrVdOzY0eUnXdecBhXMsC+HZv78+b619q0Flzu2gqU5/vjjfdmuu+5qBgwY4I+1M336dHPSSSf5PLtamrtHGjZsaMRb92vMS6zEKDuF10Vlus+6du0qkdVofLr34qT7vHHjxvEhWwiUPIGPPvoo457O91+MtRwy//Ef/+Hna38YMNdcc42xgr1577333P7ixYtduZ5d/f/xi1/8wtdnBwIQgAAEIAABCEAAAhBISUDCT5oUWvzYrr1FQ1n7SW5SjzzySKSYDmW1i8uSVn8aPHhwqrayYMl2LYjn2a5du1R92Jf1KnPD0a/kZXHREvXZaXMtftTf5MmTy2WhQMfxNanuFj+hG1Y85nzbfJZrd999t59vvrayJivLauwvf/lLuX3kC6adfZ05hkApEUhr8aM56Rko63Mvfv6sIF9KCBgrBCAAAQhAAAIQgAAEqhWB1K5ecq+Kv4Sn3eolPClZK4eorBd0xZTp169fpACg2enll192wZfLelno27dvpDgU+dK4ceMiueDkm4de6q3lULRp06Z8XVRKvrXOibTiWej2FY9RSyRnpzlz5vg59O7dO7vYHYcrdykoa1LSUuOhS0V8TgkjEobCJZWTgl0PGTLEj2PKlClJp4isJY2vM3DgwMQ6xcjUClrx+MvblrU8tFba0vyT+tBqcYrlU156/PHHE/uQq5dEOxIEaiIBay3onxt9TpeX5C6plb2SnjV9TmtlLxIEIAABCEAAAhCAAAQgUHECqV297Jfyoie5Gtkv9Ubm/FZkce4BMvPXX3lJbdVOLkk2KK+xLxhm9913N3IJkFtOmvTVV18ZKy65PuQSJRcr9bHHHnuYevXqpemixtSx8X0cC/Fo0KCBc+uT+1ttT9ZqzFjR02hrhSLTrFkzx6cQLmvWrHHuZnLbk7vk9ttvX0hz6kKgVhD45ptvzFtvvWX+93//1/z2t791LsCxm2qtAMAkIQABCEAAAhCAAAQgUEkEtqjwU0lzolsIQAACEIAABCAAAQhAAAIQgAAEIAABSwDhh9sAAhCAAAQgAAEIQAACEIAABCAAAQjUUAIIPzX0wjItCEAAAhCAAAQgAAEIQAACEIAABCCA8MM9AAEIQAACEIAABCAAAQhAAAIQgAAEaigBhJ8aemGZFgQgAAEIQAACEIAABCAAAQhAAAIQQPjhHoAABCAAAQhAAAIQgAAEIAABCEAAAjWUAMJPDb2wTAsCEIAABCAAAQhAAAIQgAAEIAABCCD8cA9AAAIQgAAEIAABCEAAAhCAAAQgAIEaSgDhp4ZeWKYFAQhAAAIQgAAEIAABCEAAAhCAAAQQfrgHIAABCEAgFYE1X0Wp6lVWpd9st1VG11G0ZceTMRgOIAABCEAAAhCAAAQgUE0JIPxU0wvDsCAAAQhUNwIIP9XtijAeCEAAAhCAAAQgAAEIlE8A4ad8RtSAAAQgAAFLAOGH2wACEIAABCAAAQhAAAKlRwDhp/SuGSOGAAQgsEUIIPxsEeycFAIQgAAEIAABCEAAAptFAOFns/DRGAIQgEDtIYDwU3uuNTOFAAQgAAEIQAACEKg5BBB+as61ZCYQgAAEKpUAwk+l4qVzCEAAAhCAAAQgAAEIVAoBhJ9KwVo1na5cudIMGzbMnaxNmzamU6dOVXPiWniWb7/91mzcuNHssMMOtXD2TBkCPxNA+OFOgAAEIAABCEAAAhCAQOkRSC38LFu2zFxxxRVuho0bNzYjR44svdnWsBG/9tpr5ogjjnCzuuqqq8zQoUNr2Aw3bzrvvvuuu0/Xr1/vOmrbtq254IILUnf63HPPmSlTpphXXnnFzJs3z7c79NBDTefOnc3ll19uGjZs6PPjHV2LJUuWxId5t/vssw/XLC8dCqojgVj4WTD3dXPXoJtTDbF33xvNQQe3Lrfu+4vfNQ//fyPNpxs2uLpH/f4P5uxzL8hox3LuGTg4gAAEIAABCEAAAhCAQCoCqYWfuXPnmtatf/7yvtdee5mlS5emOgGVyiewadMms80227iKxxxzjJk1a1b5jWwNhJ9kTBJpBg8ebCZOnJhR4eKLLzYjRozIyEs6iKLIDBw40PTv3z+p2OfpPK1atfLH8c5BBx1k3nzzzfgw7/bAAw80CxcuzFtOAQSqG4FY+Hlu+hRz/lnpLAzHT3zanNC+Y96pLFowz9wz9Hbz9KTM57XbRf9lbh+e+bwi/OTFSAEEIAABCEAAAhCAAATyEkD4yYum6gq+++47U79+fXdCWZPMmTMn1ckRfjIxzZ8/31x//fVm+vTpmQX/Okor/Jx//vlm/Pjxvo/tttvOyJWuSZMmZsWKFU6Y+/LLL50VUHnCz8477+z7yd455JBDzLRp07KzOYZAtSWQT/hp9B/57/MHHvofc/Tv2+bM6a2F882gm28wLz6X/Lwi/OQgIwMCEIAABCAAAQhAAAIVIoDwUyFsxW2E8FMcnn369DG3336770yii6zTJJAppRF+5NZ11FFH+T5uueUWJybVqVPH53399dfOmuikk04yScJOaPHz448/mq222sq3ZQcCpUwgSfjpO+BWc8XV1xU8rYH9+5h7h93h20k8+u0ee5m5r//8vCL8eDTsQAACEIAABCAAAQhAYLMIIPxsFr7iNEb4KQ7HWPiR2CPLn3PPPddZ7nTv3t2dII3wc8YZZ5gnnnjC1R8yZIjp1atXwYND+CkYGQ1KhEBlCD8Se668pq85/axzzcRHx5urL+vhaCD8lMhNwTAhAAEIQAACEIAABKo9gS0i/CiGymOPPWZmzJhhFDtIsVL0sn7YYYeZdu3amW7dupnQwiKJ4qeffmruueceowC8CqS7du1aI5ecZs2auX46duxoTjzxRFOvXr2k5i7vvffeM8OHD3euVepD7juy4FAfCgSsPjSmYqcvvvjC9O7d24iD0vfff2/Gjh3r9jWHs88+2+2H/5x22mmmQ4cOYVZOjB9Zu4wbN87MnDnTBSVW5SOPPNL06NHDBSPOaBwcvP/+++bZZ591f2KyePFiVyrLF4kYxx57rOnSpUvQInNX1+Dxxx93mZdddpljKFcpjUNuV7vttpsLQt2vXz9zwAEHZDYu4tGjjz7qmJ555pmmbt26rufRo0ebtMKPOOjaK+k66J6KXfBcZsp/EH5SgqJayREopvAz+fGfn9dTTvv38/rXcaMRfkrurmDAEIAABCAAAQhAAALVnoAVH1KlN954QyqF+7MiTao2SZXWrVsX2WXHfV9xn+HWihzRhg0bkpq7vFdffbXM9nFfCxYsyNvHvffem6qPvB1sRsGqVatSnTueh7bW5SjnjCEHu+JaZAWzvP1aUSinvTKs6Ja3TXj+8847L7LCWGIf6juua4WWaL/99vPHcX68tWJfYh+Vlfnggw/6sViLnzJP89BDD/m6N9xwQ5l1yyq0QZt9P9bVq6yqlEGgpAis/vKnSH8PT3jK3+PW1cvlxWWbsx1y7yjfr7X4yek3/hyJtyUFj8FCAAIQgAAEIAABCEBgCxGoUoufb775xjRv3txY4cN+b/85de3a1TRt2tQFzdUqTLK6UTr55JPNM88883Ol4F+tgKUgu7LGUJKlkKxRZKmzevVqoyW8n3rqKVeWb9Ulrbgkq4w4ybKlffv2bmnu5cuXGwUJfumll1yxvS5xtaJtZfETuhApDkxo8XPWWWflnEsWP2ISpjC4c5wvDoo9s+2225rJkydnsLaim2nUqFFc1W3D1dpiyxxdjwYNGphly5b5camyAhzLiic73XHHHebaa6/NyLbij6uvax7PTRUKCV6d0WEFDwqx+Ln11luNFXzcmWQBpbHKKu2FF14wixYtMvvuu6/Zf//9jRUuzZ577pl3RKHFzyWXXGLeeecdZ9XVsmVLIy6yRGvRokXe9hRAoLoSSLL4OeA/DzaNGzcx69auMf+x8y6mRcv9zb777W9O+n86l2lxmTRHLH6SqJAHAQhAAAIQgAAEIACBzSSQVnAqhsXPzTff7H/NlVWEda3JOL1dMSnDWmTKlCkZ5Tp4/vnnfR9WsIm+/fbbnDpr1qyJBg0aFMmyJinZZbp9H9dcc01Sleitt96KbrzxxsSyYmdqDvYyuj8rNqTuPrT4UXvxkEVVnD7//PPo4IMP9n3Lyik7WVEiOuWUUyLrkhUlWaesXLkysmKS72P27NnZXUShxY/GYd29Iuu+5utZMc63V3lZlli+UZF2CrH4kUVQfB3Ewwph/jjOj7eyDsqXQoufuH72dsCAAdHGjRvzdUE+BKolgdiaJ7T4yb634+MW+x8YPTfr9RyrnbiPpC0WP9XysjMoCEAAAhCAAAQgAIESJ6CYKKnS5go/H374YcZL9NKlSxPPG57nmGOOyakzatS/XQGuu+66nPI0Geecc44fi17wt3QqlvBjLZlypmKtqPxc5Q5WkWRjKfk+klzGQuFHIlGSGCcxKH4htMGTKzKMCrUpRPixFlV+jKHYJfFMopqN++PLNRexTUrZwk8+AcnGIkpqTh4Eqi2BWKzJFn7silzRtttmPh/x8z7jlfmpxR+En2p76RkYBCAAAQhAAAIQgEAJE6gy4Ucv+/GLwIUXXlgmsvDF+Ycffsio++STT/p+9EJtV8TKKE9zcOWVV/o+FBdnS6diCD8SJ5JSaG2j2EkVSda9y/O66qqrcroIhR/r8pVTrgzF/omvf5LlUWKjImQWIvyE953GqlhWsvyKk3XRi6wbnp+H7r8kkUuWQxLLJHbGSRZQstA6/PDDfXud4+mnn46rsIVAtScQCz/PvPCP6P/t+sdo8v/9W/TB+m+9sPPuyk8ixfyJn3Vt//OQQ6NVn27ydeI+krYIP9X+FmCAEIAABCAAAQhAAAIlSKDKhJ/BgwdnvAyELwZl7We7g9kYPBn9yDLDrhYV2Zgs0fr161NdArv6U0Yfcq+666673Iv5119/naqPYlYqhvAjQSIpffLJJ36udqWypCouT9ZCl156aWTj+JTp4pQUIDkUfh544IHEc9i4S34cAwcOTKxTGZmFCD+yMAvvxTlz5uQMSfdHaPlTqHAjIVPWQ/F5JDaRIFAqBJLEmqS8Ryf/X3+P614f99hkhJ9SuciMEwIQgAAEIAABCECgxhGoMuFHVj7xy24hW7l+ZadQaMjuSytKaQUsWWfkS4plE7r1ZPch8UMxXJJi3uTrc3PyiyH8yIopKdll7z33JNc5Gyw7Cl3fsllkH5cn/MgiKynZQN1+HDfddFNSlUrJK0T4ketVPF+JM/nS1Vdf7esNHTo0X7W8+QsXLvTtdb6KWK3l7ZwCCFQigSSRJ19ex06n+/v8uhsHIvxU4nWhawhAAAIQgAAEIAABCJRFoMqEn/ClWu5C06ZNS/WXbwlxBXlWUOL4RT17u88++0QK8pwvyfJCooCsfbLbxsdyjfrpp5/ydVG0/GIIP0kuWBpgecKP4v7E89X29NNPj+6///5o0qRJzopKllQSN+I6F110Uc68QyFO7ZJSKQg/YRwiuxpX0jRc3n333ed5qE2hSYJizFNbBdgmQaAUCOQTeZLybxo0xN/nnc86B+GnFC4wY4QABCAAAQhAAAIQqJEEqkz4USDm+GW3mDFe5Hqj2CkSH7JjtMh1KU2SO5QEDsWnCYP6arwTJkxI08Vm1dlSwo9W/YqvibazZs1KnIfEnLheTRZ+wlXn+vTpk8hCmQ8//LDnIWupiqTwPsvHvSL90gYClUkgSeDJl3fPqHH+OTn6920RfirzwtA3BCAAAQhAAAIQgAAEyiBQZcKPXKdi8aCiq3GVMQ9XJEuKO+64w59HwXkLTRKSZPUSjzXJtanQPsurv6WEnxkzZvh5liVgKP5RzKMmCz/hPVoWj9DC6YYbbijv8uaU6x6LeWr7wQcf5NQhAwLVkUA+kScp/7+v6+/v824X/RfCT3W8oIwJAhCAAAQgAAEIQKBWEKgy4UdWOfHLrqwd9PJbGUmuWfF5tK1Iev31130figVUFSkes9ikTSHTirh6he5XvXr1SjytVqOS21w8vpos/Kxdu9bPU9dh48aNiUw6derk60ksKjSNHz/et1egaBIESoVAksCTlLdi3TfRXk3//blx1z0jEX5K5SIzTghAAAIQgAAEIACBGkcgtTKiIMvxy39FLGlE7oQTTvB9yK0qX/Bkxd9RDCBZpGSnBQsWRPrLlxYtWuTPoeW2k5LiA4VLbWfXGTFihO+jR48e2cWVcqyg1DFfrbCVJm2u8KPYMvE5df6kIMOhBZXq1mThR8zDWFSae3aaO3euZyYeut/CpBXjXn755TArY1+BncNVwbp165ZRzgEEqjMBiTyLln4cDR52X/TeB+sTxRwt737RxZdlPCcvz3snsW62aMRy7tX56jM2CEAAAhCAAAQgAIFSJVBHA7cvsOUm+8JrWrdu7evZVbr8fr6dVq1aGRv81hdbocFYgcEf21WmjF0hyTRv3tzUrVvXLFu2zMybN8/Y4Llm1apVxq7+ZPr37+/ra8e62Rgbf8XYoMyme/fupmXLlqZJkyZmxYoVZubMmWbUqFGureqq3qBBg7Sbkdq3b29sTB9jXbpMly5dTNOmTU2jRo2MFVzMiy++aIYNG+brWwHKdOjQwR9X1k7Pnj2NDarsurfWJsZa8Ji9997b1K9f3+W1aNHCjTM8/2uvvWaOOOIIl6X6NghzWOz2P/vsM7PDDju4ffG28WR8HSuwmR133NHYANq+XNf16KOPNqtXrzZjxowxY8eO9fW1Y4UfM3r06Iw8K5AYK+S5PBsPyJx66qkZ5TqYOnWq6dixo8tPuq45DSqYYZeTN/Pnz/ettW8tuNyxFSzN8ccf78t23XVXM2DAAH+snenTp5uTTjrJ59nV0tw90rBhQyPeul9jXmIlRmHq3LmzEQPd52eccYbZc889zS677GJsoHEze/Zso/HFyQpAZsmSJa48zmMLgepMYM1XkXl70ULT9shWbphdzu1m9tv/QLP7b/cwdbbayvzv0vfN+IceNMveX+yn0fv6AebqPpmf43HhuDEPmLcW/vt5XfTmArNg7s/P62/32Msc+4fj4qpml9/sau4adLM/1k7K/74y2nAAAQhAAAIQgAAEIACBWkcgrWIVWvxYSBm/5uY7TnKTeuSRRzIsHvK1VX7Sst+DBw9OdW5ZsGzYsCFxeu3atUvVR9euXatkVS8NUhZIoSVINhctUZ+dNtfiR/1Nnjy5XBYKdByPp7pb/IRuWPGY823zWa7dfffdfr752sqaLMlqTCvB5WsT5utaK6A4CQKlREAWOjNemZ/qHtf93v7kTpEsgLIte+JjlYfPRVn7VgjKqVtK7BgrBCAAAQhAAAIQgAAEthSB1K5ecq8q60t5UplewpOSteaJynpBV0yZfv36RdYaIqe53GgUfLkskaRv376RVurKl8aNGxe1adMm73z0Um8th6JNmzbl66JS8q11TqQVzyRaZfO87bbbcs45Z84cX69379455coIV+5q27ZtYp0nn3wyZzUznV/CiIQhuSfF40kKdj1kyL+XbZ4yZUriOawlje9j4MCBiXWKkZlWeNF8dJ/lS1rNTfOP5x1utVqctfpJbDpy5MjE6xe2l3imeEIkCJQaAQk2Cxevik465dTEZyO+z3dtvFs09tFJeQWfWPgpr5+4P23DmEFxfqnxY7wQgAAEIAABCEAAAhDYEgRSu3rZL9pFT3I1Wrp0qVm8eLGxIotp3LixsaKL+yvvZGqrdnJJsi/RRm4zu+++u5E7j9xy0qSvvvrKudqoD7lEycVKfeyxxx6mXr16abqoMXVsfB/HQq5HDRo0cG59cn+r7clajRkrehptrVBkmjVr5viUx+Wjjz4yy5cvN+vWrXOuYTvttJNz1auN91Z5rCgvHQJy9YrT9/Yz+/3F79p7fK3ZsP4Tl93EunzttXczs8OOO8XVirr9zXZbZfRn/9PMOOYAAhCAAAQgAAEIQAACEMglsEWFn9zhkAMBCEAAAtWVQCj8bIkxIvxsCeqcEwIQgAAEIAABCECg1Akg/JT6FWT8EIAABKqIAMJPFYHmNBCAAAQgAAEIQAACECgiAYSfIsKkKwhAAAI1mQDCT02+uswNAhCAAAQgAAEIQKCmEkD4qalXlnlBAAIQKDIBhJ8iA6U7CEAAAhCAAAQgAAEIVAEBhJ8qgMwpIAABCNQEAgg/NeEqMgcIQAACEIAABCAAgdpGAOGntl1x5gsBCECgggQQfioIjmYQgAAEIAABCEAAAhDYggQQfrYgfE4NAQhAoJQIIPyU0tVirBCAAAQgAAEIQAACEPiZAMIPdwIEIAABCKQigPCTChOVIAABCEAAAhCAAAQgUK0IIPxUq8vBYCAAAQhUXwIIP9X32jAyCEAAAhCAAAQgAAEI5COA8JOPDPkQgAAEIAABCEAAAhCAAAQgAAEIQKDECSD8lPgFZPgQgAAEIAABCEAAAhCAAAQgAAEIQCAfAYSffGTIhwAEIAABCEAAAhCAAAQgAAEIQAACJU4A4afELyDDhwAEIAABCEAAAhCAAAQgAAEIQAAC+Qgg/OQjQz4EIAABCEAAAhCAAAQgAAEIQAACEChxAgg/JX4BGT4EIAABCEAAAhCAAAQgAAEIQAACEMhHAOEnHxnyIQABCEAAAhCAAAQgAAEIQAACEIBAiRNA+CnxC8jwIQABCEAAAhCAAAQgAAEIQAACEIBAPgIIP/nIkA8BCEAAAhCAAAQgAAEIQAACEIAABEqcAMJPiV9Ahg8BCEAAAhCAAAQgAAEIQAACEIAABPIRQPjJR4Z8CEAAAhCAAAQgAAEIQAACEIAABCBQ4gQQfkr8AjJ8CEAAAhCAAAQgAAEIQAACEIAABCCQjwDCTz4y5EMAAhCAAAQgAAEIQAACEIAABCAAgRIngPBT4heQ4UMAAhCAAAQgAAEIQAACEIAABCAAgXwEEH7ykSEfAhCAAAQgAAEIQAACEIAABCAAAQiUOAGEnxK/gAwfAhCAAAQgAAEIQAACEIAABCAAAQjkI4Dwk48M+RCAAAQgAAEIQAACEIAABCAAAQhAoMQJIPyU+AVk+BCAAAQgAAEIQAACEIAABCAAAQhAIB8BhJ98ZMiHAAQgAAEIQAACEIAABCAAAQhAAAIlTgDhp8QvIMOHAAQgAAEIQAACEIAABCAAAQhAAAL5CPz/EB8ZRFi6zfIAAAAASUVORK5CYII=)"
      ]
    },
    {
      "cell_type": "code",
      "execution_count": null,
      "metadata": {
        "colab": {
          "base_uri": "https://localhost:8080/"
        },
        "id": "pAARWHdde-WV",
        "outputId": "f0b65aaf-982d-478f-d5b7-db8d7c4a006e"
      },
      "outputs": [
        {
          "output_type": "stream",
          "name": "stdout",
          "text": [
            "25.0\n",
            "140\n",
            "145\n",
            "150\n",
            "155\n",
            "160\n",
            "165\n"
          ]
        },
        {
          "output_type": "execute_result",
          "data": {
            "text/plain": [
              "dict_values(['4', '11', '29', '40', '46', '51'])"
            ]
          },
          "metadata": {},
          "execution_count": 19
        }
      ],
      "source": [
        "##code here \n",
        "import numpy as np\n",
        "##Get the mean and median\n",
        "heights_girls = {  \"140\": \"4\",\n",
        "                  \"145\" : \"11\",\n",
        "                  \"150\" : \"29\",\n",
        "                  \"155\" : \"40\",\n",
        "                  \"160\" : \"46\",\n",
        "                  \"165\" : \"51\", }\n",
        "   \n",
        "n  = 51\n",
        "\n",
        "ans = np.floor (n/2)\n",
        "\n",
        "print(ans)\n",
        "\n",
        "for key in heights_girls:\n",
        "  print(key)\n",
        "\n",
        "\n",
        "heights_girls.values()"
      ]
    },
    {
      "cell_type": "markdown",
      "source": [
        "1. Get the mean and the median of height of girls dataset"
      ],
      "metadata": {
        "id": "IfBZcFb_f5yN"
      }
    },
    {
      "cell_type": "code",
      "source": [
        "##Type the code here\n",
        "import matplotlib.pyplot as plt\n",
        "group2_scores = sorted([140,145,150,155,160,165])\n",
        "\n",
        "print(f\"mean: {np.mean(group2_scores)} \\n median: {np.median(group2_scores)}\")"
      ],
      "metadata": {
        "id": "2muY0Ay5gCwB",
        "colab": {
          "base_uri": "https://localhost:8080/"
        },
        "outputId": "79a60df9-9c25-4bc8-88fd-314ed5220e24"
      },
      "execution_count": null,
      "outputs": [
        {
          "output_type": "stream",
          "name": "stdout",
          "text": [
            "mean: 152.5 \n",
            " median: 152.5\n"
          ]
        }
      ]
    },
    {
      "cell_type": "code",
      "execution_count": null,
      "metadata": {
        "colab": {
          "base_uri": "https://localhost:8080/"
        },
        "id": "j2_cgvciuqj4",
        "outputId": "a03d9f40-d6dc-45b8-81d4-9f69a1a1131d"
      },
      "outputs": [
        {
          "output_type": "stream",
          "name": "stdout",
          "text": [
            "mean: 70.88888888888889 \n",
            " median: 87.0\n"
          ]
        }
      ],
      "source": [
        "## with outliers\n",
        "import matplotlib.pyplot as plt\n",
        "group2_scores = sorted([80,84,89,90,100,88,87,15,5])\n",
        "\n",
        "print(f\"mean: {np.mean(group2_scores)} \\n median: {np.median(group2_scores)}\")"
      ]
    },
    {
      "cell_type": "markdown",
      "source": [
        "2. ## Create a visualization of the Height of girls dataset"
      ],
      "metadata": {
        "id": "JrpjZ4O7gSL0"
      }
    },
    {
      "cell_type": "code",
      "source": [
        "import matplotlib.pyplot as plt\n",
        "import numpy as np\n",
        "\n",
        "xpoints = np.array([0, 165])\n",
        "ypoints = np.array([0, 51])\n",
        "\n",
        "plt.plot(xpoints, ypoints)\n",
        "plt.show()"
      ],
      "metadata": {
        "colab": {
          "base_uri": "https://localhost:8080/",
          "height": 268
        },
        "id": "HCobRHxwU-wM",
        "outputId": "a4c07226-9795-4753-fb4e-74c37d62362d"
      },
      "execution_count": null,
      "outputs": [
        {
          "output_type": "display_data",
          "data": {
            "text/plain": [
              "<Figure size 432x288 with 1 Axes>"
            ],
            "image/png": "[encoded data removed]"
          },
          "metadata": {}
        }
      ]
    },
    {
      "cell_type": "markdown",
      "metadata": {
        "id": "m2PXSEYS_6Yw"
      },
      "source": [
        "### 1.1.3 Mode\n",
        "The mode is simply the numerical element that appears more frequently in a collection."
      ]
    },
    {
      "cell_type": "code",
      "source": [
        "## Type your code here\n",
        "import scipy.stats as stats"
      ],
      "metadata": {
        "id": "lyNlys9agbog"
      },
      "execution_count": null,
      "outputs": []
    },
    {
      "cell_type": "code",
      "execution_count": null,
      "metadata": {
        "colab": {
          "base_uri": "https://localhost:8080/"
        },
        "id": "UTh5fssqwVsz",
        "outputId": "b21c8480-a8e3-4d60-d509-1d4c34231fcd"
      },
      "outputs": [
        {
          "output_type": "execute_result",
          "data": {
            "text/plain": [
              "ModeResult(mode=array([90]), count=array([4]))"
            ]
          },
          "metadata": {},
          "execution_count": 34
        }
      ],
      "source": [
        "group3_scores = sorted([90,88,89,90,90,88,88,15,90,])\n",
        "stats.mode(group3_scores)"
      ]
    },
    {
      "cell_type": "markdown",
      "metadata": {
        "id": "_BosySxufMET"
      },
      "source": [
        "In the given set of data: 2, 4, 5, 5, 6, 7, the mode of the data set is _______ since it has appeared in the set twice."
      ]
    },
    {
      "cell_type": "code",
      "execution_count": null,
      "metadata": {
        "colab": {
          "base_uri": "https://localhost:8080/"
        },
        "id": "Hups4nIwfiH-",
        "outputId": "3341b80f-eb63-4e8c-fdbc-7b1204210399"
      },
      "outputs": [
        {
          "output_type": "execute_result",
          "data": {
            "text/plain": [
              "ModeResult(mode=array([5]), count=array([2]))"
            ]
          },
          "metadata": {},
          "execution_count": 36
        }
      ],
      "source": [
        " ##What is the mode code here\n",
        "import scipy.stats as stats\n",
        "Scored = [2,4,5,5,6,7]\n",
        "stats.mode(Scored)"
      ]
    },
    {
      "cell_type": "markdown",
      "metadata": {
        "id": "M1bTdqMK_8YA"
      },
      "source": [
        "## 1.2 Measures of Dispersion\n",
        "Measuring dispersion in a dataset also means we are trying to determine its variability, stability, or the homogeneity.\n",
        "\n"
      ]
    },
    {
      "cell_type": "markdown",
      "metadata": {
        "id": "aCS7gCdy2PVs"
      },
      "source": [
        "### 1.2.1 Variance\n",
        "The variance of a dataset is a measure of dispersion. The variance can be interpreted as the ratio of the Euclidean distance of each data point from the mean to its size. It can be represented as:\n",
        "$$var = \\sigma^2 = \\frac{\\sum^M_{i=0}(x_i-\\mu)^2}{M}$$"
      ]
    },
    {
      "cell_type": "code",
      "execution_count": null,
      "metadata": {
        "id": "7ZioztvZz-iM"
      },
      "outputs": [],
      "source": [
        "def plot_hist(arr):\n",
        "  plt.figure(figsize=(15,6))\n",
        "  plt.hist(arr, int(len(arr)*0.1))\n",
        "  plt.axvline(arr.mean(), color='k', linestyle='dashed', linewidth=2)\n",
        "  plt.show()"
      ]
    },
    {
      "cell_type": "markdown",
      "metadata": {
        "id": "BStqf9B5f3d2"
      },
      "source": [
        "Find the variance and standard deviation of the following scores on an exam:\n",
        "92, 95, 85, 80, 75, 50"
      ]
    },
    {
      "cell_type": "markdown",
      "metadata": {
        "id": "mxyl39f-f41q"
      },
      "source": [
        "##Code here variance"
      ]
    },
    {
      "cell_type": "code",
      "execution_count": null,
      "metadata": {
        "id": "_xFnP3c3enmC",
        "colab": {
          "base_uri": "https://localhost:8080/"
        },
        "outputId": "e0b7060d-428c-4cba-ca45-558a930f8a43"
      },
      "outputs": [
        {
          "output_type": "execute_result",
          "data": {
            "text/plain": [
              "219.58333333333334"
            ]
          },
          "metadata": {},
          "execution_count": 73
        }
      ],
      "source": [
        "##Code for Standard deviation\n",
        "import numpy as np\n",
        "score = [92, 95, 85, 80, 75, 50]\n",
        "score = sorted(score)\n",
        "np.var(score)"
      ]
    },
    {
      "cell_type": "markdown",
      "source": [
        "3. What is the standard deviation of the height of girls dataset ?"
      ],
      "metadata": {
        "id": "tWPZz059g7M8"
      }
    },
    {
      "cell_type": "code",
      "source": [
        "import numpy as np\n",
        "score = [140,145,150,155,160,165]\n",
        "score = sorted(score)\n",
        "np.std(score)"
      ],
      "metadata": {
        "colab": {
          "base_uri": "https://localhost:8080/"
        },
        "id": "jmFBaZ-2hdea",
        "outputId": "a49e4ca2-c1d2-46fb-d7b3-01a72a3ea67c"
      },
      "execution_count": null,
      "outputs": [
        {
          "output_type": "execute_result",
          "data": {
            "text/plain": [
              "8.539125638299666"
            ]
          },
          "metadata": {},
          "execution_count": 74
        }
      ]
    },
    {
      "cell_type": "code",
      "source": [
        "##Type your code here\n",
        "import matplotlib.pyplot as plt\n",
        "group2_scores = sorted([140,145,150,155,160,165])\n",
        "\n",
        "print(f\"mean: {np.mean(group2_scores)} \\n median: {np.median(group2_scores)}\")"
      ],
      "metadata": {
        "id": "noWANCCThDqb",
        "colab": {
          "base_uri": "https://localhost:8080/"
        },
        "outputId": "48b53035-2b78-4ea7-f5ff-e3a26b24075d"
      },
      "execution_count": null,
      "outputs": [
        {
          "output_type": "stream",
          "name": "stdout",
          "text": [
            "mean: 152.5 \n",
            " median: 152.5\n"
          ]
        }
      ]
    },
    {
      "cell_type": "markdown",
      "metadata": {
        "id": "jBE9QJ1z2cf8"
      },
      "source": [
        "#### 1.2.2 Standard Deviation\n",
        "Stadard deviation indicates the absolute variability of dispersion about the mean, it is the square root of the variance. It can be computed as:\n",
        "$$std.dev = \\sigma = \\sqrt{\\frac{\\sum^M_{i=0}(x_i-\\mu)^2}{M}}$$\n",
        "\n",
        "The example below demonstrates the sensitivity of the variance to the data points"
      ]
    },
    {
      "cell_type": "markdown",
      "source": [
        "4. Plot the mean of the height of girls dataset"
      ],
      "metadata": {
        "id": "zkoJzlTOhPFZ"
      }
    },
    {
      "cell_type": "code",
      "source": [
        "## Type the code here\n",
        "import matplotlib.pyplot as plt\n",
        "import seaborn as sns\n",
        "\n",
        "sns.distplot([0,152.5])\n",
        "\n",
        "plt.show()"
      ],
      "metadata": {
        "id": "jLANOsCOhVbk",
        "colab": {
          "base_uri": "https://localhost:8080/",
          "height": 323
        },
        "outputId": "b63b774d-b386-4a71-e9a1-9a6eaa247bf6"
      },
      "execution_count": null,
      "outputs": [
        {
          "output_type": "stream",
          "name": "stderr",
          "text": [
            "/usr/local/lib/python3.7/dist-packages/seaborn/distributions.py:2619: FutureWarning: `distplot` is a deprecated function and will be removed in a future version. Please adapt your code to use either `displot` (a figure-level function with similar flexibility) or `histplot` (an axes-level function for histograms).\n",
            "  warnings.warn(msg, FutureWarning)\n"
          ]
        },
        {
          "output_type": "display_data",
          "data": {
            "text/plain": [
              "<Figure size 432x288 with 1 Axes>"
            ],
            "image/png": "[encoded data removed]"
          },
          "metadata": {}
        }
      ]
    },
    {
      "cell_type": "markdown",
      "source": [
        "Use the dataset humidity and temperature dataset for part 2, do the following \n",
        "1. read the dataset\n",
        "2. get the descriptive statistics\n",
        "3. visualize humidity vs temparature\n",
        "4. plot the attributes distribution ( humidity)\n",
        "5. plot the attributes distribution ( Temperature)"
      ],
      "metadata": {
        "id": "1R0u2V-OjNlc"
      }
    },
    {
      "cell_type": "markdown",
      "metadata": {
        "id": "fuhXx0Xx_RGn"
      },
      "source": [
        "# Part 2: Scaling and Sampling\n",
        "Read the dataset and get the descriptive statistic"
      ]
    },
    {
      "cell_type": "code",
      "execution_count": null,
      "metadata": {
        "colab": {
          "base_uri": "https://localhost:8080/",
          "height": 300
        },
        "id": "mCfao4ff60ie",
        "outputId": "964e5e06-08f4-45ed-d591-2a31cf67a545"
      },
      "outputs": [
        {
          "output_type": "execute_result",
          "data": {
            "text/plain": [
              "             sample      humidity   temperature\n",
              "count  34198.000000  35093.000000  35093.000000\n",
              "mean   16786.608983     75.995508     51.052207\n",
              "std     9751.957697     26.560617      6.188243\n",
              "min        1.000000      8.000000     34.000000\n",
              "25%     8230.250000     57.000000     46.000000\n",
              "50%    16779.500000     86.000000     50.000000\n",
              "75%    25328.750000     97.000000     55.000000\n",
              "max    33133.000000    265.800000     71.000000"
            ],
            "text/html": [
              "\n",
              "  <div id=\"df-4e142689-7314-483f-8c18-87e89898f998\">\n",
              "    <div class=\"colab-df-container\">\n",
              "      <div>\n",
              "<style scoped>\n",
              "    .dataframe tbody tr th:only-of-type {\n",
              "        vertical-align: middle;\n",
              "    }\n",
              "\n",
              "    .dataframe tbody tr th {\n",
              "        vertical-align: top;\n",
              "    }\n",
              "\n",
              "    .dataframe thead th {\n",
              "        text-align: right;\n",
              "    }\n",
              "</style>\n",
              "<table border=\"1\" class=\"dataframe\">\n",
              "  <thead>\n",
              "    <tr style=\"text-align: right;\">\n",
              "      <th></th>\n",
              "      <th>sample</th>\n",
              "      <th>humidity</th>\n",
              "      <th>temperature</th>\n",
              "    </tr>\n",
              "  </thead>\n",
              "  <tbody>\n",
              "    <tr>\n",
              "      <th>count</th>\n",
              "      <td>34198.000000</td>\n",
              "      <td>35093.000000</td>\n",
              "      <td>35093.000000</td>\n",
              "    </tr>\n",
              "    <tr>\n",
              "      <th>mean</th>\n",
              "      <td>16786.608983</td>\n",
              "      <td>75.995508</td>\n",
              "      <td>51.052207</td>\n",
              "    </tr>\n",
              "    <tr>\n",
              "      <th>std</th>\n",
              "      <td>9751.957697</td>\n",
              "      <td>26.560617</td>\n",
              "      <td>6.188243</td>\n",
              "    </tr>\n",
              "    <tr>\n",
              "      <th>min</th>\n",
              "      <td>1.000000</td>\n",
              "      <td>8.000000</td>\n",
              "      <td>34.000000</td>\n",
              "    </tr>\n",
              "    <tr>\n",
              "      <th>25%</th>\n",
              "      <td>8230.250000</td>\n",
              "      <td>57.000000</td>\n",
              "      <td>46.000000</td>\n",
              "    </tr>\n",
              "    <tr>\n",
              "      <th>50%</th>\n",
              "      <td>16779.500000</td>\n",
              "      <td>86.000000</td>\n",
              "      <td>50.000000</td>\n",
              "    </tr>\n",
              "    <tr>\n",
              "      <th>75%</th>\n",
              "      <td>25328.750000</td>\n",
              "      <td>97.000000</td>\n",
              "      <td>55.000000</td>\n",
              "    </tr>\n",
              "    <tr>\n",
              "      <th>max</th>\n",
              "      <td>33133.000000</td>\n",
              "      <td>265.800000</td>\n",
              "      <td>71.000000</td>\n",
              "    </tr>\n",
              "  </tbody>\n",
              "</table>\n",
              "</div>\n",
              "      <button class=\"colab-df-convert\" onclick=\"convertToInteractive('df-4e142689-7314-483f-8c18-87e89898f998')\"\n",
              "              title=\"Convert this dataframe to an interactive table.\"\n",
              "              style=\"display:none;\">\n",
              "        \n",
              "  <svg xmlns=\"http://www.w3.org/2000/svg\" height=\"24px\"viewBox=\"0 0 24 24\"\n",
              "       width=\"24px\">\n",
              "    <path d=\"M0 0h24v24H0V0z\" fill=\"none\"/>\n",
              "    <path d=\"M18.56 5.44l.94 2.06.94-2.06 2.06-.94-2.06-.94-.94-2.06-.94 2.06-2.06.94zm-11 1L8.5 8.5l.94-2.06 2.06-.94-2.06-.94L8.5 2.5l-.94 2.06-2.06.94zm10 10l.94 2.06.94-2.06 2.06-.94-2.06-.94-.94-2.06-.94 2.06-2.06.94z\"/><path d=\"M17.41 7.96l-1.37-1.37c-.4-.4-.92-.59-1.43-.59-.52 0-1.04.2-1.43.59L10.3 9.45l-7.72 7.72c-.78.78-.78 2.05 0 2.83L4 21.41c.39.39.9.59 1.41.59.51 0 1.02-.2 1.41-.59l7.78-7.78 2.81-2.81c.8-.78.8-2.07 0-2.86zM5.41 20L4 18.59l7.72-7.72 1.47 1.35L5.41 20z\"/>\n",
              "  </svg>\n",
              "      </button>\n",
              "      \n",
              "  <style>\n",
              "    .colab-df-container {\n",
              "      display:flex;\n",
              "      flex-wrap:wrap;\n",
              "      gap: 12px;\n",
              "    }\n",
              "\n",
              "    .colab-df-convert {\n",
              "      background-color: #E8F0FE;\n",
              "      border: none;\n",
              "      border-radius: 50%;\n",
              "      cursor: pointer;\n",
              "      display: none;\n",
              "      fill: #1967D2;\n",
              "      height: 32px;\n",
              "      padding: 0 0 0 0;\n",
              "      width: 32px;\n",
              "    }\n",
              "\n",
              "    .colab-df-convert:hover {\n",
              "      background-color: #E2EBFA;\n",
              "      box-shadow: 0px 1px 2px rgba(60, 64, 67, 0.3), 0px 1px 3px 1px rgba(60, 64, 67, 0.15);\n",
              "      fill: #174EA6;\n",
              "    }\n",
              "\n",
              "    [theme=dark] .colab-df-convert {\n",
              "      background-color: #3B4455;\n",
              "      fill: #D2E3FC;\n",
              "    }\n",
              "\n",
              "    [theme=dark] .colab-df-convert:hover {\n",
              "      background-color: #434B5C;\n",
              "      box-shadow: 0px 1px 3px 1px rgba(0, 0, 0, 0.15);\n",
              "      filter: drop-shadow(0px 1px 2px rgba(0, 0, 0, 0.3));\n",
              "      fill: #FFFFFF;\n",
              "    }\n",
              "  </style>\n",
              "\n",
              "      <script>\n",
              "        const buttonEl =\n",
              "          document.querySelector('#df-4e142689-7314-483f-8c18-87e89898f998 button.colab-df-convert');\n",
              "        buttonEl.style.display =\n",
              "          google.colab.kernel.accessAllowed ? 'block' : 'none';\n",
              "\n",
              "        async function convertToInteractive(key) {\n",
              "          const element = document.querySelector('#df-4e142689-7314-483f-8c18-87e89898f998');\n",
              "          const dataTable =\n",
              "            await google.colab.kernel.invokeFunction('convertToInteractive',\n",
              "                                                     [key], {});\n",
              "          if (!dataTable) return;\n",
              "\n",
              "          const docLinkHtml = 'Like what you see? Visit the ' +\n",
              "            '<a target=\"_blank\" href=https://colab.research.google.com/notebooks/data_table.ipynb>data table notebook</a>'\n",
              "            + ' to learn more about interactive tables.';\n",
              "          element.innerHTML = '';\n",
              "          dataTable['output_type'] = 'display_data';\n",
              "          await google.colab.output.renderOutput(dataTable, element);\n",
              "          const docLink = document.createElement('div');\n",
              "          docLink.innerHTML = docLinkHtml;\n",
              "          element.appendChild(docLink);\n",
              "        }\n",
              "      </script>\n",
              "    </div>\n",
              "  </div>\n",
              "  "
            ]
          },
          "metadata": {},
          "execution_count": 62
        }
      ],
      "source": [
        "df = pd.read_csv('humidity_Temperature.csv')\n",
        "df.describe()"
      ]
    },
    {
      "cell_type": "markdown",
      "source": [
        "Visualize humidity vs temperature"
      ],
      "metadata": {
        "id": "aTJqbLz8i5RD"
      }
    },
    {
      "cell_type": "code",
      "execution_count": null,
      "metadata": {
        "colab": {
          "base_uri": "https://localhost:8080/",
          "height": 340
        },
        "id": "uJzXVtaU7kTU",
        "outputId": "1ec0d2f9-c056-406b-974d-ebcee817af2f"
      },
      "outputs": [
        {
          "output_type": "stream",
          "name": "stderr",
          "text": [
            "/usr/local/lib/python3.7/dist-packages/seaborn/distributions.py:2619: FutureWarning: `distplot` is a deprecated function and will be removed in a future version. Please adapt your code to use either `displot` (a figure-level function with similar flexibility) or `histplot` (an axes-level function for histograms).\n",
            "  warnings.warn(msg, FutureWarning)\n"
          ]
        },
        {
          "output_type": "display_data",
          "data": {
            "text/plain": [
              "<Figure size 432x288 with 1 Axes>"
            ],
            "image/png": "[encoded data removed]"
          },
          "metadata": {}
        }
      ],
      "source": [
        "sns.distplot(df['humidity'],50)\n",
        "plt.show()"
      ]
    },
    {
      "cell_type": "code",
      "execution_count": null,
      "metadata": {
        "colab": {
          "base_uri": "https://localhost:8080/",
          "height": 340
        },
        "id": "GW7M67CT7CqV",
        "outputId": "d380b7f6-7903-451d-e8bf-1a92f194a0a6"
      },
      "outputs": [
        {
          "output_type": "stream",
          "name": "stderr",
          "text": [
            "/usr/local/lib/python3.7/dist-packages/seaborn/distributions.py:2619: FutureWarning: `distplot` is a deprecated function and will be removed in a future version. Please adapt your code to use either `displot` (a figure-level function with similar flexibility) or `histplot` (an axes-level function for histograms).\n",
            "  warnings.warn(msg, FutureWarning)\n"
          ]
        },
        {
          "output_type": "display_data",
          "data": {
            "text/plain": [
              "<Figure size 432x288 with 1 Axes>"
            ],
            "image/png": "[encoded data removed]"
          },
          "metadata": {}
        }
      ],
      "source": [
        "sns.distplot(df['temperature'],50)\n",
        "plt.show()"
      ]
    },
    {
      "cell_type": "markdown",
      "metadata": {
        "id": "fGCzySsWAHW4"
      },
      "source": [
        "Plot the altributes distribution of humidity and temperature"
      ]
    },
    {
      "cell_type": "code",
      "execution_count": null,
      "metadata": {
        "id": "NNBeoppf8ox2"
      },
      "outputs": [],
      "source": [
        "X = df[['humidity']]"
      ]
    },
    {
      "cell_type": "code",
      "execution_count": null,
      "metadata": {
        "colab": {
          "base_uri": "https://localhost:8080/",
          "height": 285
        },
        "id": "g_q9fukj84aI",
        "outputId": "b10a126b-e5e2-4821-e7ca-031afeebf855"
      },
      "outputs": [
        {
          "output_type": "execute_result",
          "data": {
            "text/plain": [
              "<matplotlib.axes._subplots.AxesSubplot at 0x7f65381a8890>"
            ]
          },
          "metadata": {},
          "execution_count": 76
        },
        {
          "output_type": "display_data",
          "data": {
            "text/plain": [
              "<Figure size 432x288 with 1 Axes>"
            ],
            "image/png": "[encoded data removed]"
          },
          "metadata": {}
        }
      ],
      "source": [
        "X.plot()"
      ]
    },
    {
      "cell_type": "code",
      "execution_count": null,
      "metadata": {
        "id": "45AHe-pV8mMG"
      },
      "outputs": [],
      "source": [
        "X = df[['temperature']]"
      ]
    },
    {
      "cell_type": "code",
      "source": [
        "X.plot()"
      ],
      "metadata": {
        "colab": {
          "base_uri": "https://localhost:8080/",
          "height": 285
        },
        "id": "KkMI1e4EiqYE",
        "outputId": "8c430737-3308-44c6-c7c8-ec8d03d67dda"
      },
      "execution_count": null,
      "outputs": [
        {
          "output_type": "execute_result",
          "data": {
            "text/plain": [
              "<matplotlib.axes._subplots.AxesSubplot at 0x7f653ac9ddd0>"
            ]
          },
          "metadata": {},
          "execution_count": 81
        },
        {
          "output_type": "display_data",
          "data": {
            "text/plain": [
              "<Figure size 432x288 with 1 Axes>"
            ],
            "image/png": "[encoded data removed]"
          },
          "metadata": {}
        }
      ]
    },
    {
      "cell_type": "markdown",
      "metadata": {
        "id": "Lptr8iGD9Twn"
      },
      "source": [
        "## 3.3 Standardization\n",
        "Standardization is another scaling technique where the values are centered around the mean with a unit standard deviation. This means that the mean of the attribute becomes zero and the resultant distribution has a unit standard deviation.\n",
        "\n",
        "$$\\frac{X-\\mu}{\\sigma}$$"
      ]
    },
    {
      "cell_type": "code",
      "execution_count": null,
      "metadata": {
        "id": "s5je3Tyf9S5n"
      },
      "outputs": [],
      "source": [
        "from sklearn.preprocessing import StandardScaler\n",
        "## Set the scaler by fitting the dataset\n",
        "std_scaler = StandardScaler()\n",
        "standard = std_scaler.fit(X)\n",
        "## Transform the target dataset\n",
        "X_standard = standard.transform(X)"
      ]
    },
    {
      "cell_type": "code",
      "execution_count": null,
      "metadata": {
        "colab": {
          "base_uri": "https://localhost:8080/",
          "height": 387
        },
        "id": "zt8bZLoj9jWm",
        "outputId": "b47c674e-cfed-4bc3-db7e-761b55185f2d"
      },
      "outputs": [
        {
          "data": {
            "text/plain": [
              "<seaborn.axisgrid.FacetGrid at 0x7faf9c803e90>"
            ]
          },
          "execution_count": 31,
          "metadata": {},
          "output_type": "execute_result"
        },
        {
          "data": {
            "image/png": "[encoded data removed]",
            "text/plain": [
              "<Figure size 402.375x360 with 1 Axes>"
            ]
          },
          "metadata": {},
          "output_type": "display_data"
        }
      ],
      "source": [
        "sns.displot(X_standard)"
      ]
    },
    {
      "cell_type": "markdown",
      "metadata": {
        "id": "ctKqUVk2_UE4"
      },
      "source": [
        "# Part 4: Probabilities\n",
        "Probaility theory is another fundamental concept in Machine Learning since our machine algorithms are probabilistic. In this section we are going to try to understand probabilities and programming concepts.\n",
        "\n",
        "Probabilty explains the likelihood of a certain occurance. We denote probability with $P$. The probability of an occurance is always normal so it must be between 1 and 0."
      ]
    },
    {
      "cell_type": "markdown",
      "metadata": {
        "id": "8Q6QFhd8AT9Q"
      },
      "source": [
        "## 4.1 Conditional Probability\n",
        "\n",
        "Is a measure of the probability of an event occurring, given that another event (by assumption, presumption, assertion or evidence) has already occurred. It can be solved as:\n",
        "$$P(A|B) = \\frac{P(A\\cap B)}{P(B)}$$\n",
        "\n"
      ]
    },
    {
      "cell_type": "code",
      "execution_count": null,
      "metadata": {
        "id": "YmvPWbKJFl_5"
      },
      "outputs": [],
      "source": [
        "albert_travel = {\n",
        "    'countries': ['CN','JP','CN','MY','PH','CN','UK','CN','NZ','SG','TW'],\n",
        "    'month': ['JAN','JAN','MAR','MAR','MAY','MAY','JUL','JUL','SEP','SEP','DEC']\n",
        "    \n",
        "}\n",
        "barbara_travel = {\n",
        "    'countries': ['PH','TW','PH','MY','PH','SG','PH','UK','PH'],\n",
        "    'month': ['JAN','FEB','FEB','MAR','APR','MAY','JUN','SEP','OCT']\n",
        "}\n",
        "a_travel_df = pd.DataFrame(albert_travel)\n",
        "b_travel_df = pd.DataFrame(barbara_travel)"
      ]
    },
    {
      "cell_type": "code",
      "execution_count": null,
      "metadata": {
        "colab": {
          "base_uri": "https://localhost:8080/"
        },
        "id": "7Lvl2OGZKCOb",
        "outputId": "3c00fa63-8d7b-4efe-91c5-5dcb39027d1d"
      },
      "outputs": [
        {
          "data": {
            "text/plain": [
              "0    MY\n",
              "1    PH\n",
              "2    PH\n",
              "3    PH\n",
              "4    PH\n",
              "5    PH\n",
              "6    UK\n",
              "7    SG\n",
              "8    TW\n",
              "Name: countries, dtype: object"
            ]
          },
          "execution_count": 4,
          "metadata": {},
          "output_type": "execute_result"
        }
      ],
      "source": [
        "### DataFrame Intersection (Inner Join)\n",
        "A = a_travel_df\n",
        "B = b_travel_df\n",
        "A_inner_B = pd.merge(A,B, how='inner', on='countries')['countries']\n",
        "A_inner_B"
      ]
    },
    {
      "cell_type": "code",
      "execution_count": null,
      "metadata": {
        "colab": {
          "base_uri": "https://localhost:8080/"
        },
        "id": "8hxkjYs6N1NF",
        "outputId": "a88c9ab5-e414-4c7e-eeeb-3d2db8b80f92"
      },
      "outputs": [
        {
          "data": {
            "text/plain": [
              "0.8181818181818182"
            ]
          },
          "execution_count": 5,
          "metadata": {},
          "output_type": "execute_result"
        }
      ],
      "source": [
        "## Occurence Records\n",
        "A = a_travel_df['countries']\n",
        "B = b_travel_df['countries']\n",
        "\n",
        "### Total Occurence\n",
        "total = A.count() + B.count()\n",
        "\n",
        "## Individual Probability\n",
        "prob_A = A.count() / total\n",
        "prob_B = B.count() / total\n",
        "\n",
        "## Conditional Probability\n",
        "cond_A_B = A_inner_B.count() / A.count()\n",
        "cond_B_A = A_inner_B.count() / B.count()\n",
        "\n",
        "cond_A_B"
      ]
    },
    {
      "cell_type": "markdown",
      "metadata": {
        "id": "ZOLhXKB6AOx3"
      },
      "source": [
        "## 4.2 Multiplication and Addition Rule\n",
        "\n",
        "\n",
        "\n",
        "### Addition Rule\n",
        "The probability of an event $A$ or $B$ happening $P(A \\text{ or } B)$ is also interpreted as the union of the proability of $A$ and $B$. It can be denoted as:\n",
        "$$P(A\\cup B) = P(A) + P(B) - P(A \\cap B)$$\n",
        "\n"
      ]
    },
    {
      "cell_type": "code",
      "execution_count": null,
      "metadata": {
        "colab": {
          "base_uri": "https://localhost:8080/"
        },
        "id": "H3WEPYrGQW-a",
        "outputId": "8de75d66-b983-4662-8ca9-97ed66eaeae7"
      },
      "outputs": [
        {
          "data": {
            "text/plain": [
              "0.55"
            ]
          },
          "execution_count": 36,
          "metadata": {},
          "output_type": "execute_result"
        }
      ],
      "source": [
        "### Additiona Rule\n",
        "int_A_B = A_inner_B.count() / total\n",
        "\n",
        "prob_A_B = prob_A + prob_B - int_A_B\n",
        "prob_A_B"
      ]
    },
    {
      "cell_type": "markdown",
      "metadata": {
        "id": "4ugi3D09_Xzv"
      },
      "source": [
        "# Part 5: Baye's Theorem\n",
        "Baye's theorem is taking conditional probabilities further in understanding inferences. Baye's rule or Baye's theorem is knowing new knowledge from current experiences. The current that we have or know is what we call the prior knowledge or *a priori*  while the knowledge that we learn or infer is *a posteriori*. Baye's theorem is a technique updating our belief system. That is why it is grealty used in statistical learning to improve inferences with data. We mathematically model Baye's Theorem as:\n",
        "$$P(A|B) = \\frac{P(B|A)P(A)}{P(B)}$$\n",
        "Let's try to dissect the theorem:\n",
        "\n",
        "> $P(A)$: is the prior knowledge or *a priori*\n",
        "\n",
        "> $P(B)$: is the scenario we are working on, which we use as a normalization term.\n",
        "\n",
        "> $P(B|A)$: is the likelihood of an event to happen given the current situation.\n",
        "\n",
        "> $P(A|B)$: is the posterior knowledge, or the belief update. We can also call it the *a posteriori*"
      ]
    },
    {
      "cell_type": "code",
      "execution_count": null,
      "metadata": {
        "id": "1nbkVxBNS3Z5"
      },
      "outputs": [],
      "source": []
    }
  ],
  "metadata": {
    "colab": {
      "collapsed_sections": [
        "jBE9QJ1z2cf8"
      ],
      "provenance": [],
      "include_colab_link": true
    },
    "kernelspec": {
      "display_name": "Python 3",
      "name": "python3"
    },
    "language_info": {
      "name": "python"
    }
  },
  "nbformat": 4,
  "nbformat_minor": 0
}